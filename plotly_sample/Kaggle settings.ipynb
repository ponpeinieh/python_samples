{
 "cells": [
  {
   "cell_type": "markdown",
   "id": "7ae4f9a6",
   "metadata": {},
   "source": [
    "### settings\n",
    "1. pip install opendataset\n",
    "2. Opendatasets allow us to easily import datasets from Kaggle. See an article [here](https://towardsdatascience.com/4-cool-python-libraries-that-you-should-know-about-bea9619e481c)\n",
    "3. Kaggle credentials settings - see [link]（https://github.com/JovianML/opendatasets/blob/master/README.md#kaggle-credentials）\n",
    "   - my Kaggle account email: ypnie108@gmail.com"
   ]
  }
 ],
 "metadata": {
  "kernelspec": {
   "display_name": "Python 3 (ipykernel)",
   "language": "python",
   "name": "python3"
  },
  "language_info": {
   "codemirror_mode": {
    "name": "ipython",
    "version": 3
   },
   "file_extension": ".py",
   "mimetype": "text/x-python",
   "name": "python",
   "nbconvert_exporter": "python",
   "pygments_lexer": "ipython3",
   "version": "3.10.0"
  }
 },
 "nbformat": 4,
 "nbformat_minor": 5
}
