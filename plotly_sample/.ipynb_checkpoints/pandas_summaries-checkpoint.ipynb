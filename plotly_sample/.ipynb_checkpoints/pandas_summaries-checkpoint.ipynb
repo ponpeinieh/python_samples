{
 "cells": [
  {
   "cell_type": "markdown",
   "id": "64e86673",
   "metadata": {},
   "source": [
    "### Pandas\n",
    "1. DataFrame \n",
    "   - DataFrame is a table\n",
    "   - Each entry has a value corresponding to a row and a column\n",
    "   - \"0,no\"entry is 10, \"1,yes\" is 200\n",
    "   - Syntax: a dict whose keys are the column names(eg. 'yes','no'), whose values are a list of entries(eg. [100,200]).\n",
    "   "
   ]
  },
  {
   "cell_type": "code",
   "execution_count": 2,
   "id": "cb634130",
   "metadata": {},
   "outputs": [
    {
     "data": {
      "text/html": [
       "<div>\n",
       "<style scoped>\n",
       "    .dataframe tbody tr th:only-of-type {\n",
       "        vertical-align: middle;\n",
       "    }\n",
       "\n",
       "    .dataframe tbody tr th {\n",
       "        vertical-align: top;\n",
       "    }\n",
       "\n",
       "    .dataframe thead th {\n",
       "        text-align: right;\n",
       "    }\n",
       "</style>\n",
       "<table border=\"1\" class=\"dataframe\">\n",
       "  <thead>\n",
       "    <tr style=\"text-align: right;\">\n",
       "      <th></th>\n",
       "      <th>yes</th>\n",
       "      <th>no</th>\n",
       "    </tr>\n",
       "  </thead>\n",
       "  <tbody>\n",
       "    <tr>\n",
       "      <th>0</th>\n",
       "      <td>100</td>\n",
       "      <td>10</td>\n",
       "    </tr>\n",
       "    <tr>\n",
       "      <th>1</th>\n",
       "      <td>200</td>\n",
       "      <td>20</td>\n",
       "    </tr>\n",
       "  </tbody>\n",
       "</table>\n",
       "</div>"
      ],
      "text/plain": [
       "   yes  no\n",
       "0  100  10\n",
       "1  200  20"
      ]
     },
     "execution_count": 2,
     "metadata": {},
     "output_type": "execute_result"
    }
   ],
   "source": [
    "import pandas as pd\n",
    "pd.DataFrame({'yes':[100,200],'no':[10,20]})\n"
   ]
  },
  {
   "cell_type": "code",
   "execution_count": 3,
   "id": "b84d88e1",
   "metadata": {},
   "outputs": [
    {
     "data": {
      "text/html": [
       "<div>\n",
       "<style scoped>\n",
       "    .dataframe tbody tr th:only-of-type {\n",
       "        vertical-align: middle;\n",
       "    }\n",
       "\n",
       "    .dataframe tbody tr th {\n",
       "        vertical-align: top;\n",
       "    }\n",
       "\n",
       "    .dataframe thead th {\n",
       "        text-align: right;\n",
       "    }\n",
       "</style>\n",
       "<table border=\"1\" class=\"dataframe\">\n",
       "  <thead>\n",
       "    <tr style=\"text-align: right;\">\n",
       "      <th></th>\n",
       "      <th>Bob</th>\n",
       "      <th>Sue</th>\n",
       "    </tr>\n",
       "  </thead>\n",
       "  <tbody>\n",
       "    <tr>\n",
       "      <th>0</th>\n",
       "      <td>I liked it.</td>\n",
       "      <td>Pretty good!</td>\n",
       "    </tr>\n",
       "    <tr>\n",
       "      <th>1</th>\n",
       "      <td>It was awful.</td>\n",
       "      <td>Great!</td>\n",
       "    </tr>\n",
       "  </tbody>\n",
       "</table>\n",
       "</div>"
      ],
      "text/plain": [
       "             Bob           Sue\n",
       "0    I liked it.  Pretty good!\n",
       "1  It was awful.        Great!"
      ]
     },
     "execution_count": 3,
     "metadata": {},
     "output_type": "execute_result"
    }
   ],
   "source": [
    "# entry value is a string\n",
    "pd.DataFrame({'Bob':['I liked it.','It was awful.'],'Sue':['Pretty good!','Great!']})"
   ]
  },
  {
   "cell_type": "markdown",
   "id": "e6fc3b42",
   "metadata": {},
   "source": [
    "- default use an ascending count from 0 for the row labels\n",
    "- we can assign the labels outselves - using index "
   ]
  },
  {
   "cell_type": "code",
   "execution_count": 4,
   "id": "e8e3e83d",
   "metadata": {},
   "outputs": [
    {
     "data": {
      "text/html": [
       "<div>\n",
       "<style scoped>\n",
       "    .dataframe tbody tr th:only-of-type {\n",
       "        vertical-align: middle;\n",
       "    }\n",
       "\n",
       "    .dataframe tbody tr th {\n",
       "        vertical-align: top;\n",
       "    }\n",
       "\n",
       "    .dataframe thead th {\n",
       "        text-align: right;\n",
       "    }\n",
       "</style>\n",
       "<table border=\"1\" class=\"dataframe\">\n",
       "  <thead>\n",
       "    <tr style=\"text-align: right;\">\n",
       "      <th></th>\n",
       "      <th>Bob</th>\n",
       "      <th>Sue</th>\n",
       "    </tr>\n",
       "  </thead>\n",
       "  <tbody>\n",
       "    <tr>\n",
       "      <th>Opinion B</th>\n",
       "      <td>I liked it.</td>\n",
       "      <td>Pretty good!</td>\n",
       "    </tr>\n",
       "    <tr>\n",
       "      <th>Answer B</th>\n",
       "      <td>It was awful.</td>\n",
       "      <td>Great!</td>\n",
       "    </tr>\n",
       "  </tbody>\n",
       "</table>\n",
       "</div>"
      ],
      "text/plain": [
       "                     Bob           Sue\n",
       "Opinion B    I liked it.  Pretty good!\n",
       "Answer B   It was awful.        Great!"
      ]
     },
     "execution_count": 4,
     "metadata": {},
     "output_type": "execute_result"
    }
   ],
   "source": [
    "pd.DataFrame({'Bob':['I liked it.','It was awful.'],'Sue':['Pretty good!','Great!']}, index=['Opinion B', 'Answer B'])"
   ]
  },
  {
   "cell_type": "markdown",
   "id": "9c785ac8",
   "metadata": {},
   "source": [
    "2. Series\n",
    "   - a sequence of data values\n",
    "   - If DataFrame is a table, a Series is a list\n",
    "   - a single column of a DataFrame\n",
    "   - use 'index' to assign row labels\n",
    "   - it does not have a column name\n",
    "   - but it has a 'name' attribute\n",
    "   - a DataFrame glues together a bunch of Series"
   ]
  },
  {
   "cell_type": "code",
   "execution_count": 5,
   "id": "d54e7891",
   "metadata": {},
   "outputs": [
    {
     "data": {
      "text/plain": [
       "0    1\n",
       "1    2\n",
       "2    3\n",
       "3    4\n",
       "4    5\n",
       "dtype: int64"
      ]
     },
     "execution_count": 5,
     "metadata": {},
     "output_type": "execute_result"
    }
   ],
   "source": [
    "pd.Series([1,2,3,4,5])"
   ]
  },
  {
   "cell_type": "code",
   "execution_count": 9,
   "id": "cb7c08b4",
   "metadata": {},
   "outputs": [
    {
     "data": {
      "text/plain": [
       "2015 Sales    155\n",
       "2016 Sales    342\n",
       "2017 Sales    119\n",
       "Name: Product A, dtype: int64"
      ]
     },
     "execution_count": 9,
     "metadata": {},
     "output_type": "execute_result"
    }
   ],
   "source": [
    "pd.Series([155,342,119],index=['2015 Sales','2016 Sales','2017 Sales'], name='Product A')"
   ]
  },
  {
   "cell_type": "markdown",
   "id": "4b971aba",
   "metadata": {},
   "source": [
    "### reading data files\n",
    "1. read from CSV files\n",
    "   - pd.read_csv()"
   ]
  },
  {
   "cell_type": "code",
   "execution_count": null,
   "id": "87e0344d",
   "metadata": {},
   "outputs": [],
   "source": []
  }
 ],
 "metadata": {
  "kernelspec": {
   "display_name": "Python 3 (ipykernel)",
   "language": "python",
   "name": "python3"
  },
  "language_info": {
   "codemirror_mode": {
    "name": "ipython",
    "version": 3
   },
   "file_extension": ".py",
   "mimetype": "text/x-python",
   "name": "python",
   "nbconvert_exporter": "python",
   "pygments_lexer": "ipython3",
   "version": "3.10.2"
  }
 },
 "nbformat": 4,
 "nbformat_minor": 5
}
