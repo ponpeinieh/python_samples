{
 "cells": [
  {
   "cell_type": "markdown",
   "id": "39acd424",
   "metadata": {},
   "source": [
    "### install spacy\n",
    "1. reference tutorial video : https://www.youtube.com/watch?v=dIUTsFT2MeQ&t=1339s\n",
    "1. go to https://spacy.io/usage\n",
    "2. specify your environment\n",
    "3. get the install commands\n",
    "   - pip install -U pip setuptools wheel\n",
    "   - pip install -U spacy\n",
    "   - python -m spacy download en_core_web_sm"
   ]
  },
  {
   "cell_type": "code",
   "execution_count": 1,
   "id": "3fed105c",
   "metadata": {},
   "outputs": [],
   "source": [
    "import spacy"
   ]
  },
  {
   "cell_type": "code",
   "execution_count": 2,
   "id": "cea0f86a",
   "metadata": {},
   "outputs": [],
   "source": [
    "nlp = spacy.load('en_core_web_sm')"
   ]
  }
 ],
 "metadata": {
  "kernelspec": {
   "display_name": "Python 3 (ipykernel)",
   "language": "python",
   "name": "python3"
  },
  "language_info": {
   "codemirror_mode": {
    "name": "ipython",
    "version": 3
   },
   "file_extension": ".py",
   "mimetype": "text/x-python",
   "name": "python",
   "nbconvert_exporter": "python",
   "pygments_lexer": "ipython3",
   "version": "3.10.2"
  }
 },
 "nbformat": 4,
 "nbformat_minor": 5
}
