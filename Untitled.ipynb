{
 "cells": [
  {
   "cell_type": "code",
   "execution_count": 6,
   "id": "9cbd9c2b",
   "metadata": {},
   "outputs": [
    {
     "name": "stdout",
     "output_type": "stream",
     "text": [
      "Hello world!\n"
     ]
    }
   ],
   "source": [
    "# function函數 \n",
    "# def : define (定義)\n",
    "# 回傳結果不需要宣告\n",
    "def hello():\n",
    "    \"\"\" Hello()是一個打招呼的函數\"\"\"\n",
    "    print(f\"Hello world!\")\n",
    "    \n",
    "#呼叫hello()\n",
    "hello()    "
   ]
  },
  {
   "cell_type": "code",
   "execution_count": 7,
   "id": "f3f586d6",
   "metadata": {},
   "outputs": [
    {
     "name": "stdout",
     "output_type": "stream",
     "text": [
      " Hello()是一個打招呼的函數\n"
     ]
    }
   ],
   "source": [
    "print(hello.__doc__)"
   ]
  },
  {
   "cell_type": "code",
   "execution_count": 2,
   "id": "1d307a15",
   "metadata": {},
   "outputs": [
    {
     "name": "stdout",
     "output_type": "stream",
     "text": [
      "Hello John\n"
     ]
    }
   ],
   "source": [
    "def hello2(name):\n",
    "    print(f\"Hello {name}\")\n",
    "hello2('John')"
   ]
  },
  {
   "cell_type": "code",
   "execution_count": 3,
   "id": "6c171a48",
   "metadata": {},
   "outputs": [
    {
     "name": "stdout",
     "output_type": "stream",
     "text": [
      "Hello, John\n"
     ]
    }
   ],
   "source": [
    "#多個參數\n",
    "def hello3(msg, name):\n",
    "    print(f\"{msg}, {name}\")\n",
    "hello3('Hello', 'John')"
   ]
  },
  {
   "cell_type": "code",
   "execution_count": 10,
   "id": "62c1cc0d",
   "metadata": {},
   "outputs": [
    {
     "name": "stdout",
     "output_type": "stream",
     "text": [
      "200\n"
     ]
    }
   ],
   "source": [
    "#回傳結果\n",
    "def multiply(number1, number2):\n",
    "    \"\"\" 這是一個乘法的函數 \"\"\"\n",
    "    result = number1* number2\n",
    "    return result\n",
    "\n",
    "n = 10\n",
    "m = 20\n",
    "print(multiply(n,m))"
   ]
  },
  {
   "cell_type": "code",
   "execution_count": 13,
   "id": "e0926310",
   "metadata": {},
   "outputs": [
    {
     "name": "stdout",
     "output_type": "stream",
     "text": [
      " 這是一個乘法的函數 \n"
     ]
    }
   ],
   "source": [
    "print(multiply.__doc__)"
   ]
  },
  {
   "cell_type": "code",
   "execution_count": 14,
   "id": "9e4908ba",
   "metadata": {},
   "outputs": [
    {
     "data": {
      "text/plain": [
       "\"print(value, ..., sep=' ', end='\\\\n', file=sys.stdout, flush=False)\\n\\nPrints the values to a stream, or to sys.stdout by default.\\nOptional keyword arguments:\\nfile:  a file-like object (stream); defaults to the current sys.stdout.\\nsep:   string inserted between values, default a space.\\nend:   string appended after the last value, default a newline.\\nflush: whether to forcibly flush the stream.\""
      ]
     },
     "execution_count": 14,
     "metadata": {},
     "output_type": "execute_result"
    }
   ],
   "source": [
    "print.__doc__"
   ]
  },
  {
   "cell_type": "code",
   "execution_count": 15,
   "id": "b08606a7",
   "metadata": {},
   "outputs": [
    {
     "data": {
      "text/plain": [
       "'Built-in mutable sequence.\\n\\nIf no argument is given, the constructor creates a new empty list.\\nThe argument must be an iterable if specified.'"
      ]
     },
     "execution_count": 15,
     "metadata": {},
     "output_type": "execute_result"
    }
   ],
   "source": [
    "list.__doc__"
   ]
  },
  {
   "cell_type": "code",
   "execution_count": 17,
   "id": "e416086e",
   "metadata": {},
   "outputs": [
    {
     "data": {
      "text/plain": [
       "'Return random integer in range [a, b], including both end points.\\n        '"
      ]
     },
     "execution_count": 17,
     "metadata": {},
     "output_type": "execute_result"
    }
   ],
   "source": [
    "import random\n",
    "random.randint.__doc__"
   ]
  },
  {
   "cell_type": "code",
   "execution_count": 18,
   "id": "fcd9510f",
   "metadata": {},
   "outputs": [
    {
     "name": "stdout",
     "output_type": "stream",
     "text": [
      "我有一隻寵物狗, 名字叫做Lucky\n"
     ]
    }
   ],
   "source": [
    "#描述寵物的函數\n",
    "def describe_pet(animal_type, pet_name):\n",
    "    print(f\"我有一隻寵物{animal_type}, 名字叫做{pet_name}\")\n",
    "#呼叫方式一：位置參數\n",
    "describe_pet('狗','Lucky')"
   ]
  },
  {
   "cell_type": "code",
   "execution_count": 20,
   "id": "da663de3",
   "metadata": {},
   "outputs": [
    {
     "name": "stdout",
     "output_type": "stream",
     "text": [
      "我有一隻寵物狗, 名字叫做Lucky\n"
     ]
    }
   ],
   "source": [
    "# 呼叫方式二：關鍵字參數\n",
    "describe_pet(animal_type='狗', pet_name='Lucky')"
   ]
  },
  {
   "cell_type": "code",
   "execution_count": 22,
   "id": "9d636189",
   "metadata": {},
   "outputs": [
    {
     "name": "stdout",
     "output_type": "stream",
     "text": [
      "我有一隻寵物狗, 名字叫做Lucky\n"
     ]
    }
   ],
   "source": [
    "describe_pet(pet_name='Lucky',animal_type='狗')"
   ]
  },
  {
   "cell_type": "code",
   "execution_count": 23,
   "id": "51ca3c30",
   "metadata": {},
   "outputs": [
    {
     "name": "stdout",
     "output_type": "stream",
     "text": [
      "Hello, None\n"
     ]
    }
   ],
   "source": [
    "#參數可以有預設值\n",
    "#多個參數\n",
    "def hello3(msg='Hello', name='None'):\n",
    "    print(f\"{msg}, {name}\")\n",
    "#hello3('Hello', 'John')\n",
    "hello3()"
   ]
  },
  {
   "cell_type": "code",
   "execution_count": 25,
   "id": "a5103de3",
   "metadata": {},
   "outputs": [
    {
     "name": "stdout",
     "output_type": "stream",
     "text": [
      "Good day, None\n"
     ]
    }
   ],
   "source": [
    "hello3('Good day')"
   ]
  },
  {
   "cell_type": "code",
   "execution_count": 27,
   "id": "88b8e8fa",
   "metadata": {},
   "outputs": [
    {
     "name": "stdout",
     "output_type": "stream",
     "text": [
      "Hello, Tom\n"
     ]
    }
   ],
   "source": [
    "hello3(name='Tom')"
   ]
  },
  {
   "cell_type": "code",
   "execution_count": 29,
   "id": "c41aef1a",
   "metadata": {},
   "outputs": [
    {
     "name": "stdout",
     "output_type": "stream",
     "text": [
      "我有一隻寵物狗, 名字叫做lucky\n"
     ]
    }
   ],
   "source": [
    "def describe_pet(pet_name,animal_type='狗'):\n",
    "    print(f\"我有一隻寵物{animal_type}, 名字叫做{pet_name}\")\n",
    "describe_pet('lucky')"
   ]
  },
  {
   "cell_type": "code",
   "execution_count": 31,
   "id": "233d6db0",
   "metadata": {},
   "outputs": [
    {
     "name": "stdout",
     "output_type": "stream",
     "text": [
      "我有一隻寵物lucky, 名字叫做狗\n",
      "我有一隻寵物貓, 名字叫做Lucky\n",
      "我有一隻寵物狗, 名字叫做Strike\n",
      "我有一隻寵物狗, 名字叫做Strike\n"
     ]
    }
   ],
   "source": [
    "describe_pet('狗','lucky')\n",
    "describe_pet(pet_name='Lucky',animal_type='貓')\n",
    "describe_pet('Strike')\n",
    "describe_pet(pet_name=\"Strike\")"
   ]
  },
  {
   "cell_type": "markdown",
   "id": "a68787df",
   "metadata": {},
   "source": [
    "### 練習: T-shirt\n",
    "- 定義一個make_shirt()函數, 接受兩個參數: size(代表Shirt尺寸), text_to_print(列印在Shirt上的文字)\n",
    "- 函數中列印size及text_to_print\n",
    "- 呼叫這個函數, 傳入positional(位置) arguments\n",
    "- 呼叫這個函數, 傳入keyword（關鍵字） arguments\n",
    "\n",
    "### 練習: Large shirt\n",
    "- 如上面練習, 但是以'large'爲size參數的預設值, 'I code Python!'爲text_to_print的預設值\n",
    "- 以下方式呼叫該函數:\n",
    "- Large Shirt, 預設訊息\n",
    "- Medium Shirt, 預設訊息\n",
    "- Small Shirt, \"I use Jupyter Notebook too!\""
   ]
  },
  {
   "cell_type": "code",
   "execution_count": 33,
   "id": "3d3a4a55",
   "metadata": {},
   "outputs": [
    {
     "name": "stdout",
     "output_type": "stream",
     "text": [
      "('John', 'Smith')\n"
     ]
    }
   ],
   "source": [
    "#回傳多個資料， 使用tuple\n",
    "def get_full_name(firstname, lastname):\n",
    "    #建立tuple\n",
    "    fullname = (firstname,lastname)\n",
    "    return fullname\n",
    "\n",
    "my_fullname = get_full_name('John','Smith')\n",
    "print(my_fullname)"
   ]
  },
  {
   "cell_type": "code",
   "execution_count": 35,
   "id": "33066196",
   "metadata": {},
   "outputs": [
    {
     "data": {
      "text/plain": [
       "('John', 'Smith', 'Steve')"
      ]
     },
     "execution_count": 35,
     "metadata": {},
     "output_type": "execute_result"
    }
   ],
   "source": [
    "def get_full_name(firstname, lastname, middlename=''):\n",
    "    if middlename:\n",
    "        fullname = (firstname,lastname, middlename)\n",
    "    else:\n",
    "        fullname = (firstname,lastname)\n",
    "    \n",
    "    return fullname\n",
    "\n",
    "result = get_full_name('John','Smith','Steve')\n",
    "result"
   ]
  },
  {
   "cell_type": "code",
   "execution_count": 36,
   "id": "a2afa670",
   "metadata": {},
   "outputs": [
    {
     "data": {
      "text/plain": [
       "('John', 'Smith')"
      ]
     },
     "execution_count": 36,
     "metadata": {},
     "output_type": "execute_result"
    }
   ],
   "source": [
    "result = get_full_name('John','Smith')\n",
    "result"
   ]
  },
  {
   "cell_type": "code",
   "execution_count": 37,
   "id": "ba526217",
   "metadata": {},
   "outputs": [
    {
     "data": {
      "text/plain": [
       "{'firstname': 'John', 'lastname': 'Smith', 'age': 20}"
      ]
     },
     "execution_count": 37,
     "metadata": {},
     "output_type": "execute_result"
    }
   ],
   "source": [
    "#回傳一個dict\n",
    "def return_user_info(firstname, lastname, middlename='', age=20):\n",
    "    user_info = {}\n",
    "    user_info['firstname']=firstname\n",
    "    user_info['lastname']=lastname\n",
    "    if middlename:\n",
    "        user_info['middlename']=middlename\n",
    "    user_info['age']=age\n",
    "    return user_info\n",
    "\n",
    "user_info = return_user_info('John','Smith')\n",
    "user_info"
   ]
  },
  {
   "cell_type": "code",
   "execution_count": 39,
   "id": "73761cbe",
   "metadata": {},
   "outputs": [
    {
     "data": {
      "text/plain": [
       "{'firstname': 'John', 'lastname': 'Smith', 'middlename': 'steve', 'age': 30}"
      ]
     },
     "execution_count": 39,
     "metadata": {},
     "output_type": "execute_result"
    }
   ],
   "source": [
    "user_info = return_user_info(lastname='Smith', middlename='steve', age=30, firstname='John')\n",
    "user_info"
   ]
  }
 ],
 "metadata": {
  "kernelspec": {
   "display_name": "Python 3 (ipykernel)",
   "language": "python",
   "name": "python3"
  },
  "language_info": {
   "codemirror_mode": {
    "name": "ipython",
    "version": 3
   },
   "file_extension": ".py",
   "mimetype": "text/x-python",
   "name": "python",
   "nbconvert_exporter": "python",
   "pygments_lexer": "ipython3",
   "version": "3.10.2"
  }
 },
 "nbformat": 4,
 "nbformat_minor": 5
}
