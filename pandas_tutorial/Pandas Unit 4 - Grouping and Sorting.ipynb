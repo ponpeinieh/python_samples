{
 "cells": [
  {
   "cell_type": "markdown",
   "id": "f0d77cea",
   "metadata": {},
   "source": [
    "### Grouping\n",
    "- To group our data, and then do something specific to the group the data is in."
   ]
  },
  {
   "cell_type": "code",
   "execution_count": null,
   "id": "238d3c33",
   "metadata": {},
   "outputs": [],
   "source": [
    "import pandas as pd\n",
    "#reviews = pd.read_csv('world-happiness-report-2021/world-happiness-report-2021.csv', index_col=0)\n",
    "reviews = pd.read_csv('world-happiness-report-2021/world-happiness-report-2021.csv')\n",
    "pd.set_option('display.max_rows',5)\n",
    "reviews"
   ]
  },
  {
   "cell_type": "code",
   "execution_count": null,
   "id": "7aedc938",
   "metadata": {},
   "outputs": [],
   "source": [
    "pd.set_option('display.max_rows',10)\n",
    "# value_counts() : to see a list of unique values and how often they occur in the dataset\n",
    "reviews['Regional indicator'].value_counts()"
   ]
  },
  {
   "cell_type": "markdown",
   "id": "8e08cf12",
   "metadata": {},
   "source": [
    "- Think of each group generated as being a slice of DataFrame containing only data with values that match. \n",
    "- This DataFrame is accessible directly using the `apply()` method"
   ]
  },
  {
   "cell_type": "code",
   "execution_count": null,
   "id": "6625764c",
   "metadata": {},
   "outputs": [],
   "source": [
    "reviews.groupby('Regional indicator')['Regional indicator'].count()"
   ]
  },
  {
   "cell_type": "code",
   "execution_count": null,
   "id": "31de4230",
   "metadata": {},
   "outputs": [],
   "source": [
    "reviews.groupby('Regional indicator')['Ladder score'].max()"
   ]
  },
  {
   "cell_type": "code",
   "execution_count": null,
   "id": "a30d14d3",
   "metadata": {},
   "outputs": [],
   "source": [
    "type(reviews.groupby('Regional indicator'))"
   ]
  },
  {
   "cell_type": "markdown",
   "id": "08655966",
   "metadata": {},
   "source": [
    "### apply()\n",
    "- Apply function group-wise and combine the results together.\n",
    "- The function passed to apply() must take a **dataframe** as its first argument and return a **DataFrame, Series or scalar**. \n",
    "- apply() will then take care of combining the results back together into a single dataframe or series. "
   ]
  },
  {
   "cell_type": "code",
   "execution_count": null,
   "id": "a46d186a",
   "metadata": {},
   "outputs": [],
   "source": [
    "# select the first 'Country name' within each group\n",
    "reviews.groupby('Regional indicator').apply(lambda df : df['Country name'].iloc[0])"
   ]
  },
  {
   "cell_type": "code",
   "execution_count": null,
   "id": "234fe2d2",
   "metadata": {},
   "outputs": [],
   "source": [
    "df = pd.DataFrame({'A': 'a a b'.split(),\n",
    "                   'B': [1,2,3],\n",
    "                   'C': [4,6,5]})\n",
    "print(df)"
   ]
  },
  {
   "cell_type": "code",
   "execution_count": null,
   "id": "fc4d2534",
   "metadata": {},
   "outputs": [],
   "source": [
    "g = df.groupby('A') # gruop by 'A', so there are two groups: 'a' and 'b'"
   ]
  },
  {
   "cell_type": "markdown",
   "id": "86729d03",
   "metadata": {},
   "source": [
    "- Example 1: \n",
    "   - the function passed to apply takes a DataFrame as its argument and returns a DataFrame. \n",
    "   - apply() combines the result for each group together into a new DataFrame:\n",
    "\n"
   ]
  },
  {
   "cell_type": "code",
   "execution_count": null,
   "id": "d068823e",
   "metadata": {},
   "outputs": [],
   "source": [
    "g[['B', 'C']].apply(lambda x: x / x.sum())"
   ]
  }
 ],
 "metadata": {
  "kernelspec": {
   "display_name": "Python 3 (ipykernel)",
   "language": "python",
   "name": "python3"
  },
  "language_info": {
   "codemirror_mode": {
    "name": "ipython",
    "version": 3
   },
   "file_extension": ".py",
   "mimetype": "text/x-python",
   "name": "python",
   "nbconvert_exporter": "python",
   "pygments_lexer": "ipython3",
   "version": "3.10.2"
  }
 },
 "nbformat": 4,
 "nbformat_minor": 5
}
