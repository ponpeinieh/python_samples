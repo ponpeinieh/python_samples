{
 "cells": [
  {
   "cell_type": "markdown",
   "id": "64e86673",
   "metadata": {},
   "source": [
    "## Pandas Unit 1 - DataFrame and Series\n",
    "### DataFrame \n",
    "- DataFrame is a table\n",
    "- Each entry has a value corresponding to a row and a column\n",
    "- \"0,no\"entry is 10, \"1,yes\" is 200\n",
    "- Syntax: a dict whose keys are the column names(eg. 'yes','no'), whose values are a list of entries(eg. [100,200]).\n",
    "- pandas.core.frame.DataFrame\n",
    "   "
   ]
  },
  {
   "cell_type": "code",
   "execution_count": null,
   "id": "cb634130",
   "metadata": {},
   "outputs": [],
   "source": [
    "import pandas as pd\n",
    "pd.DataFrame({'yes':[100,200],'no':[10,20]}) #DataFrame() : ctor called"
   ]
  },
  {
   "cell_type": "code",
   "execution_count": null,
   "id": "b84d88e1",
   "metadata": {},
   "outputs": [],
   "source": [
    "# entry value is a string\n",
    "pd.DataFrame({'Bob':['I liked it.','It was awful.'],'Sue':['Pretty good!','Great!']})"
   ]
  },
  {
   "cell_type": "markdown",
   "id": "e6fc3b42",
   "metadata": {},
   "source": [
    "- default use an ascending count from 0 for the `row labels`\n",
    "- we can assign the labels outselves - using **index**  "
   ]
  },
  {
   "cell_type": "code",
   "execution_count": null,
   "id": "e8e3e83d",
   "metadata": {},
   "outputs": [],
   "source": [
    "pd.DataFrame({'Bob':['I liked it.','It was awful.'],'Sue':['Pretty good!','Great!']}, index=['Answer A', 'Answer B'])"
   ]
  },
  {
   "cell_type": "markdown",
   "id": "9c785ac8",
   "metadata": {},
   "source": [
    "### Series\n",
    "- A sequence of data values\n",
    "- If DataFrame is a table, a Series is a list \n",
    "- It may be a single column of a DataFrame or a single row of a DataFrame\n",
    "- Use **index** to assign row labels\n",
    "- It does not have a column name, but it has a 'name' attribute\n",
    "- A DataFrame glues together a bunch of Series\n",
    "- pandas.core.series.Series"
   ]
  },
  {
   "cell_type": "code",
   "execution_count": null,
   "id": "d54e7891",
   "metadata": {},
   "outputs": [],
   "source": [
    "pd.Series([1,2,3,4,5]) # Series Ctor"
   ]
  },
  {
   "cell_type": "code",
   "execution_count": null,
   "id": "cb7c08b4",
   "metadata": {},
   "outputs": [],
   "source": [
    "pd.Series([155,342,119],index=['2015 Sales','2016 Sales','2017 Sales'], name='Product A')"
   ]
  },
  {
   "cell_type": "markdown",
   "id": "4b971aba",
   "metadata": {},
   "source": [
    "### Reading data files\n",
    "- Read from CSV files\n",
    "   - pd.read_csv()"
   ]
  },
  {
   "cell_type": "code",
   "execution_count": null,
   "id": "87e0344d",
   "metadata": {},
   "outputs": [],
   "source": [
    "reports = pd.read_csv('world-happiness-report-2021/world-happiness-report-2021.csv') # file location relative to the current ipynb file path\n",
    "reports.head() #print the first 5 rows"
   ]
  },
  {
   "cell_type": "code",
   "execution_count": null,
   "id": "8b9c78ac",
   "metadata": {},
   "outputs": [],
   "source": [
    "reports.shape # print records, columns count"
   ]
  },
  {
   "cell_type": "markdown",
   "id": "5363d8cd",
   "metadata": {},
   "source": [
    "- csv file has a built-in `index (row label)` which starts from 0 onwards\n",
    "- You can assign a column for the index using **index_col** attribute"
   ]
  },
  {
   "cell_type": "code",
   "execution_count": null,
   "id": "52239997",
   "metadata": {},
   "outputs": [],
   "source": [
    "#reports = pd.read_csv('world-happiness-report-2021/world-happiness-report-2021.csv',index_col = 'Country name')\n",
    "reports = pd.read_csv('world-happiness-report-2021/world-happiness-report-2021.csv', index_col = 0)\n",
    "reports.head() #print the first 5 rows"
   ]
  },
  {
   "cell_type": "markdown",
   "id": "201dd9b1",
   "metadata": {},
   "source": [
    "### Writing to data files\n",
    "- Write to CSV files\n",
    "   - `<DataFrame instance>`.to_csv(filename)"
   ]
  },
  {
   "cell_type": "code",
   "execution_count": null,
   "id": "cf7ccf9f",
   "metadata": {},
   "outputs": [],
   "source": [
    "# write to CSV using to_csv()\n",
    "animals = pd.DataFrame({'Cows': [12, 20], 'Goats': [22, 19]}, index=['Year 1', 'Year 2'])\n",
    "animals.to_csv('cows_and_goats.csv')"
   ]
  }
 ],
 "metadata": {
  "kernelspec": {
   "display_name": "Python 3 (ipykernel)",
   "language": "python",
   "name": "python3"
  },
  "language_info": {
   "codemirror_mode": {
    "name": "ipython",
    "version": 3
   },
   "file_extension": ".py",
   "mimetype": "text/x-python",
   "name": "python",
   "nbconvert_exporter": "python",
   "pygments_lexer": "ipython3",
   "version": "3.10.2"
  }
 },
 "nbformat": 4,
 "nbformat_minor": 5
}
