{
 "cells": [
  {
   "cell_type": "code",
   "execution_count": null,
   "id": "0138a3ec",
   "metadata": {},
   "outputs": [],
   "source": [
    "import numpy as np\n",
    "import pandas as pd"
   ]
  },
  {
   "cell_type": "markdown",
   "id": "d3e85d3f",
   "metadata": {},
   "source": [
    "- pandas.Series.groupby\n",
    "   - Series.groupby(by=None, axis=0, level=None, as_index=True, sort=True, group_keys=True, squeeze=NoDefault.no_default, observed=False, dropna=True)\n",
    "   - Group Series using a mapper or by a Series of columns.\n",
    "   - A groupby operation involves some combination of splitting the object, applying a function, and combining the results. \n",
    "   - This can be used to group large amounts of data and compute operations on these groups.\n",
    "- Parameters: by:\n",
    "   - mapping, function, label, or list of labels\n",
    "   - Used to determine the groups for the groupby\n",
    "   - If by is a function, it’s called on each value of the object’s index. \n",
    "   - If a dict or Series is passed, the Series or dict VALUES will be used to determine the groups  \n",
    "      - (the Series’ values are first aligned; see .align() method). \n",
    "   - If a list or ndarray of equal length is passed , the values are used as-is to determine the groups. "
   ]
  },
  {
   "cell_type": "code",
   "execution_count": null,
   "id": "fd46eb3c",
   "metadata": {},
   "outputs": [],
   "source": [
    "ser = pd.Series([390., 350., 30., 20.],\n",
    "                index=['Falcon', 'Falcon', 'Parrot', 'Parrot'], name=\"Max Speed\")\n",
    "ser"
   ]
  },
  {
   "cell_type": "code",
   "execution_count": null,
   "id": "c61a67c5",
   "metadata": {},
   "outputs": [],
   "source": [
    "ser.groupby([\"a\", \"b\", \"a\", \"b\"]).mean()"
   ]
  },
  {
   "cell_type": "code",
   "execution_count": null,
   "id": "a9f351ad",
   "metadata": {},
   "outputs": [],
   "source": [
    "ser.groupby(level=0).mean()"
   ]
  },
  {
   "cell_type": "code",
   "execution_count": null,
   "id": "05547115",
   "metadata": {},
   "outputs": [],
   "source": [
    "ser.groupby(ser > 100).mean()"
   ]
  },
  {
   "cell_type": "markdown",
   "id": "d9a75dd7",
   "metadata": {},
   "source": [
    "Grouping by Indexes\n",
    "- We can groupby different levels of a hierarchical index using the level parameter:"
   ]
  },
  {
   "cell_type": "code",
   "execution_count": null,
   "id": "953c9817",
   "metadata": {},
   "outputs": [],
   "source": [
    "arrays = [['Falcon', 'Falcon', 'Parrot', 'Parrot'],\n",
    "          ['Captive', 'Wild', 'Captive', 'Wild']]\n",
    "index = pd.MultiIndex.from_arrays(arrays, names=('Animal', 'Type'))\n",
    "ser = pd.Series([390., 350., 30., 20.], index=index, name=\"Max Speed\")\n",
    "ser"
   ]
  },
  {
   "cell_type": "code",
   "execution_count": null,
   "id": "28f8ee7e",
   "metadata": {},
   "outputs": [],
   "source": [
    "ser.groupby(level=0).mean()"
   ]
  },
  {
   "cell_type": "code",
   "execution_count": null,
   "id": "5d8179cf",
   "metadata": {},
   "outputs": [],
   "source": [
    "ser.groupby(level=\"Type\").mean()"
   ]
  },
  {
   "cell_type": "markdown",
   "id": "d632f02d",
   "metadata": {},
   "source": [
    "- We can also choose to include NA in group keys or not by defining dropna parameter, the default setting is True.\n",
    "- By default NA values are excluded from group keys during the groupby operation. However, in case you want to include NA values in group keys, you could pass dropna=False to achieve it."
   ]
  },
  {
   "cell_type": "code",
   "execution_count": null,
   "id": "2b929078",
   "metadata": {},
   "outputs": [],
   "source": [
    "ser = pd.Series([1, 2, 3, 3], index=[\"a\", 'a', 'b', np.nan])\n",
    "ser.groupby(level=0).sum()"
   ]
  },
  {
   "cell_type": "code",
   "execution_count": null,
   "id": "532de273",
   "metadata": {},
   "outputs": [],
   "source": [
    "ser.groupby(level=0, dropna=False).sum()"
   ]
  },
  {
   "cell_type": "code",
   "execution_count": null,
   "id": "9ea178ac",
   "metadata": {},
   "outputs": [],
   "source": [
    "arrays = ['Falcon', 'Falcon', 'Parrot', 'Parrot']\n",
    "ser = pd.Series([390., 350., 30., 20.], index=arrays, name=\"Max Speed\")\n",
    "ser.groupby([\"a\", \"b\", \"a\", np.nan]).mean()"
   ]
  },
  {
   "cell_type": "code",
   "execution_count": null,
   "id": "29b16461",
   "metadata": {},
   "outputs": [],
   "source": [
    "ser.groupby([\"a\", \"b\", \"a\", np.nan], dropna=False).mean()"
   ]
  },
  {
   "cell_type": "code",
   "execution_count": null,
   "id": "a9e27342",
   "metadata": {},
   "outputs": [],
   "source": [
    "df = pd.DataFrame(\n",
    "    [\n",
    "        (\"bird\", \"Falconiformes\", 389.0),\n",
    "        (\"bird\", \"Psittaciformes\", 24.0),\n",
    "        (\"mammal\", \"Carnivora\", 80.2),\n",
    "        (\"mammal\", \"Primates\", np.nan),\n",
    "        (\"mammal\", \"Carnivora\", 58),\n",
    "    ],\n",
    "    index=[\"falcon\", \"parrot\", \"lion\", \"monkey\", \"leopard\"],\n",
    "    columns=(\"class\", \"order\", \"max_speed\"),\n",
    ")\n",
    "df"
   ]
  },
  {
   "cell_type": "markdown",
   "id": "0a6ce1cc",
   "metadata": {},
   "source": [
    "The mapping can be specified many different ways:\n",
    "\n",
    "- A Python function, to be called on each of the axis labels.\n",
    "\n",
    "- A list or NumPy array of the same length as the selected axis.\n",
    "\n",
    "- A dict or Series, providing a label -> group name mapping.\n",
    "\n",
    "- For DataFrame objects, a string indicating either a column name or an index level name to be used to group.\n",
    "\n",
    "- df.groupby('A') is just syntactic sugar for df.groupby(df['A']).\n",
    "\n",
    "- A list of any of the above things."
   ]
  },
  {
   "cell_type": "code",
   "execution_count": null,
   "id": "efdf6487",
   "metadata": {},
   "outputs": [],
   "source": [
    "grouped = df.groupby(df[\"class\"], axis=0) # default on axis 0 or axis 'index'\n",
    "grouped.count()"
   ]
  },
  {
   "cell_type": "code",
   "execution_count": null,
   "id": "94fedd2c",
   "metadata": {},
   "outputs": [],
   "source": [
    "grouped = df.groupby(\"order\")\n",
    "grouped.count()"
   ]
  },
  {
   "cell_type": "code",
   "execution_count": null,
   "id": "21a6618e",
   "metadata": {},
   "outputs": [],
   "source": [
    "grouped = df.groupby([\"class\", \"order\"])\n",
    "grouped.count()"
   ]
  },
  {
   "cell_type": "code",
   "execution_count": null,
   "id": "ed41bedb",
   "metadata": {},
   "outputs": [],
   "source": [
    "df = pd.DataFrame(\n",
    "    {\n",
    "        \"A\": [\"foo\", \"bar\", \"foo\", \"bar\", \"foo\", \"bar\", \"foo\", \"foo\"],\n",
    "        \"B\": [\"one\", \"one\", \"two\", \"three\", \"two\", \"two\", \"one\", \"three\"],\n",
    "        \"C\": np.random.randn(8),\n",
    "        \"D\": np.random.randn(8),\n",
    "    }\n",
    ")\n",
    "df"
   ]
  },
  {
   "cell_type": "markdown",
   "id": "fb345dbe",
   "metadata": {},
   "source": [
    "GroupBy sorting\n",
    "- By default the group keys are sorted during the groupby operation. \n",
    "- You may however pass sort=False for potential speedups:"
   ]
  },
  {
   "cell_type": "code",
   "execution_count": null,
   "id": "598277bf",
   "metadata": {},
   "outputs": [],
   "source": [
    "df2 = df.set_index([\"A\", \"B\"]) # create a multiIndex, note that we create a new data frame\n",
    "grouped = df2.groupby(level=0, sort=False) # level=0 means 'A', level=1 means 'B', default sort=True\n",
    "grouped.count()"
   ]
  },
  {
   "cell_type": "code",
   "execution_count": null,
   "id": "d6dbc221",
   "metadata": {},
   "outputs": [],
   "source": [
    "grouped.first() #Compute first of group values"
   ]
  },
  {
   "cell_type": "code",
   "execution_count": null,
   "id": "08b24b0c",
   "metadata": {},
   "outputs": [],
   "source": [
    "grouped.last() #Compute last of group values"
   ]
  },
  {
   "cell_type": "code",
   "execution_count": null,
   "id": "29234c75",
   "metadata": {},
   "outputs": [],
   "source": [
    "grouped = df2.groupby(level=df2.index.names)\n",
    "grouped.count()"
   ]
  },
  {
   "cell_type": "code",
   "execution_count": null,
   "id": "11e84524",
   "metadata": {},
   "outputs": [],
   "source": [
    "# The groups attribute is a dict whose keys are the computed unique groups \n",
    "# and corresponding values being the axis labels belonging to each group.\n",
    "df.groupby(\"A\").groups"
   ]
  },
  {
   "cell_type": "code",
   "execution_count": null,
   "id": "47aa7889",
   "metadata": {},
   "outputs": [],
   "source": [
    "# Selecting a group\n",
    "# A single group can be selected using get_group():\n",
    "df.groupby('A').get_group('bar')"
   ]
  },
  {
   "cell_type": "markdown",
   "id": "8cdda571",
   "metadata": {},
   "source": [
    "Grouping DataFrame with Index levels and columns\n",
    "- A DataFrame may be grouped by a combination of columns and index levels by specifying the column names as strings and the index levels as pd.Grouper objects.\n",
    " "
   ]
  },
  {
   "cell_type": "code",
   "execution_count": null,
   "id": "9ffe7dff",
   "metadata": {},
   "outputs": [],
   "source": [
    "arrays = [\n",
    "    [\"bar\", \"bar\", \"baz\", \"baz\", \"foo\", \"foo\", \"qux\", \"qux\"],\n",
    "    [\"one\", \"two\", \"one\", \"two\", \"one\", \"two\", \"one\", \"two\"],\n",
    "]\n",
    "index = pd.MultiIndex.from_arrays(arrays, names=[\"first\", \"second\"])\n",
    "df = pd.DataFrame({\"A\": [1, 1, 1, 1, 2, 2, 3, 3], \"B\": np.arange(8)}, index=index)\n",
    "df"
   ]
  },
  {
   "cell_type": "code",
   "execution_count": null,
   "id": "c5f45289",
   "metadata": {},
   "outputs": [],
   "source": [
    "#groups df by the second index level and the A column.\n",
    "df.groupby([pd.Grouper(level=1), \"A\"]).sum()"
   ]
  },
  {
   "cell_type": "markdown",
   "id": "db2d657e",
   "metadata": {},
   "source": [
    "DataFrame column selection in GroupBy\n",
    "- Once you have created the GroupBy object from a DataFrame, you might want to do something different for each of the columns. \n",
    "- Thus, using [] similar to getting a column from a DataFrame"
   ]
  },
  {
   "cell_type": "code",
   "execution_count": null,
   "id": "b9a6bcd7",
   "metadata": {},
   "outputs": [],
   "source": [
    "df = pd.DataFrame(\n",
    "    {\n",
    "        \"A\": [\"foo\", \"bar\", \"foo\", \"bar\", \"foo\", \"bar\", \"foo\", \"foo\"],\n",
    "        \"B\": [\"one\", \"one\", \"two\", \"three\", \"two\", \"two\", \"one\", \"three\"],\n",
    "        \"C\": np.random.randn(8),\n",
    "        \"D\": np.random.randn(8),\n",
    "    }\n",
    ")\n",
    "df"
   ]
  },
  {
   "cell_type": "code",
   "execution_count": null,
   "id": "6ffe92d7",
   "metadata": {},
   "outputs": [],
   "source": [
    "grouped = df.groupby([\"A\"])\n",
    "grouped_C = grouped[\"C\"]\n",
    "# equivalent to df[\"C\"].groupby(df[\"A\"]), \n",
    "# ie. first get a Series of column \"C\" and group by its corresponding column \"A\" value\n",
    "grouped_C.get_group('foo')"
   ]
  },
  {
   "cell_type": "code",
   "execution_count": null,
   "id": "13bde0f8",
   "metadata": {},
   "outputs": [],
   "source": [
    "grouped_D = grouped[\"D\"]\n",
    "grouped_D.get_group('foo')"
   ]
  },
  {
   "cell_type": "markdown",
   "id": "a1f143ac",
   "metadata": {},
   "source": [
    "Iterating through groups\n",
    "- With the GroupBy object in hand, iterating through the grouped data is very natural and functions similarly to itertools.groupby()\n",
    "- In the case of grouping by multiple keys, the group name will be a tuple"
   ]
  },
  {
   "cell_type": "code",
   "execution_count": null,
   "id": "043b1b65",
   "metadata": {},
   "outputs": [],
   "source": [
    "grouped = df.groupby('A', sort=False)\n",
    "\n",
    "for name, group in grouped:\n",
    "    print(name)\n",
    "    print(group)\n"
   ]
  },
  {
   "cell_type": "code",
   "execution_count": null,
   "id": "3ee6caab",
   "metadata": {},
   "outputs": [],
   "source": [
    "for name, group in df.groupby(['A', 'B']):\n",
    "    print(name)\n",
    "    print(group)"
   ]
  },
  {
   "cell_type": "markdown",
   "id": "32bdd1c8",
   "metadata": {},
   "source": [
    "Aggregation\n",
    "- Once the GroupBy object has been created, several methods are available to perform a computation on the grouped data. These operations are similar to the aggregating API, window API, and resample API.\n",
    "- Aggregation:  the aggregate() or equivalently agg() method\n",
    "   - The result of the aggregation will have the group names as the new index along the grouped axis. \n",
    "   - In the case of multiple keys, the result is a MultiIndex by default, though this can be changed by using the as_index option\n",
    "      - you could use the reset_index DataFrame function to achieve the same result as the column names are stored in the resulting MultiIndex:\n",
    "\n"
   ]
  },
  {
   "cell_type": "code",
   "execution_count": null,
   "id": "c2f0d79f",
   "metadata": {},
   "outputs": [],
   "source": [
    "grouped = df.groupby(\"A\")\n",
    "grouped.aggregate(np.sum)"
   ]
  },
  {
   "cell_type": "code",
   "execution_count": null,
   "id": "d66973b5",
   "metadata": {},
   "outputs": [],
   "source": [
    "grouped = df.groupby([\"A\", \"B\"])\n",
    "grouped.aggregate(np.sum) # the result of the aggregation will have the group names as the new index along the grouped axis."
   ]
  },
  {
   "cell_type": "code",
   "execution_count": null,
   "id": "58a77974",
   "metadata": {},
   "outputs": [],
   "source": [
    "grouped = df.groupby([\"A\", \"B\"], as_index=False)\n",
    "grouped.aggregate(np.sum)"
   ]
  },
  {
   "cell_type": "code",
   "execution_count": null,
   "id": "261a905f",
   "metadata": {},
   "outputs": [],
   "source": [
    "df.groupby(\"A\", as_index=False).sum()"
   ]
  },
  {
   "cell_type": "code",
   "execution_count": null,
   "id": "ad21792d",
   "metadata": {},
   "outputs": [],
   "source": [
    "df.groupby([\"A\", \"B\"]).aggregate(np.sum).reset_index()"
   ]
  },
  {
   "cell_type": "markdown",
   "id": "7a6b967f",
   "metadata": {},
   "source": [
    "Another simple aggregation example is to compute the size of each group. \n",
    "- This is included in GroupBy as the size method. It returns a Series whose index are the group names and whose values are the sizes of each group."
   ]
  },
  {
   "cell_type": "code",
   "execution_count": null,
   "id": "2c3189d0",
   "metadata": {},
   "outputs": [],
   "source": [
    "grouped.size()"
   ]
  },
  {
   "cell_type": "code",
   "execution_count": null,
   "id": "95ab1b1a",
   "metadata": {},
   "outputs": [],
   "source": [
    "grouped.describe()"
   ]
  },
  {
   "cell_type": "markdown",
   "id": "8f5ea944",
   "metadata": {},
   "source": [
    "- The aggregating functions exclude NA values. \n",
    "- Any function which reduces a Series to a scalar value is an aggregation function and will work \n",
    "   - A trivial example is df.groupby('A').agg(lambda ser: 1). "
   ]
  },
  {
   "cell_type": "code",
   "execution_count": null,
   "id": "b1eec675",
   "metadata": {},
   "outputs": [],
   "source": [
    "grouped['C'].agg(lambda ser : ser.size)"
   ]
  },
  {
   "cell_type": "markdown",
   "id": "13a29910",
   "metadata": {},
   "source": [
    "Applying multiple functions at once\n",
    "- With grouped Series you can also pass a list or dict of functions to do aggregation with, outputting a DataFrame\n"
   ]
  },
  {
   "cell_type": "code",
   "execution_count": null,
   "id": "4675fa62",
   "metadata": {},
   "outputs": [],
   "source": [
    "grouped = df.groupby(\"A\")\n",
    "grouped[\"C\"].agg([np.sum, np.mean, np.std]) # or grouped[\"C\"].agg(['sum','mean','std'])"
   ]
  },
  {
   "cell_type": "code",
   "execution_count": null,
   "id": "a4b1ecd1",
   "metadata": {},
   "outputs": [],
   "source": [
    "grouped[[\"C\", \"D\"]].agg(['sum','mean','std'])"
   ]
  },
  {
   "cell_type": "code",
   "execution_count": null,
   "id": "45b33990",
   "metadata": {},
   "outputs": [],
   "source": [
    "grouped[\"C\"].agg([np.sum, np.mean, np.std]).rename(columns={\"sum\": \"foo\", \"mean\": \"bar\", \"std\": \"baz\"})"
   ]
  },
  {
   "cell_type": "code",
   "execution_count": null,
   "id": "008660d5",
   "metadata": {},
   "outputs": [],
   "source": [
    "animals = pd.DataFrame(\n",
    "    {\n",
    "        \"kind\": [\"cat\", \"dog\", \"cat\", \"dog\"],\n",
    "        \"height\": [9.1, 6.0, 9.5, 34.0],\n",
    "        \"weight\": [7.9, 7.5, 9.9, 198.0],\n",
    "    }\n",
    ")\n",
    "animals"
   ]
  },
  {
   "cell_type": "markdown",
   "id": "68f4cb99",
   "metadata": {},
   "source": [
    "Named aggregation\n",
    "- To support column-specific aggregation with control over the output column names, pandas accepts the special syntax in GroupBy.agg(), known as “named aggregation”, where\n",
    "   - The keywords are the output column names\n",
    "   - The values are tuples whose first element is the column to select and the second element is the aggregation to apply to that column. \n",
    "   - pandas provides the pandas.NamedAgg namedtuple with the fields ['column', 'aggfunc'] to make it clearer what the arguments are. \n",
    "   - As usual, the aggregation can be a callable or a string alias."
   ]
  },
  {
   "cell_type": "code",
   "execution_count": null,
   "id": "7f12fd6e",
   "metadata": {},
   "outputs": [],
   "source": [
    "animals.groupby(\"kind\").agg(\n",
    "    min_height=pd.NamedAgg(column=\"height\", aggfunc=\"min\"),\n",
    "    max_height=pd.NamedAgg(column=\"height\", aggfunc=\"max\"),\n",
    "    average_weight=pd.NamedAgg(column=\"weight\", aggfunc=np.mean),\n",
    ")"
   ]
  },
  {
   "cell_type": "code",
   "execution_count": null,
   "id": "dc7da067",
   "metadata": {},
   "outputs": [],
   "source": [
    "animals.groupby(\"kind\").agg(\n",
    "    min_height=(\"height\",\"min\"),\n",
    "    max_height=(\"height\",\"max\"),\n",
    "    average_weight=(\"weight\", np.mean),\n",
    ")"
   ]
  },
  {
   "cell_type": "markdown",
   "id": "bf78a27e",
   "metadata": {},
   "source": [
    "- If your desired output column names are not valid Python keywords, construct a dictionary and unpack the keyword arguments"
   ]
  },
  {
   "cell_type": "code",
   "execution_count": null,
   "id": "70e56307",
   "metadata": {},
   "outputs": [],
   "source": [
    "animals.groupby(\"kind\").agg(\n",
    "    **{\n",
    "        \"total weight\": pd.NamedAgg(column=\"weight\", aggfunc=sum)\n",
    "    }\n",
    ")"
   ]
  },
  {
   "cell_type": "markdown",
   "id": "5f7f03a6",
   "metadata": {},
   "source": [
    "Applying different functions to DataFrame columns\n",
    "- By passing a dict to aggregate you can apply a different aggregation to the columns of a DataFrame"
   ]
  },
  {
   "cell_type": "code",
   "execution_count": null,
   "id": "8fe0641e",
   "metadata": {},
   "outputs": [],
   "source": [
    "grouped.agg({\"C\": np.sum, \"D\": lambda x: np.std(x, ddof=1)})\n",
    "#grouped.agg({\"C\": \"sum\", \"D\": \"std\"})"
   ]
  },
  {
   "cell_type": "markdown",
   "id": "889e31c9",
   "metadata": {},
   "source": [
    "Aggregations with User-Defined Functions\n",
    "- Users can also provide their own functions for custom aggregations. \n",
    "- When aggregating with a User-Defined Function (UDF), the UDF should not mutate the provided Series"
   ]
  },
  {
   "cell_type": "code",
   "execution_count": null,
   "id": "9a30f654",
   "metadata": {},
   "outputs": [],
   "source": [
    "animals.groupby(\"kind\")[[\"height\"]].agg(lambda x: set(x))"
   ]
  },
  {
   "cell_type": "code",
   "execution_count": null,
   "id": "74d90da8",
   "metadata": {},
   "outputs": [],
   "source": [
    "animals.groupby(\"kind\")[[\"height\"]].agg(lambda x: x.astype(int).sum())"
   ]
  }
 ],
 "metadata": {
  "kernelspec": {
   "display_name": "Python 3 (ipykernel)",
   "language": "python",
   "name": "python3"
  },
  "language_info": {
   "codemirror_mode": {
    "name": "ipython",
    "version": 3
   },
   "file_extension": ".py",
   "mimetype": "text/x-python",
   "name": "python",
   "nbconvert_exporter": "python",
   "pygments_lexer": "ipython3",
   "version": "3.10.2"
  }
 },
 "nbformat": 4,
 "nbformat_minor": 5
}
