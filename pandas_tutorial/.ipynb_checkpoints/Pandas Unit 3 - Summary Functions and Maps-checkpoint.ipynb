{
 "cells": [
  {
   "cell_type": "markdown",
   "id": "81d2a3a0",
   "metadata": {},
   "source": [
    "### Summary functions\n",
    "\n",
    "- Pandas provides many simple \"summary functions\" (not an official name) which restructure the data in some useful way.\n",
    "- describe() method: generates a high-level summary of the attributes of the given column.\n",
    "- It is type-aware - its output changes based on the data type of the input."
   ]
  },
  {
   "cell_type": "code",
   "execution_count": null,
   "id": "859e6b67",
   "metadata": {},
   "outputs": [],
   "source": [
    "import pandas as pd\n",
    "#reviews = pd.read_csv('world-happiness-report-2021/world-happiness-report-2021.csv', index_col=0)\n",
    "reviews = pd.read_csv('world-happiness-report-2021/world-happiness-report-2021.csv')\n",
    "pd.set_option('display.max_rows',5)\n",
    "reviews"
   ]
  },
  {
   "cell_type": "code",
   "execution_count": null,
   "id": "d5605ee1",
   "metadata": {},
   "outputs": [],
   "source": [
    "# The output for numerical data\n",
    "reviews['Ladder score'].describe()"
   ]
  },
  {
   "cell_type": "code",
   "execution_count": null,
   "id": "b7f59768",
   "metadata": {},
   "outputs": [],
   "source": [
    "# for string data \n",
    "reviews['Regional indicator'].describe()"
   ]
  },
  {
   "cell_type": "code",
   "execution_count": null,
   "id": "50893040",
   "metadata": {},
   "outputs": [],
   "source": [
    "reviews.loc[reviews['Regional indicator']=='Sub-Saharan Africa',['Country name']]"
   ]
  },
  {
   "cell_type": "code",
   "execution_count": null,
   "id": "e0b32609",
   "metadata": {},
   "outputs": [],
   "source": [
    "reviews['Ladder score'].mean()"
   ]
  },
  {
   "cell_type": "code",
   "execution_count": null,
   "id": "0e6ced8b",
   "metadata": {},
   "outputs": [],
   "source": [
    "# the unique() function: to see a list of unique values \n",
    "reviews['Regional indicator'].unique()"
   ]
  },
  {
   "cell_type": "code",
   "execution_count": null,
   "id": "7a993e18",
   "metadata": {},
   "outputs": [],
   "source": [
    "# the value_counts() method: to see a list of unique values and how often they occur in the dataset\n",
    "reviews['Regional indicator'].value_counts()"
   ]
  },
  {
   "cell_type": "code",
   "execution_count": null,
   "id": "052f46fa",
   "metadata": {},
   "outputs": [],
   "source": [
    "#Return the row label of the maximum value.\n",
    "id_max = reviews['Healthy life expectancy'].idxmax()\n",
    "reviews.loc[id_max,'Country name']"
   ]
  },
  {
   "cell_type": "code",
   "execution_count": null,
   "id": "027a956a",
   "metadata": {},
   "outputs": [],
   "source": [
    "reviews.loc[reviews['Generosity'].idxmax(),['Country name','Generosity']]"
   ]
  },
  {
   "cell_type": "markdown",
   "id": "9e850b9d",
   "metadata": {},
   "source": [
    "### Map\n",
    "- A function that takes one set of values and \"maps\" them to another set of values.\n",
    "- There are two mapping methods that you will use often.\n",
    "   - map() \n",
    "      - The lambda you pass to map() should expect a single value from the Series, and return a transformed version of that value. \n",
    "      - map() returns a new Series where all the values have been transformed by your function.\n",
    "   - apply()\n",
    "      - transform a whole DataFrame by calling a custom method on each row.\n",
    "      - axis parameter : {0 or ‘index’, 1 or ‘columns’}, default 0\n",
    "      - axis='index' - give a function to transform each column.\n",
    "      - axis='columns' - passing a function to transform each row\n",
    "\n",
    "- Note that map() and apply() return new, transformed Series and DataFrames, respectively. \n",
    "    - They don't modify the original data they're called on. "
   ]
  },
  {
   "cell_type": "code",
   "execution_count": null,
   "id": "6829a1cd",
   "metadata": {},
   "outputs": [],
   "source": [
    "# rebase with the mean\n",
    "ladder_score_mean = reviews['Ladder score'].mean()\n",
    "reviews['Ladder score'].map(lambda x : x - ladder_score_mean)"
   ]
  },
  {
   "cell_type": "code",
   "execution_count": null,
   "id": "ad4b65f3",
   "metadata": {},
   "outputs": [],
   "source": [
    "reviews['Ladder score'] # doen't change "
   ]
  },
  {
   "cell_type": "code",
   "execution_count": null,
   "id": "af3c0955",
   "metadata": {},
   "outputs": [],
   "source": [
    "# count those have 'Asia' in the column of 'Regional indicator'\n",
    "temp = reviews['Regional indicator'].map(lambda x : 'Asia' in x)\n",
    "asia_count = temp.sum() # sum() will sum those True values(treat as 1)\n",
    "non_asia_count = (~temp).sum() #(~temp).sum() sums those False values\n",
    "print(asia_count)\n",
    "print(non_asia_count)"
   ]
  },
  {
   "cell_type": "code",
   "execution_count": null,
   "id": "b27f860f",
   "metadata": {},
   "outputs": [],
   "source": [
    "reviews['Regional indicator'].str.contains('Asia')"
   ]
  },
  {
   "cell_type": "code",
   "execution_count": null,
   "id": "972e50e5",
   "metadata": {},
   "outputs": [],
   "source": [
    "# same as above, but use Series.str.contains(), and count() returns the number of non-NA/null observations in the Series.\n",
    "asia_count=reviews['Regional indicator'].loc[reviews['Regional indicator'].str.contains('Asia')].count()\n",
    "asia_count"
   ]
  },
  {
   "cell_type": "code",
   "execution_count": null,
   "id": "361beaf2",
   "metadata": {},
   "outputs": [],
   "source": [
    "ladder_score_mean = reviews['Ladder score'].mean()\n",
    "def remean_ladder_score(row):\n",
    "    row['Ladder score'] = row['Ladder score'] - ladder_score_mean\n",
    "    #return row['Country name': 'Ladder score']\n",
    "    return row\n",
    "    \n",
    "reviews.apply(remean_ladder_score, axis = 1) # axis = 'columns'"
   ]
  },
  {
   "cell_type": "code",
   "execution_count": null,
   "id": "410aacd7",
   "metadata": {},
   "outputs": [],
   "source": [
    "reviews['Ladder score'] # doesn't change"
   ]
  },
  {
   "cell_type": "code",
   "execution_count": null,
   "id": "e51bf963",
   "metadata": {},
   "outputs": [],
   "source": [
    "def new_ladder_score(row):\n",
    "    if row['Ladder score'] >=7:\n",
    "        row['Ladder score'] = 3\n",
    "    elif row['Ladder score'] >=5:\n",
    "        row['Ladder score'] = 2\n",
    "    else:\n",
    "        row['Ladder score'] = 1\n",
    "    return row\n",
    "ladder_ratings = reviews.apply(new_ladder_score, axis = 1).loc[:,'Ladder score']\n",
    "ladder_ratings "
   ]
  }
 ],
 "metadata": {
  "kernelspec": {
   "display_name": "Python 3 (ipykernel)",
   "language": "python",
   "name": "python3"
  },
  "language_info": {
   "codemirror_mode": {
    "name": "ipython",
    "version": 3
   },
   "file_extension": ".py",
   "mimetype": "text/x-python",
   "name": "python",
   "nbconvert_exporter": "python",
   "pygments_lexer": "ipython3",
   "version": "3.10.2"
  }
 },
 "nbformat": 4,
 "nbformat_minor": 5
}
