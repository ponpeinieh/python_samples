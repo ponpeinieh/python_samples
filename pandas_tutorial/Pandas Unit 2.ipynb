{
 "cells": [
  {
   "cell_type": "markdown",
   "id": "7956d3b5",
   "metadata": {},
   "source": [
    "## Pandas Unit 2:  Indexing, Selecting, Assigning\n",
    "\n",
    "### Indexing using Python native accessor(column first, row second)"
   ]
  },
  {
   "cell_type": "code",
   "execution_count": null,
   "id": "f65b1947",
   "metadata": {},
   "outputs": [],
   "source": [
    "import pandas as pd\n",
    "#reviews = pd.read_csv('world-happiness-report-2021/world-happiness-report-2021.csv', index_col=0)\n",
    "reviews = pd.read_csv('world-happiness-report-2021/world-happiness-report-2021.csv')\n",
    "pd.set_option('display.max_rows',5)\n",
    "reviews"
   ]
  },
  {
   "cell_type": "markdown",
   "id": "95f3288c",
   "metadata": {},
   "source": [
    "- access 'Generosity' property of reviews\n",
    "   - using dot operator (like an object property)\n",
    "   - using indexing operator ([]) (like a dict key)"
   ]
  },
  {
   "cell_type": "code",
   "execution_count": null,
   "id": "5617d771",
   "metadata": {},
   "outputs": [],
   "source": [
    "reviews.Generosity # only works when there is no space in the property name"
   ]
  },
  {
   "cell_type": "code",
   "execution_count": null,
   "id": "c13b9000",
   "metadata": {},
   "outputs": [],
   "source": [
    "reviews['Generosity']"
   ]
  },
  {
   "cell_type": "code",
   "execution_count": null,
   "id": "657de6e3",
   "metadata": {},
   "outputs": [],
   "source": [
    "reviews['Ladder score']  # can contain space"
   ]
  },
  {
   "cell_type": "code",
   "execution_count": null,
   "id": "b648c40c",
   "metadata": {},
   "outputs": [],
   "source": [
    "#reviews['Ladder score']['Finland'] # column first, row second\n",
    "reviews['Ladder score'][0]"
   ]
  },
  {
   "cell_type": "markdown",
   "id": "b6c8eb7d",
   "metadata": {},
   "source": [
    "### pandas accessor operators (row first, column second)\n",
    "- index-based selection (iloc) : \n",
    "   - selecting data based on its numerical position in the data\n",
    "   - index scheme: iloc uses the Python stdlib indexing scheme, where the first element of the range is included and **the last one excluded**. So 0:10 will select entries 0,...,9."
   ]
  },
  {
   "cell_type": "code",
   "execution_count": null,
   "id": "4ae61ad0",
   "metadata": {},
   "outputs": [],
   "source": [
    "reviews.iloc[0] # first row"
   ]
  },
  {
   "cell_type": "code",
   "execution_count": null,
   "id": "10fb0c80",
   "metadata": {},
   "outputs": [],
   "source": [
    "reviews.iloc[:, 0] # first column"
   ]
  },
  {
   "cell_type": "code",
   "execution_count": null,
   "id": "05f66459",
   "metadata": {},
   "outputs": [],
   "source": [
    "reviews.iloc[0:3,0] # use a slice ; the 1st column in rows 0 to 2"
   ]
  },
  {
   "cell_type": "code",
   "execution_count": null,
   "id": "95c70118",
   "metadata": {},
   "outputs": [],
   "source": [
    "reviews.iloc[[0,2,4],0] # use a list "
   ]
  },
  {
   "cell_type": "code",
   "execution_count": null,
   "id": "d92ce747",
   "metadata": {},
   "outputs": [],
   "source": [
    "reviews.iloc[-3:,0] # minus index means counting from the end"
   ]
  },
  {
   "cell_type": "code",
   "execution_count": null,
   "id": "c8f01d6c",
   "metadata": {},
   "outputs": [],
   "source": [
    "reviews.iloc[:3, 0:3]"
   ]
  },
  {
   "cell_type": "markdown",
   "id": "f8435d49",
   "metadata": {},
   "source": [
    "### pandas accessor operators (row first, column second)\n",
    "- label-based selection (loc) \n",
    "   - selecting data based on its **index value** in the data\n",
    "   - indexing scheme : loc indexes inclusively. So 0:10 will select entries 0,...,10 .\n",
    "   "
   ]
  },
  {
   "cell_type": "code",
   "execution_count": null,
   "id": "40a5eb38",
   "metadata": {},
   "outputs": [],
   "source": [
    "reviews.loc[0, 'Country name']"
   ]
  },
  {
   "cell_type": "code",
   "execution_count": null,
   "id": "e23291b8",
   "metadata": {},
   "outputs": [],
   "source": [
    "reviews.loc[:, ['Country name','Regional indicator','Ladder score']]"
   ]
  },
  {
   "cell_type": "code",
   "execution_count": null,
   "id": "0bcf489e",
   "metadata": {},
   "outputs": [],
   "source": [
    "reviews.loc[:, 'Country name':'Ladder score']"
   ]
  },
  {
   "cell_type": "code",
   "execution_count": null,
   "id": "c04721c6",
   "metadata": {},
   "outputs": [],
   "source": [
    "reviews.loc[0:3, 'Country name':'Ladder score'] # indices are inclusive for loc"
   ]
  },
  {
   "cell_type": "code",
   "execution_count": null,
   "id": "57f9477e",
   "metadata": {},
   "outputs": [],
   "source": [
    "# reread the csv , but assign the index column 'Country name'\n",
    "reviews = pd.read_csv('world-happiness-report-2021/world-happiness-report-2021.csv', index_col=0)\n",
    "pd.set_option('display.max_rows',10)\n",
    "reviews"
   ]
  },
  {
   "cell_type": "code",
   "execution_count": null,
   "id": "f5848b93",
   "metadata": {},
   "outputs": [],
   "source": [
    "reviews.loc[\"Finland\":\"Switzerland\", 'Ladder score':'lowerwhisker']"
   ]
  },
  {
   "cell_type": "markdown",
   "id": "2b6ee94c",
   "metadata": {},
   "source": [
    "### Manipulate the index\n",
    "- Label-based selection use the labels in the index, which is not immutable\n",
    "- set_index() method can change the index field\n",
    "   "
   ]
  },
  {
   "cell_type": "code",
   "execution_count": null,
   "id": "d7646820",
   "metadata": {},
   "outputs": [],
   "source": [
    "reviews = pd.read_csv('world-happiness-report-2021/world-happiness-report-2021.csv')\n",
    "reviews.set_index('Regional indicator')"
   ]
  },
  {
   "cell_type": "markdown",
   "id": "60231c23",
   "metadata": {},
   "source": [
    "### Conditional selection\n",
    "- select by condition\n",
    "- the result is a Series of True/False\n",
    "- the result can be used inside of loc to select the relevant data"
   ]
  },
  {
   "cell_type": "code",
   "execution_count": null,
   "id": "a9f77d7e",
   "metadata": {},
   "outputs": [],
   "source": [
    "reviews = pd.read_csv('world-happiness-report-2021/world-happiness-report-2021.csv')\n",
    "reviews['Regional indicator']=='Western Europe'"
   ]
  },
  {
   "cell_type": "code",
   "execution_count": null,
   "id": "bec7eaf0",
   "metadata": {},
   "outputs": [],
   "source": [
    "reviews.loc[reviews['Regional indicator']=='Western Europe']"
   ]
  },
  {
   "cell_type": "code",
   "execution_count": null,
   "id": "7cc33a82",
   "metadata": {},
   "outputs": [],
   "source": [
    "reviews.loc[reviews['Regional indicator']=='Western Europe',['Country name','Ladder score']]"
   ]
  },
  {
   "cell_type": "code",
   "execution_count": null,
   "id": "bc947b11",
   "metadata": {},
   "outputs": [],
   "source": [
    "reviews.loc[(reviews['Regional indicator']=='East Asia') & (reviews['Ladder score']>6.0)]"
   ]
  }
 ],
 "metadata": {
  "kernelspec": {
   "display_name": "Python 3 (ipykernel)",
   "language": "python",
   "name": "python3"
  },
  "language_info": {
   "codemirror_mode": {
    "name": "ipython",
    "version": 3
   },
   "file_extension": ".py",
   "mimetype": "text/x-python",
   "name": "python",
   "nbconvert_exporter": "python",
   "pygments_lexer": "ipython3",
   "version": "3.10.2"
  }
 },
 "nbformat": 4,
 "nbformat_minor": 5
}
