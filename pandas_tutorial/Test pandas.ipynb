{
 "cells": [
  {
   "cell_type": "code",
   "execution_count": null,
   "id": "48226962",
   "metadata": {},
   "outputs": [],
   "source": [
    "import pandas as pd\n",
    "r = [1, 2]\n",
    "ser = pd.Series(r, copy=False)\n",
    "ser"
   ]
  },
  {
   "cell_type": "code",
   "execution_count": null,
   "id": "65d584e0",
   "metadata": {},
   "outputs": [],
   "source": [
    "ser.iloc[0] = 999\n",
    "ser"
   ]
  },
  {
   "cell_type": "code",
   "execution_count": null,
   "id": "5150fa2d",
   "metadata": {},
   "outputs": [],
   "source": [
    "r"
   ]
  },
  {
   "cell_type": "code",
   "execution_count": null,
   "id": "873193bd",
   "metadata": {},
   "outputs": [],
   "source": [
    "import numpy as np\n",
    "r = np.array([1, 2])\n",
    "ser = pd.Series(r, copy=False)\n",
    "ser"
   ]
  },
  {
   "cell_type": "code",
   "execution_count": null,
   "id": "13016d01",
   "metadata": {},
   "outputs": [],
   "source": [
    "ser.iloc[0] = 999\n",
    "ser"
   ]
  },
  {
   "cell_type": "code",
   "execution_count": null,
   "id": "118a1cb5",
   "metadata": {},
   "outputs": [],
   "source": [
    "r"
   ]
  },
  {
   "cell_type": "code",
   "execution_count": null,
   "id": "58f792ec",
   "metadata": {},
   "outputs": [],
   "source": [
    "r = np.array([1, 2])\n",
    "ser = pd.Series(r, copy=True)\n",
    "ser"
   ]
  },
  {
   "cell_type": "code",
   "execution_count": null,
   "id": "b378b6a3",
   "metadata": {},
   "outputs": [],
   "source": [
    "ser.iloc[0] = 999\n",
    "ser"
   ]
  },
  {
   "cell_type": "code",
   "execution_count": null,
   "id": "2ff058a9",
   "metadata": {},
   "outputs": [],
   "source": [
    "r"
   ]
  },
  {
   "cell_type": "code",
   "execution_count": null,
   "id": "15e6f505",
   "metadata": {},
   "outputs": [],
   "source": [
    "df = pd.DataFrame({'A': 'a b c'.split(), 'B': [10, 20, 30], 'C': [11,12,13]})\n",
    "df"
   ]
  },
  {
   "cell_type": "code",
   "execution_count": null,
   "id": "4aaa2db4",
   "metadata": {},
   "outputs": [],
   "source": [
    "df.loc[:,'B':'C'].sum(axis=1) # sum each row"
   ]
  },
  {
   "cell_type": "code",
   "execution_count": null,
   "id": "db64aac8",
   "metadata": {},
   "outputs": [],
   "source": [
    "df.loc[:,'B':'C'].sum(axis=0) # sum each column"
   ]
  },
  {
   "cell_type": "code",
   "execution_count": null,
   "id": "130ffa0c",
   "metadata": {},
   "outputs": [],
   "source": [
    "df1 = pd.DataFrame({'A': [10, 20, 30], 'B': [11,12,13]})\n",
    "print(df1/10)\n",
    "df2 = pd.DataFrame({'A': [2, 4, 6], 'B': [1,2,3]})\n",
    "print(df1+df2)\n",
    "sr1 = pd.Series([1,2],index=['A','B'])\n",
    "print(sr1)\n",
    "sr2 = pd.Series([1,2,3])\n",
    "print(sr2)\n",
    "print(df1/sr1)\n",
    "print(df1.T/sr2)"
   ]
  },
  {
   "cell_type": "code",
   "execution_count": null,
   "id": "10e283dd",
   "metadata": {},
   "outputs": [],
   "source": [
    "sum_1_0 = df1.sum(axis=0)\n",
    "sum_1_0"
   ]
  },
  {
   "cell_type": "code",
   "execution_count": null,
   "id": "490f383e",
   "metadata": {},
   "outputs": [],
   "source": [
    "df1/sum_1_0"
   ]
  },
  {
   "cell_type": "code",
   "execution_count": null,
   "id": "c73247ab",
   "metadata": {},
   "outputs": [],
   "source": [
    "sum_1_1 = df1.sum(axis=1)\n",
    "sum_1_1"
   ]
  },
  {
   "cell_type": "code",
   "execution_count": null,
   "id": "33640102",
   "metadata": {},
   "outputs": [],
   "source": [
    "df1/sum_1_1"
   ]
  }
 ],
 "metadata": {
  "kernelspec": {
   "display_name": "Python 3 (ipykernel)",
   "language": "python",
   "name": "python3"
  },
  "language_info": {
   "codemirror_mode": {
    "name": "ipython",
    "version": 3
   },
   "file_extension": ".py",
   "mimetype": "text/x-python",
   "name": "python",
   "nbconvert_exporter": "python",
   "pygments_lexer": "ipython3",
   "version": "3.10.2"
  }
 },
 "nbformat": 4,
 "nbformat_minor": 5
}
