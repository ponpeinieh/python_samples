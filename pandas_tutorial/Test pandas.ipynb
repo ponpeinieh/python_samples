{
 "cells": [
  {
   "cell_type": "code",
   "execution_count": null,
   "id": "48226962",
   "metadata": {},
   "outputs": [],
   "source": [
    "import pandas as pd\n",
    "r = [1, 2]\n",
    "ser = pd.Series(r, copy=False)\n",
    "ser"
   ]
  },
  {
   "cell_type": "code",
   "execution_count": null,
   "id": "65d584e0",
   "metadata": {},
   "outputs": [],
   "source": [
    "ser.iloc[0] = 999\n",
    "ser"
   ]
  },
  {
   "cell_type": "code",
   "execution_count": null,
   "id": "5150fa2d",
   "metadata": {},
   "outputs": [],
   "source": [
    "r"
   ]
  },
  {
   "cell_type": "code",
   "execution_count": null,
   "id": "873193bd",
   "metadata": {},
   "outputs": [],
   "source": [
    "import numpy as np\n",
    "r = np.array([1, 2])\n",
    "ser = pd.Series(r, copy=False)\n",
    "ser"
   ]
  },
  {
   "cell_type": "code",
   "execution_count": null,
   "id": "13016d01",
   "metadata": {},
   "outputs": [],
   "source": [
    "ser.iloc[0] = 999\n",
    "ser"
   ]
  },
  {
   "cell_type": "code",
   "execution_count": null,
   "id": "118a1cb5",
   "metadata": {},
   "outputs": [],
   "source": [
    "r"
   ]
  },
  {
   "cell_type": "code",
   "execution_count": null,
   "id": "58f792ec",
   "metadata": {},
   "outputs": [],
   "source": [
    "r = np.array([1, 2])\n",
    "ser = pd.Series(r, copy=True)\n",
    "ser"
   ]
  },
  {
   "cell_type": "code",
   "execution_count": null,
   "id": "b378b6a3",
   "metadata": {},
   "outputs": [],
   "source": [
    "ser.iloc[0] = 999\n",
    "ser"
   ]
  },
  {
   "cell_type": "code",
   "execution_count": null,
   "id": "2ff058a9",
   "metadata": {},
   "outputs": [],
   "source": [
    "r"
   ]
  }
 ],
 "metadata": {
  "kernelspec": {
   "display_name": "Python 3 (ipykernel)",
   "language": "python",
   "name": "python3"
  },
  "language_info": {
   "codemirror_mode": {
    "name": "ipython",
    "version": 3
   },
   "file_extension": ".py",
   "mimetype": "text/x-python",
   "name": "python",
   "nbconvert_exporter": "python",
   "pygments_lexer": "ipython3",
   "version": "3.10.2"
  }
 },
 "nbformat": 4,
 "nbformat_minor": 5
}
