{
 "cells": [
  {
   "cell_type": "code",
   "execution_count": 1,
   "id": "6c3a6492",
   "metadata": {},
   "outputs": [
    {
     "name": "stdout",
     "output_type": "stream",
     "text": [
      "red ->10\n",
      "blue ->20\n",
      "purple ->15\n"
     ]
    }
   ],
   "source": [
    "monster1 = {'color':'red','score':10}\n",
    "monster2 = {'color':'blue','score':20}\n",
    "monster3 = {'color':'purple', 'score':15}\n",
    "monsters = [monster1, monster2, monster3]\n",
    "for m in monsters:\n",
    "    print(f\"{m['color']} ->{m['score']}\")"
   ]
  },
  {
   "cell_type": "code",
   "execution_count": 2,
   "id": "e5da0343",
   "metadata": {},
   "outputs": [
    {
     "name": "stdout",
     "output_type": "stream",
     "text": [
      "♠\n",
      "♡\n",
      "♢\n",
      "♣\n"
     ]
    }
   ],
   "source": [
    "suits = [0x2660, 0x2661, 0x2662, 0x2663]\n",
    "for s in suits:\n",
    "    print(chr(s)) #轉成character"
   ]
  },
  {
   "cell_type": "code",
   "execution_count": 10,
   "id": "8b5bf25e",
   "metadata": {},
   "outputs": [
    {
     "name": "stdout",
     "output_type": "stream",
     "text": [
      "♠A ♠2 ♠3 ♠4 ♠5 ♠6 ♠7 ♠8 ♠9 ♠10 ♠J ♠Q ♠K ♡A ♡2 ♡3 ♡4 ♡5 ♡6 ♡7 ♡8 ♡9 ♡10 ♡J ♡Q ♡K ♢A ♢2 ♢3 ♢4 ♢5 ♢6 ♢7 ♢8 ♢9 ♢10 ♢J ♢Q ♢K ♣A ♣2 ♣3 ♣4 ♣5 ♣6 ♣7 ♣8 ♣9 ♣10 ♣J ♣Q ♣K "
     ]
    }
   ],
   "source": [
    "cards = [] #儲存52張牌\n",
    "suits = [0x2660, 0x2661, 0x2662, 0x2663] #花色\n",
    "ranks = ['A','2','3','4','5','6','7','8','9','10','J','Q','K'] #點數\n",
    "for suit in suits:\n",
    "    for rank in ranks:\n",
    "        card = {'suit':chr(suit), 'rank':rank}\n",
    "        cards.append(card)\n",
    "\n",
    "#print(cards) \n",
    "for card in cards:\n",
    "    print(f\"{card['suit']}{card['rank']}\", end=' ')\n",
    "    "
   ]
  },
  {
   "cell_type": "code",
   "execution_count": 14,
   "id": "c625dd30",
   "metadata": {},
   "outputs": [
    {
     "name": "stdout",
     "output_type": "stream",
     "text": [
      "♠A ♠2 ♠3 ♠4 ♠5 ♠6 ♠7 ♠8 ♠9 ♠10 ♠J ♠Q ♠K ♡A ♡2 ♡3 ♡4 ♡5 ♡6 ♡7 ♡8 ♡9 ♡10 ♡J ♡Q ♡K ♢A ♢2 ♢3 ♢4 ♢5 ♢6 ♢7 ♢8 ♢9 ♢10 ♢J ♢Q ♢K ♣A ♣2 ♣3 ♣4 ♣5 ♣6 ♣7 ♣8 ♣9 ♣10 ♣J ♣Q ♣K "
     ]
    }
   ],
   "source": [
    "cards=[]\n",
    "for n in range(52):\n",
    "    cards.append({'suit':chr(suits[n//13]),'rank':ranks[n%13]})\n",
    "#print(cards)\n",
    "for card in cards:\n",
    "    print(f\"{card['suit']}{card['rank']}\", end=' ')"
   ]
  },
  {
   "cell_type": "code",
   "execution_count": 19,
   "id": "f35cd971",
   "metadata": {},
   "outputs": [
    {
     "name": "stdout",
     "output_type": "stream",
     "text": [
      "7 8 8 9 1 8 7 3 2 4 6 4 6 3 1 3 7 7 8 7 8 6 3 3 2 5 6 4 5 10 "
     ]
    }
   ],
   "source": [
    "#產生整數亂數\n",
    "# random模組\n",
    "import random\n",
    "for i in range(30):\n",
    "    print(random.randint(1,10), end=' ')\n"
   ]
  },
  {
   "cell_type": "code",
   "execution_count": 22,
   "id": "124a3e4b",
   "metadata": {},
   "outputs": [
    {
     "name": "stdout",
     "output_type": "stream",
     "text": [
      "[0, 1, 2, 3, 4, 5, 6, 7, 8, 9, 10, 11, 12, 13, 14, 15, 16, 17, 18, 19, 20, 21, 22, 23, 24, 25, 26, 27, 28, 29, 30, 31, 32, 33, 34, 35, 36, 37, 38, 39, 40, 41, 42, 43, 44, 45, 46, 47, 48, 49, 50, 51]\n",
      "===after shuffle===\n",
      "[26, 46, 35, 32, 31, 21, 4, 12, 11, 48, 6, 23, 20, 1, 38, 0, 42, 15, 14, 24, 19, 7, 37, 22, 10, 33, 29, 47, 34, 45, 51, 44, 36, 25, 39, 28, 3, 50, 49, 40, 27, 41, 13, 43, 5, 30, 17, 2, 18, 9, 8, 16]\n",
      "♢A ♣8 ♢10 ♢7 ♢6 ♡9 ♠5 ♠K ♠Q ♣10 ♠7 ♡J ♡8 ♠2 ♢K ♠A ♣4 ♡3 ♡2 ♡Q ♡7 ♠8 ♢Q ♡10 ♠J ♢8 ♢4 ♣9 ♢9 ♣7 ♣K ♣6 ♢J ♡K ♣A ♢3 ♠4 ♣Q ♣J ♣2 ♢2 ♣3 ♡A ♣5 ♠6 ♢5 ♡5 ♠3 ♡6 ♠10 ♠9 ♡4 "
     ]
    }
   ],
   "source": [
    "data = list(range(52))\n",
    "print(data)\n",
    "for n in range(51,0,-1): # 51, 50, 49 ..., 1 \n",
    "    m = random.randint(0,n)\n",
    "    temp = data[m]\n",
    "    data[m] = data[n]\n",
    "    data[n] = temp\n",
    "print(\"===after shuffle===\")\n",
    "print(data)\n",
    "cards=[]\n",
    "for n in data:\n",
    "    cards.append({'suit':chr(suits[n//13]),'rank':ranks[n%13]})\n",
    "#print(cards)\n",
    "for card in cards:\n",
    "    print(f\"{card['suit']}{card['rank']}\", end=' ')"
   ]
  },
  {
   "cell_type": "code",
   "execution_count": 26,
   "id": "bd4dd1cd",
   "metadata": {},
   "outputs": [
    {
     "name": "stdout",
     "output_type": "stream",
     "text": [
      "jenny最喜歡的語言是: C,Java,\n",
      "Edward最喜歡的語言是: C++,Python,\n",
      "Philips最喜歡的語言是: C,C++,Python,\n"
     ]
    }
   ],
   "source": [
    "# a dictionary contains a list\n",
    "favorite_languages = {'jenny':['C','Java'], 'Edward':['C++','Python'],'Philips':['C','C++','Python']}\n",
    "for k,v in favorite_languages.items():\n",
    "    print(f'{k}最喜歡的語言是:', end=' ')\n",
    "    for language in v:\n",
    "        print(language, end = ',')\n",
    "    print(end='\\n')"
   ]
  },
  {
   "cell_type": "code",
   "execution_count": 29,
   "id": "03beee2c",
   "metadata": {},
   "outputs": [
    {
     "name": "stdout",
     "output_type": "stream",
     "text": [
      "id: einstein -> \n",
      "\tfirstname -> Albert\n",
      "\tlastname -> Einstein\n",
      "\tlocation -> Princeton\n",
      "id: curie -> \n",
      "\tfirstname -> Marie\n",
      "\tlastname -> Curie\n",
      "\tlocation -> Paris\n"
     ]
    }
   ],
   "source": [
    "scientists = {'einstein':{'firstname':'Albert','lastname':'Einstein', 'location':'Princeton'},\n",
    "                  'curie':{'firstname':'Marie','lastname':'Curie','location':'Paris'}}\n",
    "for name,infos in scientists.items():\n",
    "    print(f'id: {name} -> ')\n",
    "    for k,v in infos.items():\n",
    "        print(f'\\t{k} -> {v}')\n",
    "        \n",
    "        "
   ]
  }
 ],
 "metadata": {
  "kernelspec": {
   "display_name": "Python 3 (ipykernel)",
   "language": "python",
   "name": "python3"
  },
  "language_info": {
   "codemirror_mode": {
    "name": "ipython",
    "version": 3
   },
   "file_extension": ".py",
   "mimetype": "text/x-python",
   "name": "python",
   "nbconvert_exporter": "python",
   "pygments_lexer": "ipython3",
   "version": "3.10.5"
  }
 },
 "nbformat": 4,
 "nbformat_minor": 5
}
