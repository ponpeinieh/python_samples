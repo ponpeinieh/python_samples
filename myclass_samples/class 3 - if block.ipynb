{
 "cells": [
  {
   "cell_type": "code",
   "execution_count": null,
   "id": "4e6d2a17",
   "metadata": {},
   "outputs": [],
   "source": [
    "age = int(input('How old are you?'))\n",
    "if age>=18:\n",
    "    print(\"您有投票權了!\")\n",
    "print('完成')\n",
    "    "
   ]
  },
  {
   "cell_type": "code",
   "execution_count": null,
   "id": "dac05cdf",
   "metadata": {},
   "outputs": [],
   "source": [
    "#關係運算子\n",
    "age > 10"
   ]
  },
  {
   "cell_type": "code",
   "execution_count": null,
   "id": "9bc76802",
   "metadata": {},
   "outputs": [],
   "source": [
    "age>=10"
   ]
  },
  {
   "cell_type": "code",
   "execution_count": null,
   "id": "2a94f182",
   "metadata": {},
   "outputs": [],
   "source": [
    "age<15"
   ]
  },
  {
   "cell_type": "code",
   "execution_count": null,
   "id": "d75114a3",
   "metadata": {},
   "outputs": [],
   "source": [
    "age<=10"
   ]
  },
  {
   "cell_type": "code",
   "execution_count": null,
   "id": "9fc1c45b",
   "metadata": {},
   "outputs": [],
   "source": [
    "age == 10"
   ]
  },
  {
   "cell_type": "code",
   "execution_count": null,
   "id": "0f50778c",
   "metadata": {},
   "outputs": [],
   "source": [
    "age != 15"
   ]
  },
  {
   "cell_type": "code",
   "execution_count": null,
   "id": "173bac53",
   "metadata": {},
   "outputs": [],
   "source": [
    "number = int(input(\"請輸入一個1-100的整數:\"))\n",
    "if number%2 ==0:\n",
    "    print(f\"{number}是一個偶數\")\n",
    "if number>0:\n",
    "    print(f\"{number}是一個正數\")"
   ]
  },
  {
   "cell_type": "code",
   "execution_count": null,
   "id": "98213ce1",
   "metadata": {},
   "outputs": [],
   "source": [
    "age = int(input('How old are you?'))\n",
    "if age>=18:\n",
    "    print(\"您有投票權了!\")\n",
    "else:\n",
    "    print(\"請再等上幾年吧!\")\n",
    "    "
   ]
  },
  {
   "cell_type": "code",
   "execution_count": null,
   "id": "9e72b71e",
   "metadata": {},
   "outputs": [],
   "source": [
    "number = int(input(\"請輸入一個整數:\"))\n",
    "if number%2 ==0:\n",
    "    print(f\"{number}是一個偶數\")\n",
    "else:\n",
    "    print(f\"{number}是一個奇數\")\n",
    "if number>0:\n",
    "    print(f\"{number}是一個正數\")\n",
    "else :\n",
    "    print(f\"{number}是0或者負數\")"
   ]
  },
  {
   "cell_type": "code",
   "execution_count": null,
   "id": "92c6f09f",
   "metadata": {},
   "outputs": [],
   "source": [
    "number = int(input(\"請輸入一個整數:\"))\n",
    "if number>0:\n",
    "    print(f\"{number}是正數\")\n",
    "elif number<0:\n",
    "    print(f\"{number}是負數\")\n",
    "else:\n",
    "    print('是0')\n",
    "    "
   ]
  },
  {
   "cell_type": "markdown",
   "id": "fdbfdcaf",
   "metadata": {},
   "source": [
    "### 練習:\n",
    "1. 輸入一個1-7的整數\n",
    "2. 列印Monday, Tuesday, ...Sunday"
   ]
  },
  {
   "cell_type": "code",
   "execution_count": null,
   "id": "1edade92",
   "metadata": {},
   "outputs": [],
   "source": [
    "a = int(input('請輸入第一個整數'))\n",
    "b = int(input('請輸入第二個整數'))\n",
    "if a>0 and b>0:\n",
    "    print('兩個均為正數!')\n",
    "else:\n",
    "    print('至少有一個不是正數!')\n",
    "    "
   ]
  },
  {
   "cell_type": "code",
   "execution_count": null,
   "id": "2ff6b597",
   "metadata": {},
   "outputs": [],
   "source": [
    "# 是否介於1-100之間?\n",
    "a = int(input('請輸入一個整數'))\n",
    "if a>=1 and a<=100:\n",
    "    print(f'{a}介於1-100之間')\n",
    "else:\n",
    "    print(f'{a}不介於1-100之間')"
   ]
  },
  {
   "cell_type": "code",
   "execution_count": null,
   "id": "22d33c29",
   "metadata": {},
   "outputs": [],
   "source": [
    "a = int(input('請輸入第一個整數'))\n",
    "b = int(input('請輸入第二個整數'))\n",
    "if a>0 or b>0:\n",
    "    print('至少有一個是正數!')\n",
    "else:\n",
    "    print('兩個均為負數!')"
   ]
  },
  {
   "cell_type": "code",
   "execution_count": null,
   "id": "27aa7e12",
   "metadata": {},
   "outputs": [],
   "source": [
    "a = int(input('請輸入一個整數'))\n",
    "if a<1 or a>100:\n",
    "    print(f'{a}不介於1-100之間')"
   ]
  },
  {
   "cell_type": "markdown",
   "id": "c3173ed3",
   "metadata": {},
   "source": [
    "### 練習\n",
    "- 根據雨量分級制度, 輸入雨量(24小時累積雨量), 判斷是大雨,豪雨,大豪雨...\n",
    "- 四象限, x/y軸,原點判斷"
   ]
  },
  {
   "cell_type": "code",
   "execution_count": null,
   "id": "fa1f56ff",
   "metadata": {},
   "outputs": [],
   "source": [
    "# in\n",
    "cars = ['toyota','bmw','benz','audi','suzuki','tesla']\n",
    "car = input('請輸入您有計畫想買的車子廠牌:')\n",
    "if car in cars:\n",
    "    print(f'{car}有庫存!')\n",
    "else:\n",
    "    print('等待進貨中!')"
   ]
  },
  {
   "cell_type": "code",
   "execution_count": null,
   "id": "8a975102",
   "metadata": {},
   "outputs": [],
   "source": [
    "# not in\n",
    "banned_users = ['steve','malvin','david','troy']\n",
    "user = input('請輸入您的user id:')\n",
    "if user not in banned_users:\n",
    "    print(f'{user}您好!您可以使用我們的系統!')\n",
    "else:\n",
    "    print('抱歉您被屏蔽了!')"
   ]
  },
  {
   "cell_type": "code",
   "execution_count": null,
   "id": "eaa14869",
   "metadata": {},
   "outputs": [],
   "source": [
    "available_toppings = ['青椒','火腿','玉米','香腸','雞肉']\n",
    "desired_toppings = ['鳳梨','洋菇','香腸']\n",
    "for t in desired_toppings:\n",
    "    if t in available_toppings:\n",
    "        print(f\"{t}有提供!\")\n",
    "    else:\n",
    "        print(f\"今天{t}沒有提供!\")"
   ]
  },
  {
   "cell_type": "markdown",
   "id": "715314ec",
   "metadata": {},
   "source": [
    "### 檢查user ID是否有重復\n",
    "\n",
    "- 第一個列表(current_users)包含5位系統已經有的user ids.\n",
    "- 第二個列表(new_users)包含5位系統想要加入的新的user ids(與current_users有部分重復).\n",
    "- 尋訪new_users列表, 看是否有與current_users內容相同(不考慮大小寫, 亦即\"Tom\"與\"TOM\"視爲相同)\n",
    "\n",
    "- 若重復則列印\"user id相同, 請輸入新的id!\"\n",
    "- 若不重復則列印\"user id可以使用!\""
   ]
  },
  {
   "cell_type": "markdown",
   "id": "f7daa06b",
   "metadata": {},
   "source": [
    "### 練習: Ordinal numbers\n",
    "- 英文的序數規則爲: 第一稱爲First(1st), 第二稱爲Second(2nd), 第三稱爲Third(3rd), 第四以後爲number+th(4th,5th,...)\n",
    "- 將1-9存入一個list\n",
    "- 尋訪這個列表, 利用if-elif-else來將數字轉成序數.亦即1st 2nd 3rd 4th 5th 6th 7th 8th 9th."
   ]
  },
  {
   "cell_type": "code",
   "execution_count": null,
   "id": "02569db5",
   "metadata": {},
   "outputs": [],
   "source": [
    "# Ternary operator(三元運算子)\n",
    "gender = 'F'\n",
    "# 'M' -> Hi. Mr.\n",
    "# 'F' -> Hi. Ms.\n",
    "msg = 'Hi Mr.' if gender=='M' else 'Hi Ms.'\n",
    "print(msg)\n",
    "\n",
    "number = 1 if gender == 'M' else 0\n",
    "print(number)"
   ]
  },
  {
   "cell_type": "code",
   "execution_count": null,
   "id": "29ef938f",
   "metadata": {},
   "outputs": [],
   "source": [
    "#第二種用法\n",
    "gender = 'M'\n",
    "msg = ('Hi Ms','Hi Mr.')[gender=='M']\n",
    "print(msg)\n",
    "number = (0,1)[gender=='M']\n",
    "print(number)"
   ]
  }
 ],
 "metadata": {
  "kernelspec": {
   "display_name": "Python 3 (ipykernel)",
   "language": "python",
   "name": "python3"
  },
  "language_info": {
   "codemirror_mode": {
    "name": "ipython",
    "version": 3
   },
   "file_extension": ".py",
   "mimetype": "text/x-python",
   "name": "python",
   "nbconvert_exporter": "python",
   "pygments_lexer": "ipython3",
   "version": "3.11.2"
  }
 },
 "nbformat": 4,
 "nbformat_minor": 5
}
