{
 "cells": [
  {
   "cell_type": "code",
   "execution_count": null,
   "id": "9ccecf44",
   "metadata": {},
   "outputs": [],
   "source": [
    "#定義class\n",
    "class Dog:\n",
    "    def __init__(self, name, age, gender, color): # 建構子\n",
    "        self.name=name\n",
    "        self.age=age\n",
    "        self.gender=gender\n",
    "        self.color=color\n",
    "    def bark(self): \n",
    "        print(f'{self.name} is barking....')\n",
    "    "
   ]
  },
  {
   "cell_type": "code",
   "execution_count": null,
   "id": "7631b219",
   "metadata": {},
   "outputs": [],
   "source": [
    "#產生Dog的物件\n",
    "my_dog = Dog('PiPi',3, 'M','black')\n",
    "my_dog.name"
   ]
  },
  {
   "cell_type": "code",
   "execution_count": null,
   "id": "3f42ec40",
   "metadata": {},
   "outputs": [],
   "source": [
    "my_dog.bark()"
   ]
  },
  {
   "cell_type": "code",
   "execution_count": null,
   "id": "c2de065c",
   "metadata": {},
   "outputs": [],
   "source": [
    "my_dog.color"
   ]
  },
  {
   "cell_type": "code",
   "execution_count": null,
   "id": "be3d215a",
   "metadata": {},
   "outputs": [],
   "source": [
    "your_dog = Dog('Lucy',5,'F','white')\n",
    "your_dog.name"
   ]
  },
  {
   "cell_type": "markdown",
   "id": "5944c231",
   "metadata": {},
   "source": [
    "### 練習: Restaurant\n",
    "- 定義一個Restaurant類別\n",
    "- ```__init__()``` method(方法) 接受兩個attributes: restaurant_name及 cruisine_type\n",
    "- 定義一個 describe_restaurant() method : 列印這兩個資訊\n",
    "- 定義一個 open_restaurant() method : 列印 “這個餐廳目前是營業中” 的訊息\n",
    "- 建立一個 Restaurant物件， 列印 restaurant_name及 cruisine_type 並呼叫這兩個method"
   ]
  },
  {
   "cell_type": "code",
   "execution_count": null,
   "id": "1973ee23",
   "metadata": {},
   "outputs": [],
   "source": [
    "# Car class\n",
    "class Car:\n",
    "    def __init__(self, make, model, year):\n",
    "        self.make=make\n",
    "        self.model=model\n",
    "        self.year=year\n",
    "        self.odometer = 0\n",
    "    def get_description(self):\n",
    "        return f\"{self.year} {self.make} {self.model}\"\n",
    "    def read_odometer(self):\n",
    "        print(f\"This car has {self.odometer} kms\")\n",
    "    def update_odometer(self, km):\n",
    "        if km>self.odometer:\n",
    "            self.odometer = km\n",
    "        else:\n",
    "            print(f'We can not roll back the odometer')    \n",
    "    def fill_gas_tank(self):\n",
    "        print(f'The gas tank has been filled!')"
   ]
  },
  {
   "cell_type": "code",
   "execution_count": null,
   "id": "9dbb2ccb",
   "metadata": {},
   "outputs": [],
   "source": [
    "my_car = Car('Toyota','Yaris',2020)\n",
    "my_car.get_description()"
   ]
  },
  {
   "cell_type": "code",
   "execution_count": null,
   "id": "3651a3a1",
   "metadata": {},
   "outputs": [],
   "source": [
    "my_car.read_odometer()"
   ]
  },
  {
   "cell_type": "code",
   "execution_count": null,
   "id": "19f1cc74",
   "metadata": {},
   "outputs": [],
   "source": [
    "my_car.update_odometer(1000)\n",
    "my_car.read_odometer()"
   ]
  },
  {
   "cell_type": "code",
   "execution_count": null,
   "id": "b00e6dfc",
   "metadata": {},
   "outputs": [],
   "source": [
    "my_car.update_odometer(500)"
   ]
  },
  {
   "cell_type": "code",
   "execution_count": null,
   "id": "f35835a0",
   "metadata": {},
   "outputs": [],
   "source": [
    "# child class, derived class, sub class\n",
    "class ElectricCar(Car):\n",
    "    def __init__(self, make,model,year, batter_size):\n",
    "        super().__init__(make,model,year)\n",
    "        self.battery_size = batter_size\n",
    "    def describe_battery(self):\n",
    "        print(f'This electric car has {self.battery_size}-kWh battery!')\n",
    "    def fill_gas_tank(self):\n",
    "        print(\"The electric car doesn't need to fill gas!\")"
   ]
  },
  {
   "cell_type": "code",
   "execution_count": null,
   "id": "0ad7bae0",
   "metadata": {},
   "outputs": [],
   "source": [
    "#產生ElectricCar物件\n",
    "eCar = ElectricCar('Tesla','model s',2021, 75)\n",
    "eCar.model"
   ]
  },
  {
   "cell_type": "code",
   "execution_count": null,
   "id": "8e609f05",
   "metadata": {},
   "outputs": [],
   "source": [
    "eCar.get_description()"
   ]
  },
  {
   "cell_type": "code",
   "execution_count": null,
   "id": "ba334070",
   "metadata": {},
   "outputs": [],
   "source": [
    "eCar.describe_battery()"
   ]
  },
  {
   "cell_type": "code",
   "execution_count": null,
   "id": "b21aeafa",
   "metadata": {},
   "outputs": [],
   "source": [
    "eCar.fill_gas_tank()"
   ]
  },
  {
   "cell_type": "code",
   "execution_count": null,
   "id": "3460de20",
   "metadata": {},
   "outputs": [],
   "source": [
    "# Battery class\n",
    "class Battery:\n",
    "    def __init__(self, battery_size):\n",
    "        self.battery_size=battery_size\n",
    "    def describe_battery(self):\n",
    "        print(f'This battery has {self.battery_size}-kWh !')"
   ]
  },
  {
   "cell_type": "code",
   "execution_count": null,
   "id": "689d3bde",
   "metadata": {},
   "outputs": [],
   "source": [
    "class ElectricCar2(Car):\n",
    "    def __init__(self, make,model,year, battery_size):\n",
    "        super().__init__(make,model,year)\n",
    "        #self.battery_size = battery_size\n",
    "        self.battery = Battery(battery_size)"
   ]
  },
  {
   "cell_type": "code",
   "execution_count": null,
   "id": "1bb42d37",
   "metadata": {},
   "outputs": [],
   "source": [
    "eCar2 = ElectricCar2('Tesla','model s',2021, 75)\n",
    "eCar2.battery.describe_battery()"
   ]
  },
  {
   "cell_type": "code",
   "execution_count": 1,
   "id": "b7aaa4bb",
   "metadata": {},
   "outputs": [
    {
     "name": "stdout",
     "output_type": "stream",
     "text": [
      "1\n",
      "1\n",
      "6\n",
      "6\n",
      "5\n",
      "3\n",
      "2\n",
      "5\n",
      "1\n",
      "5\n",
      "2\n",
      "1\n",
      "1\n",
      "1\n",
      "3\n",
      "1\n",
      "5\n",
      "1\n",
      "6\n",
      "5\n"
     ]
    }
   ],
   "source": [
    "# random module\n",
    "from random import randint\n",
    "for i in range(20):\n",
    "    print(randint(1,6))\n"
   ]
  },
  {
   "cell_type": "code",
   "execution_count": 2,
   "id": "1388d879",
   "metadata": {},
   "outputs": [
    {
     "name": "stdout",
     "output_type": "stream",
     "text": [
      "green\n",
      "red\n",
      "green\n",
      "red\n",
      "black\n",
      "red\n",
      "black\n",
      "black\n",
      "red\n",
      "red\n"
     ]
    }
   ],
   "source": [
    "from random import choice\n",
    "colors = ['red','green','black','blue']\n",
    "for i in range(10):\n",
    "    print(choice(colors))"
   ]
  }
 ],
 "metadata": {
  "kernelspec": {
   "display_name": "Python 3 (ipykernel)",
   "language": "python",
   "name": "python3"
  },
  "language_info": {
   "codemirror_mode": {
    "name": "ipython",
    "version": 3
   },
   "file_extension": ".py",
   "mimetype": "text/x-python",
   "name": "python",
   "nbconvert_exporter": "python",
   "pygments_lexer": "ipython3",
   "version": "3.10.2"
  }
 },
 "nbformat": 4,
 "nbformat_minor": 5
}
