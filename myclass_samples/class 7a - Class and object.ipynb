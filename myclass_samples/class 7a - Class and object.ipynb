{
 "cells": [
  {
   "cell_type": "code",
   "execution_count": null,
   "id": "628421ea",
   "metadata": {},
   "outputs": [],
   "source": [
    "#定義class\n",
    "class Dog:\n",
    "    def __init__(self, name, age, gender, color): # 建構子\n",
    "        self.name=name\n",
    "        self.age=age\n",
    "        self.gender=gender\n",
    "        self.color=color\n",
    "    def bark(self): \n",
    "        print(f'{self.name} is barking....')\n",
    "    "
   ]
  },
  {
   "cell_type": "code",
   "execution_count": null,
   "id": "c0b67890",
   "metadata": {},
   "outputs": [],
   "source": [
    "#產生Dog的物件\n",
    "my_dog = Dog('PiPi',3, 'M','black')\n",
    "my_dog.name"
   ]
  },
  {
   "cell_type": "code",
   "execution_count": null,
   "id": "a177867f",
   "metadata": {},
   "outputs": [],
   "source": [
    "my_dog.bark()"
   ]
  },
  {
   "cell_type": "code",
   "execution_count": null,
   "id": "ce6477f4",
   "metadata": {},
   "outputs": [],
   "source": [
    "my_dog.color"
   ]
  },
  {
   "cell_type": "code",
   "execution_count": null,
   "id": "d790a8d4",
   "metadata": {},
   "outputs": [],
   "source": [
    "your_dog = Dog('Lucy',5,'F','white')\n",
    "your_dog.name"
   ]
  },
  {
   "cell_type": "markdown",
   "id": "2084290b",
   "metadata": {},
   "source": [
    "### 練習: Restaurant\n",
    "- 定義一個Restaurant類別\n",
    "- ```__init__()``` method(方法) 接受兩個attributes: restaurant_name及 cruisine_type\n",
    "- 定義一個 describe_restaurant() method : 列印這兩個資訊\n",
    "- 定義一個 open_restaurant() method : 列印 “這個餐廳目前是營業中” 的訊息\n",
    "- 建立一個 Restaurant物件， 列印 restaurant_name及 cruisine_type 並呼叫這兩個method"
   ]
  },
  {
   "cell_type": "code",
   "execution_count": null,
   "id": "deacaff1",
   "metadata": {},
   "outputs": [],
   "source": [
    "# Car class\n",
    "class Car:\n",
    "    def __init__(self, make, model, year):\n",
    "        self.make=make\n",
    "        self.model=model\n",
    "        self.year=year\n",
    "        self.odometer = 0\n",
    "    def get_description(self):\n",
    "        return f\"{self.year} {self.make} {self.model}\"\n",
    "    def read_odometer(self):\n",
    "        print(f\"This car has {self.odometer} kms\")\n",
    "    def update_odometer(self, km):\n",
    "        if km>self.odometer:\n",
    "            self.odometer = km\n",
    "        else:\n",
    "            print(f'We can not roll back the odometer')    \n",
    "    def fill_gas_tank(self):\n",
    "        print(f'The gas tank has been filled!')"
   ]
  },
  {
   "cell_type": "code",
   "execution_count": null,
   "id": "9b007651",
   "metadata": {},
   "outputs": [],
   "source": [
    "my_car = Car('Toyota','Yaris',2020)\n",
    "my_car.get_description()"
   ]
  },
  {
   "cell_type": "code",
   "execution_count": null,
   "id": "de246ac6",
   "metadata": {},
   "outputs": [],
   "source": [
    "my_car.read_odometer()"
   ]
  },
  {
   "cell_type": "code",
   "execution_count": null,
   "id": "c049532e",
   "metadata": {},
   "outputs": [],
   "source": [
    "my_car.update_odometer(1000)\n",
    "my_car.read_odometer()"
   ]
  },
  {
   "cell_type": "code",
   "execution_count": null,
   "id": "3554bb82",
   "metadata": {},
   "outputs": [],
   "source": [
    "my_car.update_odometer(500)"
   ]
  },
  {
   "cell_type": "code",
   "execution_count": null,
   "id": "b4b5f290",
   "metadata": {},
   "outputs": [],
   "source": [
    "# child class, derived class, sub class\n",
    "class ElectricCar(Car):\n",
    "    def __init__(self, make,model,year, batter_size):\n",
    "        super().__init__(make,model,year)\n",
    "        self.battery_size = batter_size\n",
    "    def describe_battery(self):\n",
    "        print(f'This electric car has {self.battery_size}-kWh battery!')\n",
    "    def fill_gas_tank(self):\n",
    "        print(\"The electric car doesn't need to fill gas!\")"
   ]
  },
  {
   "cell_type": "code",
   "execution_count": null,
   "id": "d639c513",
   "metadata": {},
   "outputs": [],
   "source": [
    "#產生ElectricCar物件\n",
    "eCar = ElectricCar('Tesla','model s',2021, 75)\n",
    "eCar.model"
   ]
  },
  {
   "cell_type": "code",
   "execution_count": null,
   "id": "71e8987e",
   "metadata": {},
   "outputs": [],
   "source": [
    "eCar.get_description()"
   ]
  },
  {
   "cell_type": "code",
   "execution_count": null,
   "id": "56f4bd21",
   "metadata": {},
   "outputs": [],
   "source": [
    "eCar.describe_battery()"
   ]
  },
  {
   "cell_type": "code",
   "execution_count": null,
   "id": "550c403c",
   "metadata": {},
   "outputs": [],
   "source": [
    "eCar.fill_gas_tank()"
   ]
  },
  {
   "cell_type": "code",
   "execution_count": null,
   "id": "567082f7",
   "metadata": {},
   "outputs": [],
   "source": [
    "# Battery class\n",
    "class Battery:\n",
    "    def __init__(self, battery_size):\n",
    "        self.battery_size=battery_size\n",
    "    def describe_battery(self):\n",
    "        print(f'This battery has {self.battery_size}-kWh !')"
   ]
  },
  {
   "cell_type": "code",
   "execution_count": null,
   "id": "8ced3299",
   "metadata": {},
   "outputs": [],
   "source": [
    "class ElectricCar2(Car):\n",
    "    def __init__(self, make,model,year, battery_size):\n",
    "        super().__init__(make,model,year)\n",
    "        #self.battery_size = batter_size\n",
    "        self.battery = Battery(battery_size)"
   ]
  },
  {
   "cell_type": "code",
   "execution_count": null,
   "id": "25a68c09",
   "metadata": {},
   "outputs": [],
   "source": [
    "eCar2 = ElectricCar2('Tesla','model s',2021, 75)\n",
    "eCar2.battery.describe_battery()"
   ]
  }
 ],
 "metadata": {
  "kernelspec": {
   "display_name": "Python 3 (ipykernel)",
   "language": "python",
   "name": "python3"
  },
  "language_info": {
   "codemirror_mode": {
    "name": "ipython",
    "version": 3
   },
   "file_extension": ".py",
   "mimetype": "text/x-python",
   "name": "python",
   "nbconvert_exporter": "python",
   "pygments_lexer": "ipython3",
   "version": "3.10.2"
  }
 },
 "nbformat": 4,
 "nbformat_minor": 5
}
