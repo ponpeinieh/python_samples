{
 "cells": [
  {
   "cell_type": "code",
   "execution_count": 1,
   "id": "fb72f556",
   "metadata": {},
   "outputs": [],
   "source": [
    "# 任意個數的positional arguments\n",
    "def make_pizza_func(*toppings):\n",
    "    # toppings is a tuple\n",
    "    print(toppings)\n"
   ]
  },
  {
   "cell_type": "code",
   "execution_count": 2,
   "id": "c06f1a6d",
   "metadata": {},
   "outputs": [
    {
     "name": "stdout",
     "output_type": "stream",
     "text": [
      "()\n"
     ]
    }
   ],
   "source": [
    "make_pizza_func()"
   ]
  },
  {
   "cell_type": "code",
   "execution_count": 3,
   "id": "ba4412ac",
   "metadata": {},
   "outputs": [
    {
     "name": "stdout",
     "output_type": "stream",
     "text": [
      "('pepproni',)\n"
     ]
    }
   ],
   "source": [
    "make_pizza_func('pepproni')"
   ]
  },
  {
   "cell_type": "code",
   "execution_count": 4,
   "id": "91dce55d",
   "metadata": {},
   "outputs": [
    {
     "name": "stdout",
     "output_type": "stream",
     "text": [
      "('peppers', 'corn', 'ham')\n"
     ]
    }
   ],
   "source": [
    "make_pizza_func('peppers','corn','ham')"
   ]
  },
  {
   "cell_type": "code",
   "execution_count": 5,
   "id": "b821a55a",
   "metadata": {},
   "outputs": [],
   "source": [
    "def make_pizza2(size,*toppings):\n",
    "    print(f'Making a {size}-inch pizza with the following toppings:')\n",
    "    for t in toppings:\n",
    "        print(t)"
   ]
  },
  {
   "cell_type": "code",
   "execution_count": 6,
   "id": "40eb7b56",
   "metadata": {},
   "outputs": [
    {
     "name": "stdout",
     "output_type": "stream",
     "text": [
      "Making a 10-inch pizza with the following toppings:\n",
      "peppers\n",
      "corn\n",
      "ham\n"
     ]
    }
   ],
   "source": [
    "make_pizza2(10,'peppers','corn','ham')"
   ]
  },
  {
   "cell_type": "code",
   "execution_count": 7,
   "id": "07ffda65",
   "metadata": {},
   "outputs": [],
   "source": [
    "# 可變數量的keyword arguments\n",
    "def build_profile(firstname, lastname, **user_info):\n",
    "    # user_info is a dictionary\n",
    "    user_info['firstname']=firstname\n",
    "    user_info['lastname']=lastname\n",
    "    return user_info\n"
   ]
  },
  {
   "cell_type": "code",
   "execution_count": 8,
   "id": "d1ebc2c7",
   "metadata": {},
   "outputs": [
    {
     "data": {
      "text/plain": [
       "{'firstname': 'Johnny', 'lastname': 'Smith'}"
      ]
     },
     "execution_count": 8,
     "metadata": {},
     "output_type": "execute_result"
    }
   ],
   "source": [
    "build_profile('Johnny','Smith')"
   ]
  },
  {
   "cell_type": "code",
   "execution_count": 9,
   "id": "2b8342b4",
   "metadata": {},
   "outputs": [
    {
     "data": {
      "text/plain": [
       "{'age': 60, 'height': 178, 'firstname': 'Tom', 'lastname': 'Jones'}"
      ]
     },
     "execution_count": 9,
     "metadata": {},
     "output_type": "execute_result"
    }
   ],
   "source": [
    "build_profile('Tom','Jones',age=60, height=178)"
   ]
  },
  {
   "cell_type": "code",
   "execution_count": 10,
   "id": "3c743d93",
   "metadata": {},
   "outputs": [
    {
     "data": {
      "text/plain": [
       "{'firstname': 'Tom', 'lastname': 'Jones', 'age': 60, 'height': 178}"
      ]
     },
     "execution_count": 10,
     "metadata": {},
     "output_type": "execute_result"
    }
   ],
   "source": [
    "def build_profile2(firstname, lastname, **user_info):\n",
    "    a_dict = {}\n",
    "    a_dict['firstname']=firstname\n",
    "    a_dict['lastname']=lastname\n",
    "    a_dict.update(user_info)\n",
    "    return a_dict\n",
    "build_profile2('Tom','Jones',age=60, height=178)"
   ]
  },
  {
   "cell_type": "code",
   "execution_count": 11,
   "id": "d93c1c37",
   "metadata": {},
   "outputs": [],
   "source": [
    "import sys\n",
    "sys.path.append('python_modules')"
   ]
  },
  {
   "cell_type": "code",
   "execution_count": 12,
   "id": "39be4ad3",
   "metadata": {},
   "outputs": [
    {
     "name": "stdout",
     "output_type": "stream",
     "text": [
      "('peppers', 'corn', 'ham')\n"
     ]
    }
   ],
   "source": [
    "import pizza\n",
    "pizza.make_pizza('peppers','corn','ham')"
   ]
  },
  {
   "cell_type": "code",
   "execution_count": 13,
   "id": "0a719854",
   "metadata": {},
   "outputs": [
    {
     "name": "stdout",
     "output_type": "stream",
     "text": [
      "96\n"
     ]
    }
   ],
   "source": [
    "import random\n",
    "print(random.randint(1,100))"
   ]
  },
  {
   "cell_type": "code",
   "execution_count": 14,
   "id": "e24c5432",
   "metadata": {},
   "outputs": [
    {
     "name": "stdout",
     "output_type": "stream",
     "text": [
      "25\n"
     ]
    }
   ],
   "source": [
    "from random import randint\n",
    "print(randint(1,100))"
   ]
  },
  {
   "cell_type": "code",
   "execution_count": 15,
   "id": "3ac4256b",
   "metadata": {},
   "outputs": [
    {
     "name": "stdout",
     "output_type": "stream",
     "text": [
      "('cheese', 'sausage')\n"
     ]
    }
   ],
   "source": [
    "from pizza import make_pizza\n",
    "make_pizza('cheese','sausage')"
   ]
  },
  {
   "cell_type": "code",
   "execution_count": 18,
   "id": "85a225a9",
   "metadata": {},
   "outputs": [
    {
     "name": "stdout",
     "output_type": "stream",
     "text": [
      "('cheese', 'sausage')\n"
     ]
    },
    {
     "data": {
      "text/plain": [
       "{'age': 60, 'height': 178, 'firstname': 'Tom', 'lastname': 'Jones'}"
      ]
     },
     "execution_count": 18,
     "metadata": {},
     "output_type": "execute_result"
    }
   ],
   "source": [
    "from pizza import *\n",
    "make_pizza('cheese','sausage')\n",
    "build_profile('Tom','Jones',age=60, height=178)"
   ]
  },
  {
   "cell_type": "code",
   "execution_count": 19,
   "id": "0a7a2744",
   "metadata": {},
   "outputs": [
    {
     "name": "stdout",
     "output_type": "stream",
     "text": [
      "('cheese', 'sausage')\n"
     ]
    }
   ],
   "source": [
    "from pizza import make_pizza as mp\n",
    "mp('cheese','sausage')"
   ]
  },
  {
   "cell_type": "code",
   "execution_count": 20,
   "id": "fe521558",
   "metadata": {},
   "outputs": [
    {
     "name": "stdout",
     "output_type": "stream",
     "text": [
      "('cheese', 'ham')\n"
     ]
    }
   ],
   "source": [
    "import pizza as pz\n",
    "pz.make_pizza('cheese','ham')"
   ]
  }
 ],
 "metadata": {
  "kernelspec": {
   "display_name": "Python 3 (ipykernel)",
   "language": "python",
   "name": "python3"
  },
  "language_info": {
   "codemirror_mode": {
    "name": "ipython",
    "version": 3
   },
   "file_extension": ".py",
   "mimetype": "text/x-python",
   "name": "python",
   "nbconvert_exporter": "python",
   "pygments_lexer": "ipython3",
   "version": "3.10.5"
  }
 },
 "nbformat": 4,
 "nbformat_minor": 5
}
