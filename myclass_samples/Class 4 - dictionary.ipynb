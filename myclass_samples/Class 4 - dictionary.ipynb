{
 "cells": [
  {
   "cell_type": "code",
   "execution_count": 2,
   "id": "dda566e7",
   "metadata": {},
   "outputs": [
    {
     "name": "stdout",
     "output_type": "stream",
     "text": [
      "{'id': 1, 'color': 'red', 'score': 10}\n",
      "{'id': 5, 'color': 'blue', 'score': 20, 'type': 'evil'}\n"
     ]
    }
   ],
   "source": [
    "# 建立dictionary(字典), 簡稱dict\n",
    "# 使用 {...}\n",
    "\n",
    "alien_1 = {'id': 1, 'color':'red', 'score':10}\n",
    "print(alien_1)\n",
    "alien_2 = {'id': 5, 'color':'blue', 'score':20, 'type' : 'evil' }\n",
    "print(alien_2)"
   ]
  },
  {
   "cell_type": "code",
   "execution_count": 3,
   "id": "db87c3b4",
   "metadata": {},
   "outputs": [
    {
     "data": {
      "text/plain": [
       "'red'"
      ]
     },
     "execution_count": 3,
     "metadata": {},
     "output_type": "execute_result"
    }
   ],
   "source": [
    "# 使用某一個配對, 利用key找到value\n",
    "alien_1['color']"
   ]
  },
  {
   "cell_type": "code",
   "execution_count": 4,
   "id": "c1de4391",
   "metadata": {},
   "outputs": [
    {
     "data": {
      "text/plain": [
       "'evil'"
      ]
     },
     "execution_count": 4,
     "metadata": {},
     "output_type": "execute_result"
    }
   ],
   "source": [
    "alien_2['type']"
   ]
  },
  {
   "cell_type": "code",
   "execution_count": 5,
   "id": "06c000d8",
   "metadata": {},
   "outputs": [
    {
     "ename": "KeyError",
     "evalue": "'type'",
     "output_type": "error",
     "traceback": [
      "\u001b[1;31m---------------------------------------------------------------------------\u001b[0m",
      "\u001b[1;31mKeyError\u001b[0m                                  Traceback (most recent call last)",
      "Input \u001b[1;32mIn [5]\u001b[0m, in \u001b[0;36m<cell line: 2>\u001b[1;34m()\u001b[0m\n\u001b[0;32m      1\u001b[0m \u001b[38;5;66;03m#若是key不存在呢?\u001b[39;00m\n\u001b[1;32m----> 2\u001b[0m \u001b[43malien_1\u001b[49m\u001b[43m[\u001b[49m\u001b[38;5;124;43m'\u001b[39;49m\u001b[38;5;124;43mtype\u001b[39;49m\u001b[38;5;124;43m'\u001b[39;49m\u001b[43m]\u001b[49m\n",
      "\u001b[1;31mKeyError\u001b[0m: 'type'"
     ]
    }
   ],
   "source": [
    "#若是key不存在呢? => KeyError\n",
    "alien_1['type']"
   ]
  },
  {
   "cell_type": "code",
   "execution_count": 8,
   "id": "afddde4f",
   "metadata": {},
   "outputs": [
    {
     "data": {
      "text/plain": [
       "{'id': 200, 'color': 'red', 'score': 10}"
      ]
     },
     "execution_count": 8,
     "metadata": {},
     "output_type": "execute_result"
    }
   ],
   "source": [
    "alien_1 = {'id': 1, 'color':'red', 'score':10, 'id':200}\n",
    "alien_1"
   ]
  },
  {
   "cell_type": "code",
   "execution_count": 10,
   "id": "def09af8",
   "metadata": {},
   "outputs": [
    {
     "data": {
      "text/plain": [
       "{'id': 200, 'color': 'red', 'score': 10, 'type': 'kind'}"
      ]
     },
     "execution_count": 10,
     "metadata": {},
     "output_type": "execute_result"
    }
   ],
   "source": [
    "# 新增pair\n",
    "alien_1['type'] = 'kind'\n",
    "alien_1"
   ]
  },
  {
   "cell_type": "code",
   "execution_count": 11,
   "id": "f2a97b54",
   "metadata": {},
   "outputs": [
    {
     "data": {
      "text/plain": [
       "{'id': 200, 'color': 'green', 'score': 10, 'type': 'kind'}"
      ]
     },
     "execution_count": 11,
     "metadata": {},
     "output_type": "execute_result"
    }
   ],
   "source": [
    "# 改變value\n",
    "alien_1['color']='green'\n",
    "alien_1"
   ]
  },
  {
   "cell_type": "code",
   "execution_count": 12,
   "id": "f44a5fc0",
   "metadata": {},
   "outputs": [
    {
     "data": {
      "text/plain": [
       "{'id': 200, 'color': 'green', 'score': 10}"
      ]
     },
     "execution_count": 12,
     "metadata": {},
     "output_type": "execute_result"
    }
   ],
   "source": [
    "# 移除pair\n",
    "del alien_1['type']\n",
    "alien_1"
   ]
  }
 ],
 "metadata": {
  "kernelspec": {
   "display_name": "Python 3 (ipykernel)",
   "language": "python",
   "name": "python3"
  },
  "language_info": {
   "codemirror_mode": {
    "name": "ipython",
    "version": 3
   },
   "file_extension": ".py",
   "mimetype": "text/x-python",
   "name": "python",
   "nbconvert_exporter": "python",
   "pygments_lexer": "ipython3",
   "version": "3.10.3"
  }
 },
 "nbformat": 4,
 "nbformat_minor": 5
}
