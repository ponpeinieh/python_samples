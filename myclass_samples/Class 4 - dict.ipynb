{
 "cells": [
  {
   "cell_type": "code",
   "execution_count": null,
   "id": "dda566e7",
   "metadata": {},
   "outputs": [],
   "source": [
    "# 建立dictionary(字典), 簡稱dict\n",
    "# 使用 {...}\n",
    "\n",
    "alien_1 = {'id': 1, 'color':'red', 'score':10}\n",
    "print(alien_1)\n",
    "alien_2 = {'id': 5, 'color':'blue', 'score':20, 'type' : 'evil' }\n",
    "print(alien_2)"
   ]
  },
  {
   "cell_type": "code",
   "execution_count": null,
   "id": "db87c3b4",
   "metadata": {},
   "outputs": [],
   "source": [
    "# 使用某一個配對, 利用key找到value\n",
    "alien_1['color']"
   ]
  },
  {
   "cell_type": "code",
   "execution_count": null,
   "id": "c1de4391",
   "metadata": {},
   "outputs": [],
   "source": [
    "alien_2['type']"
   ]
  },
  {
   "cell_type": "code",
   "execution_count": null,
   "id": "06c000d8",
   "metadata": {},
   "outputs": [],
   "source": [
    "#若是key不存在呢? => KeyError\n",
    "alien_1['type']"
   ]
  },
  {
   "cell_type": "code",
   "execution_count": null,
   "id": "afddde4f",
   "metadata": {},
   "outputs": [],
   "source": [
    "alien_1 = {'id': 1, 'color':'red', 'score':10, 'id':200}\n",
    "alien_1"
   ]
  },
  {
   "cell_type": "code",
   "execution_count": null,
   "id": "def09af8",
   "metadata": {},
   "outputs": [],
   "source": [
    "# 新增pair\n",
    "alien_1['type'] = 'kind'\n",
    "alien_1"
   ]
  },
  {
   "cell_type": "code",
   "execution_count": null,
   "id": "f2a97b54",
   "metadata": {},
   "outputs": [],
   "source": [
    "# 改變value\n",
    "alien_1['color']='green'\n",
    "alien_1"
   ]
  },
  {
   "cell_type": "code",
   "execution_count": null,
   "id": "f44a5fc0",
   "metadata": {},
   "outputs": [],
   "source": [
    "# 移除pair\n",
    "del alien_1['type']\n",
    "alien_1"
   ]
  },
  {
   "cell_type": "code",
   "execution_count": null,
   "id": "58c2e956",
   "metadata": {},
   "outputs": [],
   "source": [
    "#dictionary :用來代表最喜歡的數字\n",
    "favorite_numbers = {'john':11, 'steve':17, 'scot': 23, 'albert': 7}\n",
    "favorite_numbers"
   ]
  },
  {
   "cell_type": "code",
   "execution_count": null,
   "id": "32cff376",
   "metadata": {},
   "outputs": [],
   "source": [
    "#read\n",
    "favorite_numbers['scot']"
   ]
  },
  {
   "cell_type": "code",
   "execution_count": null,
   "id": "43fe6202",
   "metadata": {},
   "outputs": [],
   "source": [
    "favorite_numbers['betty'] #key不存在會有錯誤"
   ]
  },
  {
   "cell_type": "code",
   "execution_count": null,
   "id": "0be1717f",
   "metadata": {},
   "outputs": [],
   "source": [
    "favorite_numbers.get('john')"
   ]
  },
  {
   "cell_type": "code",
   "execution_count": null,
   "id": "bc2d2f65",
   "metadata": {},
   "outputs": [],
   "source": [
    "result = favorite_numbers.get('betty') # key不存在, 回傳None\n",
    "print(result)"
   ]
  },
  {
   "cell_type": "code",
   "execution_count": null,
   "id": "64a75529",
   "metadata": {},
   "outputs": [],
   "source": [
    "favorite_numbers.get('betty',0) # 第二個參數代表key不存在時的預設value"
   ]
  },
  {
   "cell_type": "markdown",
   "id": "dd2d3da8",
   "metadata": {},
   "source": [
    "### 練習: Person\n",
    "- 使用dict來儲存一個人的first_name, last_name, age, city等\n",
    "- 列印出這個dict的pairs"
   ]
  },
  {
   "cell_type": "code",
   "execution_count": null,
   "id": "bd366ea9",
   "metadata": {},
   "outputs": [],
   "source": [
    "# for each loop \n",
    "# items()\n",
    "for item in favorite_numbers.items(): #取出pair(key,value)是一個tuple\n",
    "    print(f\"{item[0]} => {item[1]}\")"
   ]
  },
  {
   "cell_type": "code",
   "execution_count": null,
   "id": "97d22c37",
   "metadata": {},
   "outputs": [],
   "source": [
    "for k,v in favorite_numbers.items():\n",
    "    print(f\"{k} => {v}\")"
   ]
  },
  {
   "cell_type": "code",
   "execution_count": null,
   "id": "a3653692",
   "metadata": {},
   "outputs": [],
   "source": [
    "# keys()\n",
    "for k in favorite_numbers.keys():\n",
    "    print(f\"{k} => {favorite_numbers[k]}\")"
   ]
  },
  {
   "cell_type": "code",
   "execution_count": null,
   "id": "97448d5d",
   "metadata": {},
   "outputs": [],
   "source": [
    "for k in favorite_numbers:\n",
    "    print(f\"{k} => {favorite_numbers[k]}\")"
   ]
  },
  {
   "cell_type": "code",
   "execution_count": null,
   "id": "132f131a",
   "metadata": {},
   "outputs": [],
   "source": [
    "for v in favorite_numbers.values():\n",
    "    print(v)"
   ]
  },
  {
   "cell_type": "code",
   "execution_count": null,
   "id": "0791eab7",
   "metadata": {},
   "outputs": [],
   "source": [
    "#list做sorting\n",
    "for k in sorted(favorite_numbers.keys()):\n",
    "    print(f\"{k} => {favorite_numbers[k]}\")"
   ]
  },
  {
   "cell_type": "markdown",
   "id": "74f683f7",
   "metadata": {},
   "source": [
    "### 練習: Rivers\n",
    "- 建立一個dict包含了河流(key)與國家(value)的pairs, 例如:{'尼羅河':'埃及','恆河':'印度'}\n",
    "- 使用迴圈列印以下訊息\"xxx河流經xxx國家\"\n",
    "- 使用迴圈列印所有的河流名字\n",
    "- 使用迴圈列印所有的國家名字"
   ]
  },
  {
   "cell_type": "code",
   "execution_count": null,
   "id": "bd75377c",
   "metadata": {},
   "outputs": [],
   "source": [
    "# set \n",
    "languages = {'python','C','Java','C','C#','Javascript'}\n",
    "print(languages)"
   ]
  },
  {
   "cell_type": "code",
   "execution_count": null,
   "id": "73d42510",
   "metadata": {},
   "outputs": [],
   "source": [
    "favorite_numbers['cindy']=23\n",
    "for v in set(favorite_numbers.values()):\n",
    "    print(v)"
   ]
  },
  {
   "cell_type": "code",
   "execution_count": null,
   "id": "a2033291",
   "metadata": {},
   "outputs": [],
   "source": [
    "a = [1,2,3,1,4,6,7,8,9,6]\n",
    "b = set(a)\n",
    "print(b)"
   ]
  },
  {
   "cell_type": "code",
   "execution_count": null,
   "id": "93643c48",
   "metadata": {},
   "outputs": [],
   "source": [
    "#巢狀架構\n",
    "# list裡面包dictionaries\n",
    "alien_1 = {'color':'red','score':10}\n",
    "alien_2 = {'color':'blue','score':20 }\n",
    "alien_3 = {'color':'black','score':50}\n",
    "aliens = [alien_1,alien_2,alien_3]\n",
    "for a in aliens:\n",
    "    print(f\"{a['color']} => {a['score']}\")\n"
   ]
  },
  {
   "cell_type": "code",
   "execution_count": null,
   "id": "59a0f39c",
   "metadata": {},
   "outputs": [],
   "source": [
    "# print four suits\n",
    "# spade 0x2660, \n",
    "# heart 0x2661\n",
    "# diamond 0x2662\n",
    "# club 0x2663\n",
    "print(f\"{chr(0x2660)},{chr(0x2661)},{chr(0x2662)},{chr(0x2663)}\") # chr() 轉成字元\n",
    "#產生52個dict\n",
    "suits = [chr(0x2660),chr(0x2661),chr(0x2662),chr(0x2663)]\n",
    "ranks = ['A','2','3','4','5','6','7','8','9','10','J','Q','K']\n",
    "cards = []\n",
    "cards.append({'suit':suits[0], 'rank': ranks[0]})\n",
    "\n",
    "\n",
    "dict = {'suit':suits[0], 'rank': ranks[0]};\n",
    "print(f\"{dict['suit']} {dict['rank']}\")\n",
    "\n",
    "\n",
    "for n in range(52):\n",
    "    print(n,end=',')\n",
    "print()\n",
    "numbers = list(range(52))\n",
    "import random #亂數的模組\n",
    "random.shuffle(numbers);\n",
    "\n",
    "for n in numbers:\n",
    "    print(n,end=',')"
   ]
  }
 ],
 "metadata": {
  "kernelspec": {
   "display_name": "Python 3 (ipykernel)",
   "language": "python",
   "name": "python3"
  },
  "language_info": {
   "codemirror_mode": {
    "name": "ipython",
    "version": 3
   },
   "file_extension": ".py",
   "mimetype": "text/x-python",
   "name": "python",
   "nbconvert_exporter": "python",
   "pygments_lexer": "ipython3",
   "version": "3.10.3"
  }
 },
 "nbformat": 4,
 "nbformat_minor": 5
}
