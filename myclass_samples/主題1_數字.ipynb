{
 "cells": [
  {
   "cell_type": "code",
   "execution_count": null,
   "id": "446bd944",
   "metadata": {},
   "outputs": [],
   "source": [
    "100+200"
   ]
  },
  {
   "cell_type": "code",
   "execution_count": null,
   "id": "253eab7b",
   "metadata": {},
   "outputs": [],
   "source": [
    "100-50"
   ]
  },
  {
   "cell_type": "code",
   "execution_count": null,
   "id": "c18e1ec9",
   "metadata": {},
   "outputs": [],
   "source": [
    "x = 87\n",
    "y = 98\n",
    "z = 98\n",
    "w = 100\n",
    "x+y+z+w"
   ]
  },
  {
   "cell_type": "code",
   "execution_count": null,
   "id": "3e41f617",
   "metadata": {},
   "outputs": [],
   "source": [
    "print(x+y+z+w)\n",
    "print(f\"總分:{x+y+z+w}\")\n",
    "print(f\"平均:{(x+y+z+w)/4}\")\n",
    "print(f\"平均:{(x+y+z+w)//4}\")"
   ]
  },
  {
   "cell_type": "code",
   "execution_count": null,
   "id": "91bab753",
   "metadata": {},
   "outputs": [],
   "source": [
    "eggs = 35\n",
    "case = 10\n",
    "print(f\"可以裝滿{eggs//case}個盒子,剩下{eggs%case}個!\")"
   ]
  },
  {
   "cell_type": "code",
   "execution_count": null,
   "id": "84d2696f",
   "metadata": {},
   "outputs": [],
   "source": [
    "import math\n",
    "radius = 5\n",
    "print(f\"半徑:{radius}, 圓面積:{math.pi*radius*radius}\")\n",
    "print(f\"半徑:{radius}, 圓面積:{math.pi*radius**2}\")"
   ]
  },
  {
   "cell_type": "code",
   "execution_count": null,
   "id": "c7f46baa",
   "metadata": {},
   "outputs": [],
   "source": [
    "side = 10\n",
    "print(f\"邊長:{side}, 立方體體積:{side**3}\")"
   ]
  },
  {
   "cell_type": "code",
   "execution_count": null,
   "id": "b782f85e",
   "metadata": {},
   "outputs": [],
   "source": [
    "area = 78.54\n",
    "r = math.sqrt(78.54/math.pi)\n",
    "print(f\"圓面積:{area}, 半徑:{r}\")"
   ]
  }
 ],
 "metadata": {
  "kernelspec": {
   "display_name": "Python 3 (ipykernel)",
   "language": "python",
   "name": "python3"
  },
  "language_info": {
   "codemirror_mode": {
    "name": "ipython",
    "version": 3
   },
   "file_extension": ".py",
   "mimetype": "text/x-python",
   "name": "python",
   "nbconvert_exporter": "python",
   "pygments_lexer": "ipython3",
   "version": "3.11.4"
  }
 },
 "nbformat": 4,
 "nbformat_minor": 5
}
