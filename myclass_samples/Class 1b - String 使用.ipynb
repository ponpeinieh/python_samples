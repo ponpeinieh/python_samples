{
 "cells": [
  {
   "cell_type": "code",
   "execution_count": null,
   "id": "e5e6f0aa",
   "metadata": {},
   "outputs": [],
   "source": [
    "# string的使用\n",
    "message = \"Hello World\"\n",
    "message"
   ]
  },
  {
   "cell_type": "code",
   "execution_count": null,
   "id": "67b18487",
   "metadata": {},
   "outputs": [],
   "source": [
    "name = 'John Smith'\n",
    "name"
   ]
  },
  {
   "cell_type": "code",
   "execution_count": null,
   "id": "e71e6bfc",
   "metadata": {},
   "outputs": [],
   "source": [
    "print(name)"
   ]
  },
  {
   "cell_type": "code",
   "execution_count": null,
   "id": "767e7e37",
   "metadata": {},
   "outputs": [],
   "source": [
    "print('Hello world')"
   ]
  },
  {
   "cell_type": "code",
   "execution_count": null,
   "id": "0335f597",
   "metadata": {},
   "outputs": [],
   "source": [
    "print(100+30)"
   ]
  },
  {
   "cell_type": "code",
   "execution_count": null,
   "id": "8a729127",
   "metadata": {},
   "outputs": [],
   "source": [
    "import math\n",
    "print(math.log(1000,10))"
   ]
  },
  {
   "cell_type": "code",
   "execution_count": null,
   "id": "bcc1cde8",
   "metadata": {},
   "outputs": [],
   "source": [
    "# 列印 My name is John Smith\n",
    "print(f\"My name is {name}\")"
   ]
  },
  {
   "cell_type": "code",
   "execution_count": null,
   "id": "bd5ad9bd",
   "metadata": {},
   "outputs": [],
   "source": [
    "first_name = 'John'\n",
    "last_name = 'Smith'\n",
    "print(f\"{first_name} {last_name}\")"
   ]
  },
  {
   "cell_type": "code",
   "execution_count": null,
   "id": "dd7922fc",
   "metadata": {},
   "outputs": [],
   "source": [
    "year = 2022\n",
    "month = 3\n",
    "day =11\n",
    "print(f\"{month}/{day}/{year}\")"
   ]
  },
  {
   "cell_type": "code",
   "execution_count": null,
   "id": "baa1de5d",
   "metadata": {},
   "outputs": [],
   "source": [
    "x = 100\n",
    "y = 45\n",
    "print(f'x/y = {x/y}')"
   ]
  },
  {
   "cell_type": "code",
   "execution_count": null,
   "id": "dd5696a3",
   "metadata": {},
   "outputs": [],
   "source": [
    "full_name = f'{first_name} {last_name}' # f-string語法 (f: format格式), 必須在python 3.6版本後才能使用\n",
    "full_name"
   ]
  },
  {
   "cell_type": "code",
   "execution_count": null,
   "id": "d3ab8f60",
   "metadata": {},
   "outputs": [],
   "source": [
    "#使用 format() 函數\n",
    "date = '{}/{}/{}'.format(month,day,year)\n",
    "date"
   ]
  },
  {
   "cell_type": "code",
   "execution_count": null,
   "id": "867e445c",
   "metadata": {},
   "outputs": [],
   "source": [
    "date = '{0}/{1}/{2}'.format(month,day,year)\n",
    "date"
   ]
  },
  {
   "cell_type": "code",
   "execution_count": null,
   "id": "2de5d83d",
   "metadata": {},
   "outputs": [],
   "source": [
    "date = '{1}/{0}/{2}'.format(month,day,year)\n",
    "date"
   ]
  },
  {
   "cell_type": "code",
   "execution_count": null,
   "id": "14e2500b",
   "metadata": {},
   "outputs": [],
   "source": [
    "msg = '{message},{name}!'.format(message='Good evening',name='John')\n",
    "msg"
   ]
  },
  {
   "cell_type": "code",
   "execution_count": null,
   "id": "21565068",
   "metadata": {},
   "outputs": [],
   "source": [
    "full_name = '{0} {middle_name} {1}'.format(first_name,last_name, middle_name='Steven')\n",
    "full_name"
   ]
  },
  {
   "cell_type": "code",
   "execution_count": null,
   "id": "23fe71d2",
   "metadata": {},
   "outputs": [],
   "source": [
    "msg = \"John's mother is 75 years old\"\n",
    "msg"
   ]
  },
  {
   "cell_type": "code",
   "execution_count": null,
   "id": "acb5b17b",
   "metadata": {},
   "outputs": [],
   "source": [
    "msg = 'John\\'s mother is 75 years old' #跳脫語法\n",
    "msg"
   ]
  },
  {
   "cell_type": "code",
   "execution_count": null,
   "id": "fcb76beb",
   "metadata": {},
   "outputs": [],
   "source": [
    "#常用的字串使用的函數(方法) \n",
    "# 轉大寫 upper()\n",
    "words= 'hello434'\n",
    "print(words.upper())"
   ]
  },
  {
   "cell_type": "code",
   "execution_count": null,
   "id": "c36b15fd",
   "metadata": {},
   "outputs": [],
   "source": [
    "#lower()\n",
    "words2 = 'Hello22222'\n",
    "print(words2.lower())"
   ]
  },
  {
   "cell_type": "code",
   "execution_count": null,
   "id": "d8ef2ed5",
   "metadata": {},
   "outputs": [],
   "source": [
    "#title() \n",
    "name = 'toyota'\n",
    "print(name.title())"
   ]
  },
  {
   "cell_type": "code",
   "execution_count": null,
   "id": "7b40d87d",
   "metadata": {},
   "outputs": [],
   "source": [
    "# rstrip(), lstrip(), strip()\n",
    "msg = '    hello world      '\n",
    "msg.rstrip()"
   ]
  },
  {
   "cell_type": "code",
   "execution_count": null,
   "id": "630a02a9",
   "metadata": {},
   "outputs": [],
   "source": [
    "msg.lstrip()"
   ]
  },
  {
   "cell_type": "code",
   "execution_count": null,
   "id": "98b03c1d",
   "metadata": {},
   "outputs": [],
   "source": [
    "msg.strip()"
   ]
  },
  {
   "cell_type": "code",
   "execution_count": null,
   "id": "3ba3e3a1",
   "metadata": {},
   "outputs": [],
   "source": [
    "nums = '100 200 300'\n",
    "nums.split() # 拆解成字串的清單(list)"
   ]
  },
  {
   "cell_type": "code",
   "execution_count": null,
   "id": "fea7f9c0",
   "metadata": {},
   "outputs": [],
   "source": [
    "num2 = '100,140,,180'\n",
    "num2.split(',')"
   ]
  },
  {
   "cell_type": "code",
   "execution_count": null,
   "id": "ffd251dc",
   "metadata": {},
   "outputs": [],
   "source": [
    "nums.split(maxsplit=1)"
   ]
  },
  {
   "cell_type": "code",
   "execution_count": null,
   "id": "39dce56d",
   "metadata": {},
   "outputs": [],
   "source": [
    "nums3 = '1 2 3 4 5 6 7'\n",
    "nums3.split(maxsplit=2)\n"
   ]
  },
  {
   "cell_type": "code",
   "execution_count": null,
   "id": "d64dfd6b",
   "metadata": {},
   "outputs": [],
   "source": [
    "multilines = '''This is a long message\n",
    "This is the second line\n",
    "This is the third line'''\n",
    "multilines"
   ]
  },
  {
   "cell_type": "code",
   "execution_count": null,
   "id": "87e08c63",
   "metadata": {},
   "outputs": [],
   "source": [
    "multilines.split('\\n')"
   ]
  },
  {
   "cell_type": "code",
   "execution_count": null,
   "id": "9190fcf7",
   "metadata": {},
   "outputs": [],
   "source": [
    "multilines.splitlines()"
   ]
  },
  {
   "cell_type": "code",
   "execution_count": null,
   "id": "ed5f2c8f",
   "metadata": {},
   "outputs": [],
   "source": [
    "msg = 'Good evening, John!'\n",
    "msg.find(',')"
   ]
  },
  {
   "cell_type": "code",
   "execution_count": null,
   "id": "355a15c5",
   "metadata": {},
   "outputs": [],
   "source": [
    "msg2 = msg.replace(',','.')\n",
    "msg2"
   ]
  },
  {
   "cell_type": "code",
   "execution_count": null,
   "id": "0aa44ef0",
   "metadata": {},
   "outputs": [],
   "source": [
    "msg"
   ]
  }
 ],
 "metadata": {
  "kernelspec": {
   "display_name": "Python 3 (ipykernel)",
   "language": "python",
   "name": "python3"
  },
  "language_info": {
   "codemirror_mode": {
    "name": "ipython",
    "version": 3
   },
   "file_extension": ".py",
   "mimetype": "text/x-python",
   "name": "python",
   "nbconvert_exporter": "python",
   "pygments_lexer": "ipython3",
   "version": "3.10.2"
  }
 },
 "nbformat": 4,
 "nbformat_minor": 5
}
