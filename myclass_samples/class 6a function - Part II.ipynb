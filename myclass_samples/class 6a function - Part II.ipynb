{
 "cells": [
  {
   "cell_type": "code",
   "execution_count": null,
   "id": "dd40db18",
   "metadata": {},
   "outputs": [],
   "source": [
    "def describe_pet(type, name):\n",
    "    print(f'I have a pet {type}, its name is {name}')\n",
    "describe_pet('dog', 'Lucky')\n",
    "describe_pet(type='fish', name='star')\n",
    "describe_pet(name='star', type='fish')"
   ]
  },
  {
   "cell_type": "code",
   "execution_count": null,
   "id": "7d7c13c6",
   "metadata": {},
   "outputs": [],
   "source": [
    "# default value for the parameter\n",
    "def describe_pet2(name, type='dog'):\n",
    "    print(f'I have a pet {type}, its name is {name}')\n",
    "describe_pet2('lucky')\n",
    "describe_pet2('lucky','cat')\n",
    "describe_pet2(name='vicky')\n",
    "describe_pet2(type='fish',name='star')"
   ]
  },
  {
   "cell_type": "code",
   "execution_count": null,
   "id": "da17401b",
   "metadata": {},
   "outputs": [],
   "source": [
    "# return value\n",
    "def get_fullname(firstname, lastname):\n",
    "    fullname = f'{firstname} {lastname}'\n",
    "    return fullname.title()\n",
    "\n",
    "get_fullname('John', 'Wayne')"
   ]
  },
  {
   "cell_type": "code",
   "execution_count": null,
   "id": "55ed4b9e",
   "metadata": {},
   "outputs": [],
   "source": [
    "# return value\n",
    "def get_fullname2(firstname, lastname, middlename=None):\n",
    "    if middlename:\n",
    "        fullname = f'{firstname} {middlename} {lastname}'\n",
    "    else:\n",
    "        fullname = f'{firstname} {lastname}'\n",
    "    return fullname.title()\n",
    "print(get_fullname2('John', 'Wayne'))\n",
    "print(get_fullname2('John', 'Wayne', 'Steve'))"
   ]
  },
  {
   "cell_type": "code",
   "execution_count": null,
   "id": "a060dba0",
   "metadata": {},
   "outputs": [],
   "source": [
    "# return multiple values\n",
    "def get_fullname3(firstname, lastname):\n",
    "    print(f'{firstname} {lastname}')\n",
    "    return (firstname, lastname)\n",
    "result = get_fullname3(firstname='John', lastname='Smith')\n",
    "print(result[0], result[1])"
   ]
  },
  {
   "cell_type": "code",
   "execution_count": null,
   "id": "28d10976",
   "metadata": {},
   "outputs": [],
   "source": [
    "# return a dict\n",
    "def get_fullname4(firstname, lastname):\n",
    "    print(f'{firstname} {lastname}')\n",
    "    return {'first':firstname, 'last':lastname}\n",
    "result  = get_fullname4('Steven', 'Henry')\n",
    "print(result)"
   ]
  },
  {
   "cell_type": "code",
   "execution_count": null,
   "id": "ba63d399",
   "metadata": {},
   "outputs": [],
   "source": [
    "# return a dict\n",
    "def get_fullname5(firstname, lastname,  middlename=None):\n",
    "    result = {'first':firstname, 'last':lastname}\n",
    "    if middlename:\n",
    "        result['middle']=middlename\n",
    "    return result\n",
    "print(get_fullname5('John','Smith','Adam'))"
   ]
  },
  {
   "cell_type": "code",
   "execution_count": null,
   "id": "ede6bf69",
   "metadata": {},
   "outputs": [],
   "source": [
    "# pass in a list as parameter\n",
    "def greetings(msg, users):\n",
    "    for user in users:\n",
    "        print(f'{msg}, {user}!')\n",
    "greetings('Good morning', ['John','Tom','Kate'])"
   ]
  },
  {
   "cell_type": "code",
   "execution_count": null,
   "id": "9ca99fdb",
   "metadata": {},
   "outputs": [],
   "source": [
    "unconfirmed_users = ['Danny','Kenny','George','Malbo']\n",
    "confirmed_users=[]\n",
    "while unconfirmed_users:\n",
    "    user = unconfirmed_users.pop()\n",
    "    confirmed_users.append(user)\n",
    "print(confirmed_users)\n",
    "print(unconfirmed_users)"
   ]
  },
  {
   "cell_type": "code",
   "execution_count": null,
   "id": "e1d71b34",
   "metadata": {},
   "outputs": [],
   "source": [
    "def confirm(unconfirmed_users):\n",
    "    confirmed_users=[]\n",
    "    while unconfirmed_users:\n",
    "        user = unconfirmed_users.pop()\n",
    "        confirmed_users.append(user)\n",
    "    return confirmed_users\n",
    "\n",
    "confirm(['Danny','Kenny','George','Malbo'])"
   ]
  },
  {
   "cell_type": "code",
   "execution_count": null,
   "id": "d352af5d",
   "metadata": {},
   "outputs": [],
   "source": [
    "unconfirmed_users = ['Danny','Kenny','George','Malbo']\n",
    "confirmed_users=[]\n",
    "def confirm2(u_users, c_users):\n",
    "    while u_users:\n",
    "        u = u_users.pop()\n",
    "        c_users.append(u)\n",
    "#confirm2(unconfirmed_users, confirmed_users)\n",
    "#print(confirmed_users)\n",
    "#print(unconfirmed_users)"
   ]
  },
  {
   "cell_type": "code",
   "execution_count": null,
   "id": "5e092369",
   "metadata": {},
   "outputs": [],
   "source": [
    "confirm2(unconfirmed_users[:], confirmed_users)\n",
    "print(unconfirmed_users)"
   ]
  },
  {
   "cell_type": "code",
   "execution_count": null,
   "id": "6c50ede4",
   "metadata": {},
   "outputs": [],
   "source": [
    "def modify_int(x):\n",
    "    x+=1\n",
    "    print(f'In modify_int(), x={x}')\n",
    "\n",
    "a = 100\n",
    "modify_int(a)\n",
    "print(a) #100"
   ]
  },
  {
   "cell_type": "code",
   "execution_count": null,
   "id": "3e0065c2",
   "metadata": {},
   "outputs": [],
   "source": [
    "def modify_string(s):\n",
    "    s = s.title()\n",
    "    print(f'In modify_string(), s={s}')\n",
    "name='john'\n",
    "modify_string(name)\n",
    "print(name) #?"
   ]
  },
  {
   "cell_type": "code",
   "execution_count": null,
   "id": "afc1b070",
   "metadata": {},
   "outputs": [],
   "source": [
    "def modify_list(lst):\n",
    "    lst[0]=10000\n",
    "    print(f'In modify_list(), lst[0]={lst[0]}')\n",
    "\n",
    "mylist = [1,2,3]\n",
    "modify_list(mylist)\n",
    "print(mylist[0]) #?"
   ]
  },
  {
   "cell_type": "code",
   "execution_count": null,
   "id": "12732c92",
   "metadata": {},
   "outputs": [],
   "source": [
    "def update_dict(students):\n",
    "    new_dict = {'Steve':18, 'Tom':20}\n",
    "    students.update(new_dict)\n",
    "\n",
    "stus={'John':17, 'Tom':21, \"Ginger\":20}\n",
    "update_dict(stus)\n",
    "print(stus)"
   ]
  },
  {
   "cell_type": "code",
   "execution_count": null,
   "id": "db5cc9d7",
   "metadata": {},
   "outputs": [],
   "source": [
    "#stus={'John':17, 'Tom':21, \"Ginger\":20}\n",
    "#update_dict(stus)\n",
    "#print(stus)"
   ]
  },
  {
   "cell_type": "code",
   "execution_count": null,
   "id": "de7818d5",
   "metadata": {},
   "outputs": [],
   "source": [
    "stus={'John':17, 'Tom':21, \"Ginger\":20}\n",
    "#update_dict(dict(stus))\n",
    "update_dict(stus)\n",
    "print(stus)"
   ]
  },
  {
   "cell_type": "code",
   "execution_count": null,
   "id": "18b7b1ec",
   "metadata": {
    "scrolled": true
   },
   "outputs": [],
   "source": [
    "import copy # use copy module\n",
    "stus={'John':17, 'Tom':21, \"Ginger\":20}\n",
    "update_dict(copy.copy(stus))\n",
    "print(stus)"
   ]
  }
 ],
 "metadata": {
  "kernelspec": {
   "display_name": "Python 3 (ipykernel)",
   "language": "python",
   "name": "python3"
  },
  "language_info": {
   "codemirror_mode": {
    "name": "ipython",
    "version": 3
   },
   "file_extension": ".py",
   "mimetype": "text/x-python",
   "name": "python",
   "nbconvert_exporter": "python",
   "pygments_lexer": "ipython3",
   "version": "3.10.5"
  }
 },
 "nbformat": 4,
 "nbformat_minor": 5
}
