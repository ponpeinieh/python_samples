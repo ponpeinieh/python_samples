{
 "cells": [
  {
   "cell_type": "code",
   "execution_count": null,
   "id": "9ccecf44",
   "metadata": {},
   "outputs": [],
   "source": [
    "# python class Dog\n",
    "class Dog:\n",
    "    #定義建構子 __init__() \n",
    "    # init : initialize(初始化)\n",
    "    def __init__(self, name, age, gender, color):\n",
    "        self.name = name\n",
    "        self.age=age\n",
    "        self.gender=gender\n",
    "        self.color=color\n",
    "    #方法\n",
    "    def bark(self):\n",
    "        print(f'{self.name}在吠!!!')"
   ]
  },
  {
   "cell_type": "code",
   "execution_count": null,
   "id": "7631b219",
   "metadata": {},
   "outputs": [],
   "source": [
    "#建立Dog物件\n",
    "d1 = Dog('Lucy',5,'F','W')\n",
    "d1.bark()"
   ]
  },
  {
   "cell_type": "code",
   "execution_count": null,
   "id": "3f42ec40",
   "metadata": {},
   "outputs": [],
   "source": [
    "d1.name"
   ]
  },
  {
   "cell_type": "code",
   "execution_count": null,
   "id": "c2de065c",
   "metadata": {},
   "outputs": [],
   "source": [
    "my_dog.color"
   ]
  },
  {
   "cell_type": "code",
   "execution_count": null,
   "id": "be3d215a",
   "metadata": {},
   "outputs": [],
   "source": [
    "your_dog = Dog('Lucy',5,'F','white')\n",
    "your_dog.name"
   ]
  },
  {
   "cell_type": "markdown",
   "id": "5944c231",
   "metadata": {},
   "source": [
    "### 練習: Restaurant\n",
    "- 定義一個Restaurant類別\n",
    "- ```__init__()``` method(方法) 接受兩個attributes: restaurant_name及 cruisine_type\n",
    "- 定義一個 describe_restaurant() method : 列印這兩個資訊\n",
    "- 定義一個 open_restaurant() method : 列印 “這個餐廳目前是營業中” 的訊息\n",
    "- 建立一個 Restaurant物件， 列印 restaurant_name及 cruisine_type 並呼叫這兩個method"
   ]
  },
  {
   "cell_type": "code",
   "execution_count": null,
   "id": "1973ee23",
   "metadata": {},
   "outputs": [],
   "source": [
    "# Car class\n",
    "class Car:\n",
    "    def __init__(self, make, model, year):\n",
    "        self.make = make\n",
    "        self.model = model\n",
    "        self.year=year\n",
    "        self.odometer = 0\n",
    "    def get_description(self):\n",
    "        return f'{self.year} {self.make} {self.model}'\n",
    "    def read_odometer(self):\n",
    "        print(f'這臺車的里程數是{self.odometer}公里!')\n",
    "    def update_odometer(self, new_meter):\n",
    "        if new_meter> self.odometer:\n",
    "            self.odometer = new_meter\n",
    "        else:\n",
    "            print('您不能減少里程數！')\n",
    "    #加油的方法\n",
    "    def fill_gas_tank(self):\n",
    "        print(f'油箱已經加滿了油!')"
   ]
  },
  {
   "cell_type": "code",
   "execution_count": null,
   "id": "9dbb2ccb",
   "metadata": {},
   "outputs": [],
   "source": [
    "#產生Car物件\n",
    "c1 = Car('Toyota','Yaris',2021)\n",
    "print(c1.get_description())\n",
    "c1.read_odometer()\n",
    "c1.update_odometer(1000)\n",
    "c1.read_odometer()\n",
    "c1.update_odometer(500)"
   ]
  },
  {
   "cell_type": "code",
   "execution_count": null,
   "id": "3651a3a1",
   "metadata": {},
   "outputs": [],
   "source": [
    "#Huskie : child class\n",
    "#Dog: parent class\n",
    "class Huskie(Dog):\n",
    "    def __init__(self, name, age, gender, color):\n",
    "        #呼叫父類別的建構子\n",
    "        super().__init__(name,age,gender, color)\n",
    "        pass"
   ]
  },
  {
   "cell_type": "code",
   "execution_count": null,
   "id": "19f1cc74",
   "metadata": {},
   "outputs": [],
   "source": [
    "# Huskie object\n",
    "h1 = Huskie('Lucky',6,'M','B')\n",
    "h1.bark()"
   ]
  },
  {
   "cell_type": "code",
   "execution_count": null,
   "id": "b00e6dfc",
   "metadata": {},
   "outputs": [],
   "source": [
    "h1.name"
   ]
  },
  {
   "cell_type": "code",
   "execution_count": null,
   "id": "f35835a0",
   "metadata": {},
   "outputs": [],
   "source": [
    "h1.color"
   ]
  },
  {
   "cell_type": "code",
   "execution_count": null,
   "id": "0ad7bae0",
   "metadata": {},
   "outputs": [],
   "source": [
    "# ElectricCar 電動車\n",
    "class ElectricCar(Car):\n",
    "    def __init__(self, make, model, year, battery_size):\n",
    "        super().__init__(make, model, year)\n",
    "        self.battery_size = battery_size\n",
    "    def describe_battery(self):\n",
    "        print(f'這臺電動車有{self.battery_size}千瓦小時的電池容量!')\n",
    "    # 覆蓋（override）父類別的方法\n",
    "    def fill_gas_tank(self):\n",
    "        print('加油不適用在電動車上！')"
   ]
  },
  {
   "cell_type": "code",
   "execution_count": null,
   "id": "8e609f05",
   "metadata": {},
   "outputs": [],
   "source": [
    "#產生ElectricCar物件\n",
    "e1 = ElectricCar('Tesla','Model S',2021,75)\n",
    "print(e1.get_description())\n",
    "e1.read_odometer()\n",
    "e1.update_odometer(1000)\n",
    "e1.read_odometer()\n",
    "e1.update_odometer(500)"
   ]
  },
  {
   "cell_type": "code",
   "execution_count": null,
   "id": "ba334070",
   "metadata": {},
   "outputs": [],
   "source": [
    "e1.describe_battery()"
   ]
  },
  {
   "cell_type": "code",
   "execution_count": null,
   "id": "b21aeafa",
   "metadata": {},
   "outputs": [],
   "source": [
    "e1.fill_gas_tank()"
   ]
  },
  {
   "cell_type": "code",
   "execution_count": null,
   "id": "3460de20",
   "metadata": {},
   "outputs": [],
   "source": [
    "# Battery class\n",
    "class Battery:\n",
    "    def __init__(self, size):\n",
    "        self.size=size\n",
    "    def describe_battery(self):\n",
    "        print(f'具備了{self.size}千瓦小時的電池!')"
   ]
  },
  {
   "cell_type": "code",
   "execution_count": null,
   "id": "689d3bde",
   "metadata": {},
   "outputs": [],
   "source": [
    "# ElectricCar 電動車\n",
    "class ElectricCar2(Car):\n",
    "    def __init__(self, make,model,year, battery_size):\n",
    "        super().__init__(make,model,year)\n",
    "        #self.battery_size = battery_size\n",
    "        self.battery = Battery(battery_size)"
   ]
  },
  {
   "cell_type": "code",
   "execution_count": null,
   "id": "1bb42d37",
   "metadata": {},
   "outputs": [],
   "source": [
    "e2 = ElectricCar2('Tesla','Model X',2022,100)\n",
    "e2.battery.describe_battery()"
   ]
  },
  {
   "cell_type": "code",
   "execution_count": 1,
   "id": "b7aaa4bb",
   "metadata": {},
   "outputs": [
    {
     "name": "stdout",
     "output_type": "stream",
     "text": [
      "1\n",
      "1\n",
      "6\n",
      "6\n",
      "5\n",
      "3\n",
      "2\n",
      "5\n",
      "1\n",
      "5\n",
      "2\n",
      "1\n",
      "1\n",
      "1\n",
      "3\n",
      "1\n",
      "5\n",
      "1\n",
      "6\n",
      "5\n"
     ]
    }
   ],
   "source": [
    "# random module\n",
    "from random import randint\n",
    "for i in range(20):\n",
    "    print(randint(1,6))\n"
   ]
  },
  {
   "cell_type": "code",
   "execution_count": 2,
   "id": "1388d879",
   "metadata": {},
   "outputs": [
    {
     "name": "stdout",
     "output_type": "stream",
     "text": [
      "green\n",
      "red\n",
      "green\n",
      "red\n",
      "black\n",
      "red\n",
      "black\n",
      "black\n",
      "red\n",
      "red\n"
     ]
    }
   ],
   "source": [
    "from random import choice\n",
    "colors = ['red','green','black','blue']\n",
    "for i in range(10):\n",
    "    print(choice(colors))"
   ]
  }
 ],
 "metadata": {
  "kernelspec": {
   "display_name": "Python 3 (ipykernel)",
   "language": "python",
   "name": "python3"
  },
  "language_info": {
   "codemirror_mode": {
    "name": "ipython",
    "version": 3
   },
   "file_extension": ".py",
   "mimetype": "text/x-python",
   "name": "python",
   "nbconvert_exporter": "python",
   "pygments_lexer": "ipython3",
   "version": "3.10.2"
  }
 },
 "nbformat": 4,
 "nbformat_minor": 5
}
