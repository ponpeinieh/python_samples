{
 "cells": [
  {
   "cell_type": "code",
   "execution_count": null,
   "id": "150ceb1f",
   "metadata": {},
   "outputs": [],
   "source": [
    "numbers = [20, 40, 55, 15, 60]\n",
    "print(type(numbers))"
   ]
  },
  {
   "cell_type": "code",
   "execution_count": null,
   "id": "b2597bfa",
   "metadata": {},
   "outputs": [],
   "source": [
    "# 存取某一個元素\n",
    "print(numbers[2])"
   ]
  },
  {
   "cell_type": "code",
   "execution_count": null,
   "id": "8e9062f0",
   "metadata": {},
   "outputs": [],
   "source": [
    "print(numbers[4])\n",
    "print(numbers[-1])"
   ]
  },
  {
   "cell_type": "code",
   "execution_count": null,
   "id": "201a8599",
   "metadata": {},
   "outputs": [],
   "source": [
    "# 新增 append(), insert()\n",
    "numbers.append(49)\n",
    "print(numbers)"
   ]
  },
  {
   "cell_type": "code",
   "execution_count": null,
   "id": "01a332b6",
   "metadata": {},
   "outputs": [],
   "source": [
    "#insert(3, 99)\n",
    "numbers.insert(3,99)\n",
    "print(numbers)"
   ]
  },
  {
   "cell_type": "code",
   "execution_count": null,
   "id": "53236088",
   "metadata": {},
   "outputs": [],
   "source": [
    "# 替換\n",
    "numbers[1]=101\n",
    "print(numbers)"
   ]
  },
  {
   "cell_type": "code",
   "execution_count": null,
   "id": "0e0594a2",
   "metadata": {},
   "outputs": [],
   "source": [
    "# 刪除元素 : del指令\n",
    "del numbers[-2]\n",
    "print(numbers)"
   ]
  },
  {
   "cell_type": "code",
   "execution_count": null,
   "id": "c28cbecd",
   "metadata": {},
   "outputs": [],
   "source": [
    "# pop()\n",
    "deleted_number = numbers.pop()\n",
    "print(deleted_number)"
   ]
  },
  {
   "cell_type": "code",
   "execution_count": null,
   "id": "ccf30560",
   "metadata": {},
   "outputs": [],
   "source": [
    "# remove(元素的內容)\n",
    "numbers.remove(99)\n",
    "print(numbers)"
   ]
  },
  {
   "cell_type": "code",
   "execution_count": null,
   "id": "3b85e5c5",
   "metadata": {},
   "outputs": [],
   "source": [
    "colors =['Blue','black','green','yellow','red','purple']\n",
    "#反向\n",
    "colors.reverse()\n",
    "print(colors)"
   ]
  },
  {
   "cell_type": "code",
   "execution_count": null,
   "id": "4066fc9f",
   "metadata": {},
   "outputs": [],
   "source": [
    "# 排序 sort() : 預設是由小到大\n",
    "colors.sort()\n",
    "print(colors)"
   ]
  },
  {
   "cell_type": "code",
   "execution_count": null,
   "id": "695e2dd3",
   "metadata": {},
   "outputs": [],
   "source": [
    "print(numbers)\n",
    "numbers.sort()  # 預設是由小到大\n",
    "print(numbers)"
   ]
  },
  {
   "cell_type": "code",
   "execution_count": null,
   "id": "2b85143d",
   "metadata": {},
   "outputs": [],
   "source": [
    "numbers.sort(reverse=True) #按照相反的順序\n",
    "print(numbers)"
   ]
  },
  {
   "cell_type": "code",
   "execution_count": null,
   "id": "026f57cb",
   "metadata": {},
   "outputs": [],
   "source": [
    "# sorted()\n",
    "numbers = [ 4, 5, 1, 3, 7, 10, 6]\n",
    "sorted_numbers = sorted(numbers, reverse=True)\n",
    "print(sorted_numbers)\n",
    "print(numbers)"
   ]
  },
  {
   "cell_type": "code",
   "execution_count": null,
   "id": "0c630c46",
   "metadata": {},
   "outputs": [],
   "source": [
    "# 尋訪 (for in loop迴圈)\n",
    "for n in numbers:\n",
    "    print(n)"
   ]
  },
  {
   "cell_type": "code",
   "execution_count": null,
   "id": "34dd3d14",
   "metadata": {},
   "outputs": [],
   "source": [
    "# range()\n",
    "for n in range(1, 11): \n",
    "    print(n)"
   ]
  },
  {
   "cell_type": "code",
   "execution_count": null,
   "id": "1853579d",
   "metadata": {},
   "outputs": [],
   "source": [
    "r = range(1,10000001)\n",
    "print(type(r))"
   ]
  },
  {
   "cell_type": "code",
   "execution_count": null,
   "id": "2ea4e0c1",
   "metadata": {},
   "outputs": [],
   "source": [
    "x = list(range(1,101))\n",
    "print(type(x))\n",
    "print(x)"
   ]
  },
  {
   "cell_type": "code",
   "execution_count": null,
   "id": "6eceda79",
   "metadata": {},
   "outputs": [],
   "source": [
    "for n in range(1,101,2):\n",
    "    print(n, end=',')"
   ]
  },
  {
   "cell_type": "code",
   "execution_count": null,
   "id": "b8f7233a",
   "metadata": {},
   "outputs": [],
   "source": [
    "#取得清單中元素的最大值\n",
    "my_list = [55, 67, 43, 78, 34, 99, 101, 34]\n",
    "mymax = my_list[0]\n",
    "for n in my_list:\n",
    "    if n>mymax:\n",
    "        mymax = n\n",
    "print(f\"The maximum value is {mymax}\")"
   ]
  },
  {
   "cell_type": "code",
   "execution_count": null,
   "id": "9fedf25e",
   "metadata": {},
   "outputs": [],
   "source": [
    "# max(), min(), sum()\n",
    "print(f\"The maximum value is {max(my_list)}\")\n",
    "print(f\"The minimum value is {min(my_list)}\")\n",
    "print(f\"The summation is {sum(my_list)}\")"
   ]
  }
 ],
 "metadata": {
  "kernelspec": {
   "display_name": "Python 3 (ipykernel)",
   "language": "python",
   "name": "python3"
  },
  "language_info": {
   "codemirror_mode": {
    "name": "ipython",
    "version": 3
   },
   "file_extension": ".py",
   "mimetype": "text/x-python",
   "name": "python",
   "nbconvert_exporter": "python",
   "pygments_lexer": "ipython3",
   "version": "3.11.4"
  }
 },
 "nbformat": 4,
 "nbformat_minor": 5
}
