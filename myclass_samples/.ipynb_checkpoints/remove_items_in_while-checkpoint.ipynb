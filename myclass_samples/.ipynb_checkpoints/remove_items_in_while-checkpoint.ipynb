{
 "cells": [
  {
   "cell_type": "code",
   "execution_count": null,
   "id": "726876c7",
   "metadata": {},
   "outputs": [],
   "source": [
    "import random\n",
    "import time\n",
    "#randomly generate 100000 numbers between 0 and 99\n",
    "numbers = random.choices(list(range(100)), k=100000)\n",
    "#make a copy\n",
    "numbers_copy = numbers[:]\n",
    "#\n",
    "#get the starting time \n",
    "start = time.time()\n",
    "# remove all 1's in the list\n",
    "while 1 in numbers:\n",
    "    numbers.remove(1)\n",
    "#get the end time\n",
    "end = time.time()\n",
    "print(end-start)\n",
    "print(len(numbers))"
   ]
  },
  {
   "cell_type": "code",
   "execution_count": null,
   "id": "3d248b9c",
   "metadata": {},
   "outputs": [],
   "source": [
    "numbers = numbers_copy[:]\n",
    "start = time.time()\n",
    "index_list=[]\n",
    "for index, num in enumerate(numbers):\n",
    "    if num == 1:\n",
    "        index_list.append(index)\n",
    "index_list.reverse()\n",
    "for index in index_list:\n",
    "    del numbers[index]\n",
    "end = time.time()\n",
    "print(end-start)\n",
    "print(len(numbers))"
   ]
  },
  {
   "cell_type": "code",
   "execution_count": null,
   "id": "2a59f7cb",
   "metadata": {},
   "outputs": [],
   "source": [
    "numbers = numbers_copy[:]\n",
    "start = time.time()\n",
    "results=[]\n",
    "for n in numbers:\n",
    "    if n!=1:\n",
    "        results.append(n)\n",
    "end = time.time()\n",
    "print(end-start)\n",
    "print(len(results))\n",
    "        "
   ]
  },
  {
   "cell_type": "code",
   "execution_count": null,
   "id": "f11e37e0",
   "metadata": {},
   "outputs": [],
   "source": [
    "numbers = numbers_copy[:]\n",
    "start = time.time()\n",
    "numbers[:] = [n for n in numbers if n!=1]\n",
    "end = time.time()\n",
    "print(end-start)\n",
    "print(len(numbers))"
   ]
  }
 ],
 "metadata": {
  "kernelspec": {
   "display_name": "Python 3 (ipykernel)",
   "language": "python",
   "name": "python3"
  },
  "language_info": {
   "codemirror_mode": {
    "name": "ipython",
    "version": 3
   },
   "file_extension": ".py",
   "mimetype": "text/x-python",
   "name": "python",
   "nbconvert_exporter": "python",
   "pygments_lexer": "ipython3",
   "version": "3.10.0"
  }
 },
 "nbformat": 4,
 "nbformat_minor": 5
}
