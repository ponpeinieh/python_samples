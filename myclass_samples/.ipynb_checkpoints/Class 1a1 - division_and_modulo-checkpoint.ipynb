{
 "cells": [
  {
   "cell_type": "code",
   "execution_count": null,
   "id": "4058b745",
   "metadata": {},
   "outputs": [],
   "source": [
    "x=100\n",
    "y=3\n",
    "print(x/y)\n",
    "print(x//y) # floor division\n",
    "print(x%y) # x%y == x-(x//y)*y\n",
    "print(x-(x//y)*y)"
   ]
  },
  {
   "cell_type": "code",
   "execution_count": null,
   "id": "89f4076c",
   "metadata": {},
   "outputs": [],
   "source": [
    "x=-100\n",
    "y=3\n",
    "print(x/y)\n",
    "print(x//y)\n",
    "print(x%y)\n",
    "print(x-(x//y)*y)"
   ]
  },
  {
   "cell_type": "code",
   "execution_count": null,
   "id": "49b5125d",
   "metadata": {},
   "outputs": [],
   "source": [
    "x=100\n",
    "y=-3\n",
    "print(x/y)\n",
    "print(x//y)\n",
    "print(x%y)\n",
    "print(x-(x//y)*y)"
   ]
  },
  {
   "cell_type": "code",
   "execution_count": null,
   "id": "48486ca8",
   "metadata": {},
   "outputs": [],
   "source": [
    "x=100.0\n",
    "y=3.0\n",
    "print(x/y)\n",
    "print(x//y)\n",
    "print(x%y)\n",
    "print(x-(x//y)*y)"
   ]
  },
  {
   "cell_type": "code",
   "execution_count": null,
   "id": "3a1833ec",
   "metadata": {},
   "outputs": [],
   "source": [
    "x=-100.0\n",
    "y=3.0\n",
    "print(x/y)\n",
    "print(x//y)\n",
    "print(x%y)\n",
    "print(x-(x//y)*y)"
   ]
  },
  {
   "cell_type": "code",
   "execution_count": null,
   "id": "4f753946",
   "metadata": {},
   "outputs": [],
   "source": [
    "x=100.0\n",
    "y=-3.0\n",
    "print(x/y)\n",
    "print(x//y)\n",
    "print(x%y)\n",
    "print(x-(x//y)*y)"
   ]
  }
 ],
 "metadata": {
  "kernelspec": {
   "display_name": "Python 3 (ipykernel)",
   "language": "python",
   "name": "python3"
  },
  "language_info": {
   "codemirror_mode": {
    "name": "ipython",
    "version": 3
   },
   "file_extension": ".py",
   "mimetype": "text/x-python",
   "name": "python",
   "nbconvert_exporter": "python",
   "pygments_lexer": "ipython3",
   "version": "3.10.2"
  }
 },
 "nbformat": 4,
 "nbformat_minor": 5
}
