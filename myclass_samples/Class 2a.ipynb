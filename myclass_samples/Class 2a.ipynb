{
 "cells": [
  {
   "cell_type": "code",
   "execution_count": null,
   "id": "47e0e97c",
   "metadata": {},
   "outputs": [],
   "source": [
    "# list(清單或列表)\n",
    "\n",
    "numbers = [10,20,30,40,50] # 5個整數(元素)\n",
    "numbers"
   ]
  },
  {
   "cell_type": "code",
   "execution_count": null,
   "id": "6e41e32a",
   "metadata": {},
   "outputs": [],
   "source": [
    "# 取得第一個元素\n",
    "numbers[0] # 索引值(index)"
   ]
  },
  {
   "cell_type": "code",
   "execution_count": null,
   "id": "b5c429e4",
   "metadata": {},
   "outputs": [],
   "source": [
    "numbers[1]"
   ]
  },
  {
   "cell_type": "code",
   "execution_count": null,
   "id": "1696f4f1",
   "metadata": {},
   "outputs": [],
   "source": [
    "numbers[5]"
   ]
  },
  {
   "cell_type": "code",
   "execution_count": null,
   "id": "5cff3786",
   "metadata": {},
   "outputs": [],
   "source": [
    "numbers[4]"
   ]
  },
  {
   "cell_type": "code",
   "execution_count": null,
   "id": "71f18460",
   "metadata": {},
   "outputs": [],
   "source": [
    "numbers[-1]"
   ]
  },
  {
   "cell_type": "code",
   "execution_count": null,
   "id": "4c9d0733",
   "metadata": {},
   "outputs": [],
   "source": [
    "numbers[-2]"
   ]
  },
  {
   "cell_type": "code",
   "execution_count": null,
   "id": "7c2d6f78",
   "metadata": {},
   "outputs": [],
   "source": [
    "#取代\n",
    "numbers[0] = 1000\n",
    "numbers"
   ]
  },
  {
   "cell_type": "code",
   "execution_count": null,
   "id": "14ef0f0d",
   "metadata": {},
   "outputs": [],
   "source": [
    "numbers[-1] = 500\n",
    "numbers"
   ]
  },
  {
   "cell_type": "code",
   "execution_count": null,
   "id": "d7b4760b",
   "metadata": {},
   "outputs": [],
   "source": [
    "# 附加\n",
    "numbers.append(60)\n",
    "numbers"
   ]
  },
  {
   "cell_type": "code",
   "execution_count": null,
   "id": "4b4c7ed1",
   "metadata": {},
   "outputs": [],
   "source": [
    "numbers.insert(2, 25)\n",
    "numbers"
   ]
  }
 ],
 "metadata": {
  "kernelspec": {
   "display_name": "Python 3 (ipykernel)",
   "language": "python",
   "name": "python3"
  },
  "language_info": {
   "codemirror_mode": {
    "name": "ipython",
    "version": 3
   },
   "file_extension": ".py",
   "mimetype": "text/x-python",
   "name": "python",
   "nbconvert_exporter": "python",
   "pygments_lexer": "ipython3",
   "version": "3.10.2"
  }
 },
 "nbformat": 4,
 "nbformat_minor": 5
}
