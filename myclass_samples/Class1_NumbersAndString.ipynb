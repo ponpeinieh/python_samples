{
 "cells": [
  {
   "cell_type": "code",
   "execution_count": null,
   "id": "a9dd5311",
   "metadata": {},
   "outputs": [],
   "source": [
    "x = 166\n",
    "y = 10\n",
    "print(x*y)"
   ]
  },
  {
   "cell_type": "code",
   "execution_count": null,
   "id": "cf8b4e26",
   "metadata": {},
   "outputs": [],
   "source": [
    "print(x/y)\n",
    "print(x//y)"
   ]
  },
  {
   "cell_type": "code",
   "execution_count": null,
   "id": "f6d86780",
   "metadata": {},
   "outputs": [],
   "source": [
    "import math"
   ]
  },
  {
   "cell_type": "code",
   "execution_count": null,
   "id": "02a1940e",
   "metadata": {},
   "outputs": [],
   "source": [
    "# sin(30度)\n",
    "print(math.sin(30/360*2*math.pi))\n",
    "print(math.sin(math.radians(30)))"
   ]
  },
  {
   "cell_type": "code",
   "execution_count": null,
   "id": "9fd4cbc3",
   "metadata": {},
   "outputs": [],
   "source": [
    "#various functions in math modules\n",
    "#sin(), log(), log2(), log10(), pow(), factorial(), lcm(), gcd(), ..."
   ]
  },
  {
   "cell_type": "code",
   "execution_count": null,
   "id": "ab896587",
   "metadata": {},
   "outputs": [],
   "source": [
    "message = 'hello'\n",
    "name = \"john smith\"\n",
    "#print\n",
    "print(message)"
   ]
  },
  {
   "cell_type": "code",
   "execution_count": null,
   "id": "afe25ceb",
   "metadata": {},
   "outputs": [],
   "source": [
    "#formatted-string語法(f-string) since python 3.6\n",
    "print(f\"The message is {message}\")\n",
    "print(\"The message is {message}\")"
   ]
  },
  {
   "cell_type": "code",
   "execution_count": null,
   "id": "48240928",
   "metadata": {},
   "outputs": [],
   "source": [
    "first_name='John'\n",
    "last_name=\"Smith\"\n",
    "full_name = f\"{first_name} {last_name}\"\n",
    "print(full_name)"
   ]
  },
  {
   "cell_type": "code",
   "execution_count": null,
   "id": "ba4002fc",
   "metadata": {},
   "outputs": [],
   "source": [
    "#舊的語法\n",
    "full_name2 = \"{} {}\".format(first_name, last_name)\n",
    "print(full_name2)"
   ]
  },
  {
   "cell_type": "code",
   "execution_count": null,
   "id": "bfc63439",
   "metadata": {},
   "outputs": [],
   "source": [
    "#出生年月日\n",
    "year = 2001\n",
    "month=12\n",
    "day=30\n",
    "print(f\"My birthday is {year}/{month}/{day}\")"
   ]
  },
  {
   "cell_type": "code",
   "execution_count": null,
   "id": "2560d4e2",
   "metadata": {},
   "outputs": [],
   "source": [
    "print(\"{}/{}/{}\".format(year,month,day))"
   ]
  },
  {
   "cell_type": "code",
   "execution_count": null,
   "id": "277faa2d",
   "metadata": {},
   "outputs": [],
   "source": [
    "print(\"{2}/{1}/{0}\".format(year, month,day))"
   ]
  },
  {
   "cell_type": "code",
   "execution_count": null,
   "id": "73399901",
   "metadata": {},
   "outputs": [],
   "source": [
    "print(\"{y}/{m}/{d}\".format(m=month, y=year,d=day))"
   ]
  },
  {
   "cell_type": "code",
   "execution_count": null,
   "id": "4e0b215f",
   "metadata": {},
   "outputs": [],
   "source": [
    "# Escape characters(跳脫字元)\n",
    "# '\\n' - newline\n",
    "# '\\t' - horizontal tab\n",
    "# '\\'' - single quote\n",
    "# \"\\\"\" - double quote\n",
    "message = 'It\\'s a cat'\n",
    "print(message)"
   ]
  },
  {
   "cell_type": "code",
   "execution_count": null,
   "id": "f34b10f6",
   "metadata": {},
   "outputs": [],
   "source": [
    "name = \"Meryl Streep\"\n",
    "name2 = name.upper()\n",
    "print(name)\n",
    "print(name2)"
   ]
  },
  {
   "cell_type": "code",
   "execution_count": null,
   "id": "3811a77e",
   "metadata": {},
   "outputs": [],
   "source": [
    "print(name.lower())"
   ]
  },
  {
   "cell_type": "code",
   "execution_count": null,
   "id": "eaf35c5d",
   "metadata": {},
   "outputs": [],
   "source": [
    "name3 = name.lower()\n",
    "print(name3)\n",
    "print(name3.title())"
   ]
  },
  {
   "cell_type": "code",
   "execution_count": null,
   "id": "6d3d1dac",
   "metadata": {},
   "outputs": [],
   "source": [
    "#strip(), rstrip(), lstrip()\n",
    "input_text = \"     0977-780909    \"\n",
    "print(f\"|{input_text.strip()}|\")\n",
    "print(f\"|{input_text.lstrip()}|\")\n",
    "print(f\"|{input_text.rstrip()}|\")"
   ]
  },
  {
   "cell_type": "code",
   "execution_count": null,
   "id": "0025f99b",
   "metadata": {},
   "outputs": [],
   "source": [
    "# split()字串拆解\n",
    "print(\"200 300 400\".split())"
   ]
  },
  {
   "cell_type": "code",
   "execution_count": null,
   "id": "a941cb73",
   "metadata": {},
   "outputs": [],
   "source": [
    "print(\"200,300,400\".split(','))"
   ]
  },
  {
   "cell_type": "code",
   "execution_count": null,
   "id": "58806324",
   "metadata": {},
   "outputs": [],
   "source": [
    "numbers_string = \"1 2 3 4 5 6 7 8 9 10\"\n",
    "print(numbers_string.split(maxsplit=2))"
   ]
  },
  {
   "cell_type": "code",
   "execution_count": null,
   "id": "e95089fb",
   "metadata": {},
   "outputs": [],
   "source": [
    "# multiline text\n",
    "print('''This is \n",
    "a multiline\n",
    "text...\n",
    "''')"
   ]
  },
  {
   "cell_type": "code",
   "execution_count": null,
   "id": "6bd68453",
   "metadata": {},
   "outputs": [],
   "source": [
    "my_text = \"\"\"Welcome to\n",
    "the Python\n",
    "World!!!\n",
    "\"\"\"\n",
    "print(my_text)"
   ]
  },
  {
   "cell_type": "code",
   "execution_count": null,
   "id": "3b34ddf6",
   "metadata": {},
   "outputs": [],
   "source": [
    "print(my_text.split('\\n'))"
   ]
  },
  {
   "cell_type": "code",
   "execution_count": null,
   "id": "a0eb3ae0",
   "metadata": {},
   "outputs": [],
   "source": [
    "print(my_text.splitlines(False))\n",
    "print(my_text.splitlines(True))"
   ]
  }
 ],
 "metadata": {
  "kernelspec": {
   "display_name": "Python 3 (ipykernel)",
   "language": "python",
   "name": "python3"
  },
  "language_info": {
   "codemirror_mode": {
    "name": "ipython",
    "version": 3
   },
   "file_extension": ".py",
   "mimetype": "text/x-python",
   "name": "python",
   "nbconvert_exporter": "python",
   "pygments_lexer": "ipython3",
   "version": "3.11.4"
  }
 },
 "nbformat": 4,
 "nbformat_minor": 5
}
