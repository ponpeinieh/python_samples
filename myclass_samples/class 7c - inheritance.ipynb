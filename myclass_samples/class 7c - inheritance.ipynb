{
 "cells": [
  {
   "cell_type": "code",
   "execution_count": 1,
   "id": "a3059455",
   "metadata": {},
   "outputs": [],
   "source": [
    "# Restaurant class (餐廳)\n",
    "class Restaurant:\n",
    "    def __init__(self, name, type): #建構子\n",
    "        self.name=name\n",
    "        self.type=type\n",
    "    def describe(self):\n",
    "        print(f'餐廳名字:{self.name},型態:{self.type}')\n",
    "    def open(self):\n",
    "        print(f'營業中')"
   ]
  },
  {
   "cell_type": "code",
   "execution_count": 2,
   "id": "99c6af40",
   "metadata": {},
   "outputs": [
    {
     "name": "stdout",
     "output_type": "stream",
     "text": [
      "餐廳名字:六合火鍋,型態:火鍋店\n",
      "營業中\n"
     ]
    }
   ],
   "source": [
    "# 產生物件\n",
    "r1 = Restaurant('六合火鍋','火鍋店')\n",
    "r1.describe()\n",
    "r1.open()"
   ]
  },
  {
   "cell_type": "code",
   "execution_count": 4,
   "id": "33cd0f0f",
   "metadata": {},
   "outputs": [
    {
     "name": "stdout",
     "output_type": "stream",
     "text": [
      "餐廳名字:日光燒烤,型態:日式燒烤\n",
      "營業中\n"
     ]
    }
   ],
   "source": [
    "r2 = Restaurant('日光燒烤','日式燒烤')\n",
    "r2.describe()\n",
    "r2.open()"
   ]
  },
  {
   "cell_type": "code",
   "execution_count": 6,
   "id": "ec0ee74c",
   "metadata": {},
   "outputs": [],
   "source": [
    "class IceScreamStand(Restaurant): # 父類別(super class, parent class): Restaurant \n",
    "    def __init__(self,name,type,flavors):\n",
    "        #呼叫父類別的建構子\n",
    "        super().__init__(name,type)\n",
    "        self.flavors = flavors # 冰淇淋口味\n",
    "    def display_flavors(self):\n",
    "        print('我們提供以下的冰淇淋口味:')\n",
    "        for f in self.flavors:\n",
    "            print(f'{f}')\n"
   ]
  },
  {
   "cell_type": "code",
   "execution_count": 7,
   "id": "e900f2a6",
   "metadata": {},
   "outputs": [
    {
     "name": "stdout",
     "output_type": "stream",
     "text": [
      "餐廳名字:我家冰品,型態:甜點\n",
      "營業中\n",
      "我們提供以下的冰淇淋口味:\n",
      "香草\n",
      "巧克力\n",
      "薄荷\n",
      "抹茶\n"
     ]
    }
   ],
   "source": [
    "# 產生物件\n",
    "s1 = IceScreamStand(\"我家冰品\",'甜點',['香草','巧克力','薄荷','抹茶'])\n",
    "s1.describe()\n",
    "s1.open()\n",
    "s1.display_flavors()"
   ]
  }
 ],
 "metadata": {
  "kernelspec": {
   "display_name": "Python 3 (ipykernel)",
   "language": "python",
   "name": "python3"
  },
  "language_info": {
   "codemirror_mode": {
    "name": "ipython",
    "version": 3
   },
   "file_extension": ".py",
   "mimetype": "text/x-python",
   "name": "python",
   "nbconvert_exporter": "python",
   "pygments_lexer": "ipython3",
   "version": "3.10.2"
  }
 },
 "nbformat": 4,
 "nbformat_minor": 5
}
