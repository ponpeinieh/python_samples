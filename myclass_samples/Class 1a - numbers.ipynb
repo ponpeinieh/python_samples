{
 "cells": [
  {
   "cell_type": "code",
   "execution_count": null,
   "id": "48073f4d",
   "metadata": {},
   "outputs": [],
   "source": [
    "# 這是註解\n",
    "# 定義變數\n",
    "x = 100\n",
    "y = 3\n",
    "x/y"
   ]
  },
  {
   "cell_type": "code",
   "execution_count": null,
   "id": "1aa6b23d",
   "metadata": {},
   "outputs": [],
   "source": [
    "x//y"
   ]
  },
  {
   "cell_type": "code",
   "execution_count": null,
   "id": "717c0ef7",
   "metadata": {},
   "outputs": [],
   "source": [
    "x = 10.123\n",
    "y = 5.5\n",
    "x/y"
   ]
  },
  {
   "cell_type": "code",
   "execution_count": null,
   "id": "c9aba981",
   "metadata": {},
   "outputs": [],
   "source": [
    "2**10"
   ]
  },
  {
   "cell_type": "code",
   "execution_count": null,
   "id": "ecdb7930",
   "metadata": {},
   "outputs": [],
   "source": [
    "x**y"
   ]
  },
  {
   "cell_type": "code",
   "execution_count": null,
   "id": "8ed0b3fe",
   "metadata": {},
   "outputs": [],
   "source": [
    "x/y\n",
    "\n",
    "z=2\n",
    "x+y*z\n",
    "\n",
    "(x+y)*z"
   ]
  },
  {
   "cell_type": "code",
   "execution_count": null,
   "id": "ac31ffbf",
   "metadata": {},
   "outputs": [],
   "source": [
    "import math\n",
    "math.sqrt(100)"
   ]
  },
  {
   "cell_type": "code",
   "execution_count": null,
   "id": "8db1fb57",
   "metadata": {},
   "outputs": [],
   "source": [
    "math.log(1024) # 以e為底數"
   ]
  },
  {
   "cell_type": "code",
   "execution_count": null,
   "id": "e0fe6bcd",
   "metadata": {},
   "outputs": [],
   "source": [
    "math.log2(1024) #以2為底數"
   ]
  },
  {
   "cell_type": "code",
   "execution_count": null,
   "id": "57a5eab1",
   "metadata": {},
   "outputs": [],
   "source": [
    "math.log10(1000)"
   ]
  },
  {
   "cell_type": "code",
   "execution_count": null,
   "id": "4ea8942d",
   "metadata": {},
   "outputs": [],
   "source": [
    "math.log(1024,2)"
   ]
  },
  {
   "cell_type": "code",
   "execution_count": null,
   "id": "b985fbf2",
   "metadata": {},
   "outputs": [],
   "source": [
    "math.log(10000,10)"
   ]
  },
  {
   "cell_type": "code",
   "execution_count": null,
   "id": "7ed4ba24",
   "metadata": {},
   "outputs": [],
   "source": [
    "math.log(49,7)"
   ]
  },
  {
   "cell_type": "code",
   "execution_count": null,
   "id": "9f680b23",
   "metadata": {},
   "outputs": [],
   "source": [
    "math.e"
   ]
  },
  {
   "cell_type": "code",
   "execution_count": null,
   "id": "9be47a61",
   "metadata": {},
   "outputs": [],
   "source": [
    "math.pi"
   ]
  },
  {
   "cell_type": "code",
   "execution_count": null,
   "id": "3b731d24",
   "metadata": {},
   "outputs": [],
   "source": [
    "#sin(30 degree) = 1/2\n",
    "#math.sin(30/360*(2*math.pi))\n",
    "math.sin(30/180*math.pi)"
   ]
  },
  {
   "cell_type": "code",
   "execution_count": null,
   "id": "2e9ea1d8",
   "metadata": {},
   "outputs": [],
   "source": [
    "math.sin(math.radians(30))"
   ]
  },
  {
   "cell_type": "code",
   "execution_count": null,
   "id": "95700410",
   "metadata": {},
   "outputs": [],
   "source": [
    "math.degrees(math.pi)"
   ]
  },
  {
   "cell_type": "code",
   "execution_count": null,
   "id": "696fa3a0",
   "metadata": {},
   "outputs": [],
   "source": [
    "#階乘 (10! = 1*2*3...*10)\n",
    "#factorial\n",
    "math.factorial(10)"
   ]
  },
  {
   "cell_type": "code",
   "execution_count": null,
   "id": "779cfc65",
   "metadata": {},
   "outputs": [],
   "source": [
    "#ceil(), floor()\n",
    "x = 3.5\n",
    "math.ceil(x)"
   ]
  },
  {
   "cell_type": "code",
   "execution_count": null,
   "id": "bee81df7",
   "metadata": {},
   "outputs": [],
   "source": [
    "math.floor(x)"
   ]
  },
  {
   "cell_type": "code",
   "execution_count": null,
   "id": "1ab6846b",
   "metadata": {},
   "outputs": [],
   "source": [
    "#gcd(), lcm()\n",
    "math.gcd(100,50, 80,15)"
   ]
  },
  {
   "cell_type": "code",
   "execution_count": null,
   "id": "21243d12",
   "metadata": {},
   "outputs": [],
   "source": [
    "math.lcm(5,12,19)"
   ]
  }
 ],
 "metadata": {
  "kernelspec": {
   "display_name": "Python 3 (ipykernel)",
   "language": "python",
   "name": "python3"
  },
  "language_info": {
   "codemirror_mode": {
    "name": "ipython",
    "version": 3
   },
   "file_extension": ".py",
   "mimetype": "text/x-python",
   "name": "python",
   "nbconvert_exporter": "python",
   "pygments_lexer": "ipython3",
   "version": "3.10.2"
  }
 },
 "nbformat": 4,
 "nbformat_minor": 5
}
