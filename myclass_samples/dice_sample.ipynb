{
 "cells": [
  {
   "cell_type": "code",
   "execution_count": 12,
   "id": "53df221d",
   "metadata": {},
   "outputs": [
    {
     "name": "stdout",
     "output_type": "stream",
     "text": [
      "1:0.155\n",
      "2:0.174\n",
      "3:0.162\n",
      "4:0.174\n",
      "5:0.165\n",
      "6:0.17\n"
     ]
    }
   ],
   "source": [
    "import random\n",
    "class Dice:\n",
    "    def __init__(self, sides=6):\n",
    "        self.sides = sides\n",
    "    def roll_dice(self):\n",
    "        return random.randint(1,self.sides)\n",
    "sides=6\n",
    "stats=[0]*sides\n",
    "d1 =Dice(sides)\n",
    "for i in range(1000):\n",
    "   stats[d1.roll_dice()-1]+=1\n",
    "\n",
    "for i in range(sides):\n",
    "    print(f'{i+1}:{stats[i]/1000}')"
   ]
  }
 ],
 "metadata": {
  "kernelspec": {
   "display_name": "Python 3 (ipykernel)",
   "language": "python",
   "name": "python3"
  },
  "language_info": {
   "codemirror_mode": {
    "name": "ipython",
    "version": 3
   },
   "file_extension": ".py",
   "mimetype": "text/x-python",
   "name": "python",
   "nbconvert_exporter": "python",
   "pygments_lexer": "ipython3",
   "version": "3.10.5"
  }
 },
 "nbformat": 4,
 "nbformat_minor": 5
}
