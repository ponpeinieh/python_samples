{
 "cells": [
  {
   "cell_type": "code",
   "execution_count": null,
   "id": "9297fc69",
   "metadata": {},
   "outputs": [],
   "source": [
    "with open('pi_digits.txt') as file_handle:\n",
    "    contents = file_handle.read()\n",
    "print(contents)"
   ]
  },
  {
   "cell_type": "code",
   "execution_count": null,
   "id": "90235897",
   "metadata": {},
   "outputs": [],
   "source": [
    "file_handle2 = open('pi_digits.txt')\n",
    "contents = file_handle2.read()\n",
    "file_handle2.close()\n",
    "print(contents)"
   ]
  },
  {
   "cell_type": "code",
   "execution_count": null,
   "id": "a33a02c7",
   "metadata": {},
   "outputs": [],
   "source": [
    "try: \n",
    "    file_handle2 = open('pi_digits.txt')\n",
    "    contents = file_handle2.read()\n",
    "    print(contents)\n",
    "finally:\n",
    "    print('in finally')\n",
    "    file_handle2.close()\n"
   ]
  },
  {
   "cell_type": "code",
   "execution_count": null,
   "id": "c124f2c1",
   "metadata": {},
   "outputs": [],
   "source": [
    "with open('pi_digits.txt') as file_handle:\n",
    "    while True:\n",
    "        contents = file_handle.read(5)\n",
    "        if contents:\n",
    "            print(contents, end='')\n",
    "        else :\n",
    "            break\n"
   ]
  },
  {
   "cell_type": "code",
   "execution_count": null,
   "id": "07b7219e",
   "metadata": {},
   "outputs": [],
   "source": [
    "with open('pi_digits.txt') as file_handle: \n",
    "    while contents := file_handle.read(5): # since python 3.8\n",
    "        print(contents, end='')"
   ]
  },
  {
   "cell_type": "code",
   "execution_count": null,
   "id": "c019e58e",
   "metadata": {},
   "outputs": [],
   "source": [
    "def f(x):\n",
    "    print('f() is called')\n",
    "    return 2*x+1\n",
    "\n",
    "data = [y:=f(10), y**2, y**3]\n",
    "print(data)"
   ]
  },
  {
   "cell_type": "code",
   "execution_count": null,
   "id": "234caec1",
   "metadata": {},
   "outputs": [],
   "source": [
    "with open('pi_digits.txt') as file_handle:\n",
    "    #lines = list(file_handle)\n",
    "    lines = file_handle.readlines()\n",
    "    for line in lines:\n",
    "        print(line, end='')"
   ]
  },
  {
   "cell_type": "code",
   "execution_count": null,
   "id": "ad433e0f",
   "metadata": {},
   "outputs": [],
   "source": [
    "with open('output.txt','w+') as file_handle:\n",
    "    file_handle.write('I love programming\\n')\n",
    "    file_handle.seek(0)\n",
    "    contents = file_handle.read()\n",
    "    print(contents)"
   ]
  },
  {
   "cell_type": "code",
   "execution_count": null,
   "id": "cef1af43",
   "metadata": {},
   "outputs": [],
   "source": [
    "t = (100,200)\n",
    "print(repr(t))"
   ]
  },
  {
   "cell_type": "code",
   "execution_count": null,
   "id": "eab4b41f",
   "metadata": {},
   "outputs": [],
   "source": [
    "with open('tuple.txt','w+') as file_handle:\n",
    "    t = (100,200)\n",
    "    file_handle.write(repr(t)) # repr: generate a representation string\n",
    "    file_handle.seek(0)\n",
    "    t2 = eval(file_handle.read()) # eval : evaluate a representation string\n",
    "    print(t2[0],t2[1])"
   ]
  },
  {
   "cell_type": "code",
   "execution_count": null,
   "id": "789ba9e9",
   "metadata": {},
   "outputs": [],
   "source": [
    "class Position:\n",
    "    def __init__(self, x, y):\n",
    "        self.x=x\n",
    "        self.y=y\n",
    "    def __repr__(self):\n",
    "        return f'Position({self.x},{self.y})'\n",
    "    def print_info(self):\n",
    "        print(f'My positon is at {self.x},{self.y}')\n",
    "    \n",
    "with open('position.txt','w+') as file_handle:\n",
    "    t = Position(100,200)\n",
    "    file_handle.write(repr(t)) # repr: generate a representation string\n",
    "    file_handle.seek(0)\n",
    "    t2 = eval(file_handle.read()) # eval : evaluate a representation string\n",
    "    t2.print_info()"
   ]
  },
  {
   "cell_type": "code",
   "execution_count": null,
   "id": "8c656150",
   "metadata": {},
   "outputs": [],
   "source": [
    "t is t2 # used to compare the equality of references"
   ]
  },
  {
   "cell_type": "code",
   "execution_count": null,
   "id": "f4f01dc5",
   "metadata": {},
   "outputs": [],
   "source": [
    "# append contents to a file\n",
    "with open('output.txt','a+') as file_handle: # a: append mode\n",
    "    file_handle.write('Another sentence !!!!')\n",
    "    file_handle.seek(0)\n",
    "    contents = file_handle.read()\n",
    "    print(contents)"
   ]
  }
 ],
 "metadata": {
  "kernelspec": {
   "display_name": "Python 3 (ipykernel)",
   "language": "python",
   "name": "python3"
  },
  "language_info": {
   "codemirror_mode": {
    "name": "ipython",
    "version": 3
   },
   "file_extension": ".py",
   "mimetype": "text/x-python",
   "name": "python",
   "nbconvert_exporter": "python",
   "pygments_lexer": "ipython3",
   "version": "3.10.5"
  }
 },
 "nbformat": 4,
 "nbformat_minor": 5
}
