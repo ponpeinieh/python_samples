{
 "cells": [
  {
   "cell_type": "code",
   "execution_count": null,
   "id": "d527d750",
   "metadata": {},
   "outputs": [],
   "source": [
    "#集合式資料結構 : 清單(List)\n",
    "#購物清單\n",
    "shopping_list = ['雞蛋','牛奶','麵包','可樂','冰淇淋']\n",
    "#科目\n",
    "subjects = ['國語','數學','自然','社會','英語','閩南語']\n",
    "#考試成績\n",
    "scores=[96, 88, 98, 100, 96, 86]\n",
    "#重量\n",
    "weights=[1.1, 2.5, 0.9, 4.4, 3.1]\n"
   ]
  },
  {
   "cell_type": "code",
   "execution_count": null,
   "id": "50dff929",
   "metadata": {},
   "outputs": [],
   "source": [
    "#取得個別的資料元素\n",
    "print(shopping_list[2])\n",
    "print(scores[2])"
   ]
  },
  {
   "cell_type": "code",
   "execution_count": null,
   "id": "8b679722",
   "metadata": {},
   "outputs": [],
   "source": [
    "#負值的索引值\n",
    "print(shopping_list[-1])\n",
    "print(shopping_list[-2])"
   ]
  },
  {
   "cell_type": "code",
   "execution_count": null,
   "id": "a9e06c87",
   "metadata": {},
   "outputs": [],
   "source": [
    "#改變某一個元素\n",
    "shopping_list[-3] = '蘋果'\n",
    "print(shopping_list)"
   ]
  },
  {
   "cell_type": "code",
   "execution_count": null,
   "id": "a14788c7",
   "metadata": {},
   "outputs": [],
   "source": [
    "#加入新的元素\n",
    "#append(): 從最後加入新的\n",
    "shopping_list.append('泡麵')\n",
    "print(shopping_list)"
   ]
  },
  {
   "cell_type": "code",
   "execution_count": null,
   "id": "c299f13b",
   "metadata": {},
   "outputs": [],
   "source": [
    "#從特定位置插入新的元素\n",
    "#insert()\n",
    "shopping_list.insert(3, '啤酒')\n",
    "print(shopping_list)"
   ]
  },
  {
   "cell_type": "code",
   "execution_count": null,
   "id": "252eaaf1",
   "metadata": {},
   "outputs": [],
   "source": [
    "#刪除元素\n",
    "#del指令\n",
    "del shopping_list[3]\n",
    "print(shopping_list)"
   ]
  },
  {
   "cell_type": "code",
   "execution_count": null,
   "id": "08b0931c",
   "metadata": {},
   "outputs": [],
   "source": [
    "#pop() 會回傳被刪除的元素\n",
    "deleted_item = shopping_list.pop(-1)\n",
    "print(deleted_item)\n",
    "print(shopping_list)"
   ]
  },
  {
   "cell_type": "code",
   "execution_count": null,
   "id": "b536da55",
   "metadata": {},
   "outputs": [],
   "source": [
    "#remove() 根據元素的內容作刪除\n",
    "shopping_list.remove('牛奶')\n",
    "print(shopping_list)"
   ]
  },
  {
   "cell_type": "code",
   "execution_count": null,
   "id": "8c425c5e",
   "metadata": {},
   "outputs": [],
   "source": [
    "#fruits\n",
    "fruits = ['apple', 'banana', 'orange', 'pineapple', 'kiwi', 'mango', 'pear']\n",
    "#排序: sort() 預設是按照字母a-z, 大寫先, 小寫後\n",
    "fruits.sort()\n",
    "print(fruits)"
   ]
  },
  {
   "cell_type": "code",
   "execution_count": null,
   "id": "96386ec3",
   "metadata": {},
   "outputs": [],
   "source": [
    "#按照反向的方式排序\n",
    "fruits.sort(reverse=True)\n",
    "print(fruits)"
   ]
  },
  {
   "cell_type": "code",
   "execution_count": null,
   "id": "fc35fcfd",
   "metadata": {},
   "outputs": [],
   "source": [
    "#sorted(): 不會改變原本清單中的順序\n",
    "new_fruits = sorted(fruits)\n",
    "print(new_fruits)\n",
    "print(fruits)"
   ]
  },
  {
   "cell_type": "code",
   "execution_count": null,
   "id": "c2bbb1ff",
   "metadata": {},
   "outputs": [],
   "source": [
    "scores.sort() #預設由小到大排序\n",
    "print(scores)"
   ]
  },
  {
   "cell_type": "code",
   "execution_count": null,
   "id": "739a65b4",
   "metadata": {},
   "outputs": [],
   "source": [
    "scores.sort(reverse=True) #反向\n",
    "print(scores)"
   ]
  },
  {
   "cell_type": "code",
   "execution_count": null,
   "id": "582b8731",
   "metadata": {},
   "outputs": [],
   "source": [
    "sorted_scores = sorted(scores)\n",
    "print(sorted_scores)\n",
    "print(scores)"
   ]
  }
 ],
 "metadata": {
  "kernelspec": {
   "display_name": "Python 3 (ipykernel)",
   "language": "python",
   "name": "python3"
  },
  "language_info": {
   "codemirror_mode": {
    "name": "ipython",
    "version": 3
   },
   "file_extension": ".py",
   "mimetype": "text/x-python",
   "name": "python",
   "nbconvert_exporter": "python",
   "pygments_lexer": "ipython3",
   "version": "3.11.4"
  }
 },
 "nbformat": 4,
 "nbformat_minor": 5
}
