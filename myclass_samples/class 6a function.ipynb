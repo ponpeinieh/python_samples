{
 "cells": [
  {
   "cell_type": "code",
   "execution_count": null,
   "id": "db7e8ca9",
   "metadata": {},
   "outputs": [],
   "source": [
    "# define a function \n",
    "# add documentation\n",
    "def square(x):\n",
    "    '''\n",
    "    square() function is to calculate the square value of x\n",
    "    argument x: a number\n",
    "    return value: a number\n",
    "    '''\n",
    "    result = x**2\n",
    "    return result"
   ]
  },
  {
   "cell_type": "code",
   "execution_count": null,
   "id": "255c7f61",
   "metadata": {},
   "outputs": [],
   "source": [
    "a = 100\n",
    "square(a) # expression"
   ]
  },
  {
   "cell_type": "code",
   "execution_count": null,
   "id": "4a3aa63d",
   "metadata": {},
   "outputs": [],
   "source": [
    "print(square.__doc__)"
   ]
  },
  {
   "cell_type": "code",
   "execution_count": null,
   "id": "581d0392",
   "metadata": {},
   "outputs": [],
   "source": [
    "print(square(10))"
   ]
  },
  {
   "cell_type": "code",
   "execution_count": null,
   "id": "1e9cb0ec",
   "metadata": {},
   "outputs": [],
   "source": [
    "# function with no return value\n",
    "def greeting():\n",
    "    #print('hello world!!!')\n",
    "    pass\n",
    "\n",
    "print(greeting())"
   ]
  },
  {
   "cell_type": "code",
   "execution_count": null,
   "id": "79eedcf2",
   "metadata": {},
   "outputs": [],
   "source": [
    "print(print.__doc__)"
   ]
  },
  {
   "cell_type": "code",
   "execution_count": null,
   "id": "aff7c53e",
   "metadata": {},
   "outputs": [],
   "source": [
    "import random\n",
    "print(random.__doc__)"
   ]
  },
  {
   "cell_type": "code",
   "execution_count": null,
   "id": "2e193188",
   "metadata": {},
   "outputs": [],
   "source": [
    "def greet_user(username): # callee(被呼叫者) parameter 'username'\n",
    "    print(f'Hello {username}')\n",
    "\n",
    "# call or invoke a function\n",
    "name = 'John'\n",
    "greet_user(name) # caller(呼叫者) argument 'name' "
   ]
  },
  {
   "cell_type": "code",
   "execution_count": null,
   "id": "a9f429a7",
   "metadata": {},
   "outputs": [],
   "source": [
    "def greet_user(message, username):  \n",
    "    print(f'{message} {username}')\n",
    "\n",
    "greet_user('Hello', 'John') #positional arguments"
   ]
  },
  {
   "cell_type": "code",
   "execution_count": null,
   "id": "fde0fbcc",
   "metadata": {},
   "outputs": [],
   "source": [
    "greet_user(message='Good morning',username='Steven') #keyword arguments\n",
    "greet_user(username='Steven',message='Good morning') #keyword arguments"
   ]
  }
 ],
 "metadata": {
  "kernelspec": {
   "display_name": "Python 3 (ipykernel)",
   "language": "python",
   "name": "python3"
  },
  "language_info": {
   "codemirror_mode": {
    "name": "ipython",
    "version": 3
   },
   "file_extension": ".py",
   "mimetype": "text/x-python",
   "name": "python",
   "nbconvert_exporter": "python",
   "pygments_lexer": "ipython3",
   "version": "3.10.5"
  }
 },
 "nbformat": 4,
 "nbformat_minor": 5
}
