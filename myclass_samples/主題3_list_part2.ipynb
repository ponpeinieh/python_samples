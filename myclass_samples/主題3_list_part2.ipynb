{
 "cells": [
  {
   "cell_type": "code",
   "execution_count": null,
   "id": "45b4ed7e",
   "metadata": {},
   "outputs": [],
   "source": [
    "#集合式資料結構 : 清單(List)\n",
    "#購物清單\n",
    "shopping_list = ['雞蛋','牛奶','麵包','可樂','冰淇淋']\n",
    "#科目\n",
    "subjects = ['國語','數學','自然','社會','英語','閩南語']\n",
    "#考試成績\n",
    "scores=[96, 88, 98, 100, 96, 86]\n",
    "#重量\n",
    "weights=[1.1, 2.5, 0.9, 4.4, 3.1]"
   ]
  },
  {
   "cell_type": "code",
   "execution_count": null,
   "id": "6744f608",
   "metadata": {},
   "outputs": [],
   "source": [
    "#尋訪清單中的每一個元素\n",
    "for subject in subjects:\n",
    "    print(\"內容:\")\n",
    "    print(subject)\n",
    "print('完成')"
   ]
  },
  {
   "cell_type": "code",
   "execution_count": null,
   "id": "2a9c1cac",
   "metadata": {},
   "outputs": [],
   "source": [
    "# 清單包含一些會跳的動物\n",
    "animals_can_jump = ['rabbit', 'kangaroo', 'flea', 'frog', 'antelop']\n",
    "for animal in animals_can_jump:\n",
    "    print(f'{animal} 會跳躍!')\n",
    "print('完成!')"
   ]
  }
 ],
 "metadata": {
  "kernelspec": {
   "display_name": "Python 3 (ipykernel)",
   "language": "python",
   "name": "python3"
  },
  "language_info": {
   "codemirror_mode": {
    "name": "ipython",
    "version": 3
   },
   "file_extension": ".py",
   "mimetype": "text/x-python",
   "name": "python",
   "nbconvert_exporter": "python",
   "pygments_lexer": "ipython3",
   "version": "3.11.4"
  }
 },
 "nbformat": 4,
 "nbformat_minor": 5
}
