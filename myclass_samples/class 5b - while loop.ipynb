{
 "cells": [
  {
   "cell_type": "code",
   "execution_count": null,
   "id": "649aff90",
   "metadata": {},
   "outputs": [],
   "source": [
    "# echo what you said \n",
    "message = ''\n",
    "while message!='quit':\n",
    "    message = input('Please type something(input \"quit\" to stop):')\n",
    "    print(message)\n",
    "print('end of program')"
   ]
  },
  {
   "cell_type": "code",
   "execution_count": null,
   "id": "1fc8e263",
   "metadata": {},
   "outputs": [],
   "source": [
    "message = ''\n",
    "while True:\n",
    "    message = input('Please type something(input \"quit\" to stop):')\n",
    "    if message=='quit':\n",
    "        break\n",
    "    print(message)\n",
    "print('end of program')"
   ]
  },
  {
   "cell_type": "code",
   "execution_count": null,
   "id": "5442020f",
   "metadata": {},
   "outputs": [],
   "source": [
    "# 1+3+5+7+...+n\n",
    "n = int(input(\"n=\"))\n",
    "index = 1\n",
    "sum = 0\n",
    "while index<=n: \n",
    "    print(f'{index}', end='+') \n",
    "    sum +=index # sum=sum+index\n",
    "    index+=2\n",
    "print(f'\\b={sum}')"
   ]
  },
  {
   "cell_type": "code",
   "execution_count": null,
   "id": "9b2e2003",
   "metadata": {},
   "outputs": [],
   "source": [
    "# continue\n",
    "\n",
    "n = int(input(\"n=\"))\n",
    "\n",
    "index = 1\n",
    "sum = 0\n",
    "while index<=n:\n",
    "    if index%2==0:\n",
    "        index+=1\n",
    "        continue\n",
    "    print(f'{index}', end='+') \n",
    "    sum +=index # sum=sum+index\n",
    "    index+=1\n",
    "print(f'\\b={sum}')    "
   ]
  },
  {
   "cell_type": "code",
   "execution_count": null,
   "id": "f9aaf9e1",
   "metadata": {},
   "outputs": [],
   "source": [
    "# use while with list\n",
    "user_list = ['Eddie','Steve','Peter','John']\n",
    "finish_list = []\n",
    "while user_list:\n",
    "    user = user_list.pop()\n",
    "    print(f'{user} data is backed up')\n",
    "    finish_list.append(user)\n",
    "print('finish')\n",
    "print(user_list)\n",
    "print(finish_list)"
   ]
  },
  {
   "cell_type": "code",
   "execution_count": null,
   "id": "d1f59684",
   "metadata": {},
   "outputs": [],
   "source": [
    "# 從 list移除某些數值\n",
    "pets = ['dog','cat','mouse','fish','cat','rabbit','cat']\n",
    "# while\n",
    "while 'cat' in pets:\n",
    "    pets.remove('cat')\n",
    "    print('cat is removed!!!')\n",
    "print('finished')\n",
    "print(pets)"
   ]
  },
  {
   "cell_type": "code",
   "execution_count": null,
   "id": "d3461048",
   "metadata": {},
   "outputs": [],
   "source": [
    "import random\n",
    "import time\n",
    "# random.choices()\n",
    "number_list = random.choices(list(range(1,100)),k=100000)\n",
    "copy_list = number_list[:]\n",
    "\n",
    "start_time = time.time()\n",
    "# delete all 99's\n",
    "while 99 in number_list:\n",
    "    number_list.remove(99)\n",
    "print(len(number_list))\n",
    "end_time = time.time()\n",
    "print(end_time-start_time)"
   ]
  },
  {
   "cell_type": "code",
   "execution_count": null,
   "id": "09eb0d45",
   "metadata": {},
   "outputs": [],
   "source": [
    "\n",
    "number_list = copy_list[:]\n",
    "\n",
    "start_time = time.time()\n",
    "index_list = []\n",
    "for index, element in enumerate(number_list):\n",
    "    if element==99:\n",
    "        index_list.append(index)\n",
    "index_list.reverse()\n",
    "for n in index_list:\n",
    "    del number_list[n]\n",
    "print(len(number_list))\n",
    "end_time = time.time()\n",
    "print(end_time-start_time)"
   ]
  },
  {
   "cell_type": "code",
   "execution_count": null,
   "id": "13592d57",
   "metadata": {},
   "outputs": [],
   "source": [
    "number_list = copy_list[:]\n",
    "start_time = time.time()\n",
    "non_99_list=[]\n",
    "for n in number_list:\n",
    "    if n!=99:\n",
    "        non_99_list.append(n)\n",
    "print(len(non_99_list))\n",
    "end_time = time.time()\n",
    "print(end_time-start_time)"
   ]
  },
  {
   "cell_type": "code",
   "execution_count": null,
   "id": "988e3bea",
   "metadata": {},
   "outputs": [],
   "source": [
    "# list comprehension\n",
    "number_list = copy_list[:]\n",
    "start_time = time.time()\n",
    "non_99_list = [n for n in number_list if n!=99]\n",
    "print(len(non_99_list))\n",
    "end_time = time.time()\n",
    "print(end_time-start_time)"
   ]
  }
 ],
 "metadata": {
  "kernelspec": {
   "display_name": "Python 3 (ipykernel)",
   "language": "python",
   "name": "python3"
  },
  "language_info": {
   "codemirror_mode": {
    "name": "ipython",
    "version": 3
   },
   "file_extension": ".py",
   "mimetype": "text/x-python",
   "name": "python",
   "nbconvert_exporter": "python",
   "pygments_lexer": "ipython3",
   "version": "3.10.5"
  }
 },
 "nbformat": 4,
 "nbformat_minor": 5
}
