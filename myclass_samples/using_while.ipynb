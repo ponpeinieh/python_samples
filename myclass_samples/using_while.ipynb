{
 "cells": [
  {
   "cell_type": "code",
   "execution_count": null,
   "metadata": {
    "id": "_BER7HODGEWE"
   },
   "outputs": [],
   "source": [
    "message = \"\"\n",
    "while True:\n",
    "  message = input(\"your message(輸入'quit'可以停止):\")\n",
    "  if message != 'quit':\n",
    "    print(message)\n",
    "  else:\n",
    "    print('完成')\n",
    "    break"
   ]
  },
  {
   "cell_type": "code",
   "execution_count": null,
   "metadata": {
    "id": "P9xdL5rXHNYu"
   },
   "outputs": [],
   "source": [
    "message = \"\"\n",
    "while message!='quit':\n",
    "  message = input(\"your message(輸入'quit'可以停止):\")\n",
    "  print(message)\n",
    "print('完成')"
   ]
  },
  {
   "cell_type": "code",
   "execution_count": null,
   "metadata": {
    "id": "4IGQoWRWHqea"
   },
   "outputs": [],
   "source": [
    "# 加總數字\n",
    "sum=0\n",
    "count=1\n",
    "while count<=100:\n",
    "  sum+=count\n",
    "  count+=1 #python沒有++，--\n",
    "print(sum)"
   ]
  },
  {
   "cell_type": "code",
   "execution_count": null,
   "metadata": {
    "id": "TOmyrdIWIK7_"
   },
   "outputs": [],
   "source": [
    "#列印2，4，6，...100 (偶數)\n",
    "# while + continue\n",
    "count=0\n",
    "while count<100:\n",
    "  count+=1\n",
    "  if count%2 ==1:\n",
    "    continue\n",
    "  print(count)\n",
    "print('完成')"
   ]
  },
  {
   "cell_type": "code",
   "execution_count": null,
   "metadata": {
    "id": "UgHBWsUOJzI6"
   },
   "outputs": [],
   "source": [
    "#利用while 將一個list内的元素搬移到另一個list\n",
    "numbers = [1,2,3]\n",
    "if numbers:\n",
    "  print('有内容!')"
   ]
  },
  {
   "cell_type": "code",
   "execution_count": null,
   "metadata": {
    "colab": {
     "base_uri": "https://localhost:8080/"
    },
    "id": "HcnlzMdHKTvo",
    "outputId": "a1b3fe36-225c-4ee0-a5a7-a2c61cc3b068"
   },
   "outputs": [],
   "source": [
    "unconfirmed_users=['steve','alice','david','peter']\n",
    "confirmed_users=[]\n",
    "while unconfirmed_users:\n",
    "  # pop()移除一個元素且會回傳這個元素\n",
    "  u = unconfirmed_users.pop() #remove the last, like a 'stack'\n",
    "  print(f\"{u}您好，您資格已被審核！\")\n",
    "  confirmed_users.append(u)\n",
    "print('名單已審核完畢!')\n",
    "for u in confirmed_users:\n",
    "  print(u)\n"
   ]
  },
  {
   "cell_type": "code",
   "execution_count": null,
   "metadata": {
    "id": "gx1oKiU5L_lU"
   },
   "outputs": [],
   "source": [
    "#從list中將內容對於某個value的items全部移除\n",
    "#remove()\n",
    "#confirmed_users.remove('alice')\n",
    "#print(confirmed_users)\n",
    "# in （是否在其中）\n",
    "'david' in confirmed_users"
   ]
  },
  {
   "cell_type": "code",
   "execution_count": null,
   "metadata": {
    "colab": {
     "base_uri": "https://localhost:8080/"
    },
    "id": "OrhFvjLaMcLZ",
    "outputId": "32322c5d-f131-41d1-9925-f7c1e6d53057"
   },
   "outputs": [],
   "source": [
    "# Below code using while is just a sample for while. \n",
    "# It is not a good way to remove a specific item in a list\n",
    "pets = ['dog', 'cat', 'dog', 'goldfish', 'cat', 'rabbit', 'cat']\n",
    "#移除'cat'\n",
    "while 'cat' in pets:\n",
    "  pets.remove('cat')\n",
    "pets"
   ]
  },
  {
   "cell_type": "code",
   "execution_count": null,
   "metadata": {
    "colab": {
     "base_uri": "https://localhost:8080/"
    },
    "id": "HbWItPTcxI70",
    "outputId": "5dbe8d54-9f63-445f-888b-b3ab44317a8a"
   },
   "outputs": [],
   "source": [
    "# below code to remove specific items in a list are working, but not recommended\n",
    "pets = ['dog', 'cat', 'dog', 'goldfish', 'cat', 'rabbit', 'cat']\n",
    "#移除'cat'\n",
    "for index, pet in enumerate(pets):\n",
    "  print(index)\n",
    "  if pet == 'cat':\n",
    "    del pets[index]\n",
    "print(pets)"
   ]
  },
  {
   "cell_type": "code",
   "execution_count": null,
   "metadata": {
    "colab": {
     "base_uri": "https://localhost:8080/",
     "height": 236
    },
    "id": "Snb4PPgFx1LX",
    "outputId": "d2846461-04f3-453a-b129-cffa9c9189d3"
   },
   "outputs": [],
   "source": [
    "# below using for-in loop to remove items is not working correctly.\n",
    "'''\n",
    "pets = ['dog', 'cat', 'dog', 'goldfish', 'cat', 'rabbit', 'cat']\n",
    "#移除'cat'\n",
    "for index in range(0,len(pets)):\n",
    "  if pets[index]=='cat':\n",
    "    del pets[index]\n",
    "pets\n",
    "'''"
   ]
  },
  {
   "cell_type": "code",
   "execution_count": null,
   "metadata": {
    "colab": {
     "base_uri": "https://localhost:8080/"
    },
    "id": "cPnEQGq-0Uzz",
    "outputId": "ed683aeb-93db-416d-e59f-570834b3c85c"
   },
   "outputs": [],
   "source": [
    "# using list comprehension, the right way to remove specific items in a list\n",
    "pets = ['dog', 'cat', 'dog', 'goldfish', 'cat', 'rabbit', 'cat']\n",
    "pets2 = pets\n",
    "#移除'cat'\n",
    "pets[:] = [pet for pet in pets if pet !='cat']\n",
    "print(pets)\n",
    "print(pets)\n"
   ]
  },
  {
   "cell_type": "markdown",
   "metadata": {
    "id": "DV02GUHvOozg"
   },
   "source": [
    "### 練習: No Tuna\n",
    "- 將要準備的三明治訂單存入一個list中(sandwich_orders), 其中包含3個tuna三明治\n",
    "-寫一個迴圈, 若是'Tuna' 在list中, 則列印\"Tuna sandwich已經賣完!\", 並且移除該item (使用del)"
   ]
  },
  {
   "cell_type": "code",
   "execution_count": null,
   "metadata": {
    "colab": {
     "base_uri": "https://localhost:8080/"
    },
    "id": "DJJ1n6Z3PQHB",
    "outputId": "fa1e5d4c-5e1b-4bf1-eb69-248043754333"
   },
   "outputs": [],
   "source": [
    "sandwich_orders = ['tuna','beef','tuna','salad','tuna','ham']\n",
    "index = [] # 0,2,4\n",
    "for i in range(0,len(sandwich_orders)):\n",
    "  if sandwich_orders[i]=='tuna':\n",
    "    index.append(i)\n",
    "index.reverse()# 4,2,0\n",
    "for i in index:\n",
    "  del sandwich_orders[i]\n",
    "print(sandwich_orders)"
   ]
  },
  {
   "cell_type": "code",
   "execution_count": null,
   "metadata": {
    "colab": {
     "base_uri": "https://localhost:8080/"
    },
    "id": "dBWjTgA-TOEa",
    "outputId": "9eebb197-89ac-4a62-972a-2fc7fd07c939"
   },
   "outputs": [],
   "source": [
    "sandwich_orders = ['tuna','beef','tuna','salad','tuna','ham']\n",
    "numbers=[]\n",
    "for index,item in enumerate(sandwich_orders):\n",
    "  print(f\"{index}   {item}\")\n",
    "  if item=='tuna':\n",
    "    numbers.append(index)\n",
    "numbers.reverse()\n",
    "for n in numbers:\n",
    "  del sandwich_orders[n]\n",
    "print(sandwich_orders)"
   ]
  }
 ],
 "metadata": {
  "colab": {
   "collapsed_sections": [],
   "name": "class5.ipynb",
   "provenance": []
  },
  "kernelspec": {
   "display_name": "Python 3 (ipykernel)",
   "language": "python",
   "name": "python3"
  },
  "language_info": {
   "codemirror_mode": {
    "name": "ipython",
    "version": 3
   },
   "file_extension": ".py",
   "mimetype": "text/x-python",
   "name": "python",
   "nbconvert_exporter": "python",
   "pygments_lexer": "ipython3",
   "version": "3.10.0"
  }
 },
 "nbformat": 4,
 "nbformat_minor": 1
}
