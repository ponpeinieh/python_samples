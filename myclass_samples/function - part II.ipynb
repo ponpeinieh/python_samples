{
 "cells": [
  {
   "cell_type": "code",
   "execution_count": null,
   "id": "d0b35db7",
   "metadata": {},
   "outputs": [],
   "source": [
    "# int 型態當作參數\n",
    "def modify_int(x):\n",
    "    x+=1 # x=101\n",
    "    print(f'in modift_int: x={x}') #101\n",
    "\n",
    "a = 100\n",
    "modify_int(a)\n",
    "print(a) #???? 101 or 100"
   ]
  },
  {
   "cell_type": "code",
   "execution_count": null,
   "id": "49dd7486",
   "metadata": {},
   "outputs": [],
   "source": [
    "# string\n",
    "def modify_string(s):\n",
    "    s = s.title()\n",
    "\n",
    "a = 'hello'\n",
    "modify_string(a)\n",
    "print(a)"
   ]
  },
  {
   "cell_type": "code",
   "execution_count": null,
   "id": "2c7a299d",
   "metadata": {},
   "outputs": [],
   "source": [
    "# string是immutable\n",
    "x = 'hello'\n",
    "print(x.title())\n",
    "x"
   ]
  },
  {
   "cell_type": "code",
   "execution_count": null,
   "id": "69584964",
   "metadata": {},
   "outputs": [],
   "source": [
    "#tuple is immutable\n",
    "def read_tuple(t):\n",
    "    #t[0]=100\n",
    "    for a in t:\n",
    "        print(a)\n",
    "    t = (100,200,300)\n",
    "\n",
    "x = (1,4,3,5)\n",
    "read_tuple(x)\n",
    "print(x)"
   ]
  },
  {
   "cell_type": "code",
   "execution_count": null,
   "id": "0c1b704b",
   "metadata": {},
   "outputs": [],
   "source": [
    "#list is mutable\n",
    "def modify_list(a):\n",
    "    a[0]=100\n",
    "    print(f'in function modify_list: {a}')\n",
    "\n",
    "x = [1,3,4,5,7]\n",
    "modify_list(x)\n",
    "print(x)"
   ]
  },
  {
   "cell_type": "code",
   "execution_count": null,
   "id": "bcf7ed79",
   "metadata": {},
   "outputs": [],
   "source": [
    "# dict is mutable\n",
    "# dict 的 key是immutable\n",
    "# dict的 value是mutable\n",
    "students = {'John':20, 'Steven': 21, 'Brandon':19, 'David':18}\n",
    "def update_dict(students):\n",
    "    new_dict = {'Florence':17, 'Ginger':22}\n",
    "    students.update(new_dict)\n",
    "    for name,age in students.items():\n",
    "        print(f\"{name} is {age}-year-old\")\n",
    "\n",
    "#\n",
    "update_dict(students)\n",
    "print(students)    #???"
   ]
  },
  {
   "cell_type": "code",
   "execution_count": null,
   "id": "eeb5e05a",
   "metadata": {},
   "outputs": [],
   "source": [
    "def confirm(unconfirmed_users, confirmed_users):\n",
    "    while unconfirmed_users:\n",
    "        user = unconfirmed_users.pop()\n",
    "        confirmed_users.append(user)\n",
    "\n",
    "#呼叫\n",
    "unconfirmed_users = ['Danny','Kenny','George','Malbo']\n",
    "confirmed_users=[]\n",
    "confirm(unconfirmed_users, confirmed_users)\n",
    "print(confirmed_users)"
   ]
  },
  {
   "cell_type": "code",
   "execution_count": null,
   "id": "940ee878",
   "metadata": {},
   "outputs": [],
   "source": [
    "def summation(*numbers):\n",
    "    #numbers是一個tuple\n",
    "    sum = 0\n",
    "    for n in numbers:\n",
    "        sum+=n\n",
    "    return sum\n",
    "\n",
    "result = summation(1,2,3,4,5)  "
   ]
  },
  {
   "cell_type": "code",
   "execution_count": null,
   "id": "9051fe82",
   "metadata": {},
   "outputs": [],
   "source": [
    "print(summation(1,2))"
   ]
  },
  {
   "cell_type": "code",
   "execution_count": null,
   "id": "5985b3bd",
   "metadata": {},
   "outputs": [],
   "source": [
    "print(summation(1))"
   ]
  },
  {
   "cell_type": "code",
   "execution_count": null,
   "id": "2df7739f",
   "metadata": {},
   "outputs": [],
   "source": [
    "print(summation())"
   ]
  },
  {
   "cell_type": "code",
   "execution_count": null,
   "id": "bac4f465",
   "metadata": {},
   "outputs": [],
   "source": [
    "# string \n",
    "def make_pizza(*toppings):\n",
    "    print(toppings) # a tuple\n",
    "\n",
    "    \n",
    "make_pizza('chicken','corn','pineapple')\n",
    "make_pizza('cheese')\n",
    "make_pizza() # empty"
   ]
  },
  {
   "cell_type": "code",
   "execution_count": null,
   "id": "c15ed269",
   "metadata": {},
   "outputs": [],
   "source": [
    "def make_pizza2(*toppings,size=10):\n",
    "    print(f'You have ordered a {size}-inch pizza with below toppings:')\n",
    "    for t in toppings:\n",
    "        print(t)\n",
    "\n",
    "make_pizza2('chicken','corn','pineapple',size=12)"
   ]
  },
  {
   "cell_type": "code",
   "execution_count": null,
   "id": "493cb582",
   "metadata": {
    "scrolled": true
   },
   "outputs": [],
   "source": [
    "def user_profile(**user_info):\n",
    "    for key, value in user_info.items():\n",
    "        print(f'{key} : {value}')\n",
    "\n",
    "user_profile(name='John Smith', age=20, gender='M', email='js@email.com')\n"
   ]
  },
  {
   "cell_type": "code",
   "execution_count": null,
   "id": "69e744c2",
   "metadata": {},
   "outputs": [],
   "source": [
    "#關鍵字參數\n",
    "def get_age(age):\n",
    "    print(age)\n",
    "\n",
    "a = 20\n",
    "get_age(age=21)"
   ]
  },
  {
   "cell_type": "code",
   "execution_count": null,
   "id": "76c6445b",
   "metadata": {},
   "outputs": [],
   "source": [
    "def user_profile(firstname, lastname, **user_info): # user_info is a dict\n",
    "    user_info['fname']=firstname\n",
    "    user_info['lname']=lastname\n",
    "    return user_info\n",
    "\n",
    "result = user_profile('Steven','Hawking', age=20, gender='M', email='js@email.com')\n",
    "print(result)"
   ]
  },
  {
   "cell_type": "code",
   "execution_count": null,
   "id": "3c8bbcf7",
   "metadata": {},
   "outputs": [],
   "source": [
    "def return_x():\n",
    "    pass\n",
    "\n",
    "y = return_x()\n",
    "print(y)"
   ]
  },
  {
   "cell_type": "markdown",
   "id": "5ace2e79",
   "metadata": {},
   "source": [
    "### 練習: Pets\n",
    "- 寫一個函數 make_pet(), 裏面使用一個dict來儲存一個寵物的資訊, 並回傳這個dict\n",
    "- 該函數必須接受的positional引數: 寵物的種類(species), 及牠的名字(name)\n",
    "- 也可以接受任意數目的keyword引數\n",
    "- 呼叫該函數, 取得至少3個寵物的dict"
   ]
  },
  {
   "cell_type": "code",
   "execution_count": null,
   "id": "d3dc1358",
   "metadata": {},
   "outputs": [],
   "source": [
    "def make_pet(species, name, **kwargs):\n",
    "    information ={'species':species, 'name':name}\n",
    "    information.update(kwargs)\n",
    "    return information\n",
    "\n",
    "print(make_pet('dog','Lucky',age=10, hair='white',tail='no'))\n",
    "make_pet('cat','kitty')  "
   ]
  },
  {
   "cell_type": "code",
   "execution_count": null,
   "id": "6c9a6d9a",
   "metadata": {},
   "outputs": [],
   "source": [
    "x=10\n",
    "x+1\n",
    "x+2"
   ]
  },
  {
   "cell_type": "code",
   "execution_count": null,
   "id": "3b4180ae",
   "metadata": {},
   "outputs": [],
   "source": [
    "print(x)"
   ]
  }
 ],
 "metadata": {
  "kernelspec": {
   "display_name": "Python 3 (ipykernel)",
   "language": "python",
   "name": "python3"
  },
  "language_info": {
   "codemirror_mode": {
    "name": "ipython",
    "version": 3
   },
   "file_extension": ".py",
   "mimetype": "text/x-python",
   "name": "python",
   "nbconvert_exporter": "python",
   "pygments_lexer": "ipython3",
   "version": "3.10.2"
  }
 },
 "nbformat": 4,
 "nbformat_minor": 5
}
