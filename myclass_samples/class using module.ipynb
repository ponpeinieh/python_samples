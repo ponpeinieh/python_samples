{
 "cells": [
  {
   "cell_type": "code",
   "execution_count": 2,
   "id": "ddd33325",
   "metadata": {},
   "outputs": [
    {
     "name": "stdout",
     "output_type": "stream",
     "text": [
      "make:Tesla, model:model x, year:2021, odometer:0\n",
      "battery size:10000\n",
      "This electric car has a 10000-kwh battery.\n",
      "This electric car does not need to have a gas tank.\n"
     ]
    }
   ],
   "source": [
    "import sys\n",
    "sys.path.append('python_modules')\n",
    "from car import Car\n",
    "\n",
    "class ElectricCar(Car):\n",
    "    def __init__(self, make,model,year, battery_size=10000):\n",
    "        #呼叫Car的建構子\n",
    "        super().__init__(make, model, year)\n",
    "        self.battery_size = battery_size\n",
    "    def describe_battery(self):\n",
    "        print(f'This electric car has a {self.battery_size}-kwh battery.')\n",
    "    #override\n",
    "    def describe_car(self):\n",
    "        super().describe_car()\n",
    "        print(f'battery size:{self.battery_size}')\n",
    "    def fill_gas_tank(self):\n",
    "        print(f'This electric car does not need to have a gas tank.')\n",
    "ec1 = ElectricCar('Tesla','model x', 2021)\n",
    "ec1.describe_car()\n",
    "ec1.describe_battery()\n",
    "ec1.fill_gas_tank()"
   ]
  }
 ],
 "metadata": {
  "kernelspec": {
   "display_name": "Python 3 (ipykernel)",
   "language": "python",
   "name": "python3"
  },
  "language_info": {
   "codemirror_mode": {
    "name": "ipython",
    "version": 3
   },
   "file_extension": ".py",
   "mimetype": "text/x-python",
   "name": "python",
   "nbconvert_exporter": "python",
   "pygments_lexer": "ipython3",
   "version": "3.10.5"
  }
 },
 "nbformat": 4,
 "nbformat_minor": 5
}
