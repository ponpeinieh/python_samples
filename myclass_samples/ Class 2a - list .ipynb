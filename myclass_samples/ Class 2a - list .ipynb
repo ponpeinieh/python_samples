{
 "cells": [
  {
   "cell_type": "code",
   "execution_count": null,
   "id": "47e0e97c",
   "metadata": {},
   "outputs": [],
   "source": [
    "# list(清單或列表)\n",
    "\n",
    "numbers = [10,20,30,40,50] # 5個整數(元素)\n",
    "numbers"
   ]
  },
  {
   "cell_type": "code",
   "execution_count": null,
   "id": "6e41e32a",
   "metadata": {},
   "outputs": [],
   "source": [
    "# 取得第一個元素\n",
    "numbers[0] # 索引值(index)"
   ]
  },
  {
   "cell_type": "code",
   "execution_count": null,
   "id": "b5c429e4",
   "metadata": {},
   "outputs": [],
   "source": [
    "numbers[1]"
   ]
  },
  {
   "cell_type": "code",
   "execution_count": null,
   "id": "1696f4f1",
   "metadata": {},
   "outputs": [],
   "source": [
    "#numbers[5]"
   ]
  },
  {
   "cell_type": "code",
   "execution_count": null,
   "id": "5cff3786",
   "metadata": {},
   "outputs": [],
   "source": [
    "numbers[4]"
   ]
  },
  {
   "cell_type": "code",
   "execution_count": null,
   "id": "71f18460",
   "metadata": {},
   "outputs": [],
   "source": [
    "numbers[-1]"
   ]
  },
  {
   "cell_type": "code",
   "execution_count": null,
   "id": "4c9d0733",
   "metadata": {},
   "outputs": [],
   "source": [
    "numbers[-2]"
   ]
  },
  {
   "cell_type": "code",
   "execution_count": null,
   "id": "7c2d6f78",
   "metadata": {},
   "outputs": [],
   "source": [
    "#取代\n",
    "numbers[0] = 1000\n",
    "numbers"
   ]
  },
  {
   "cell_type": "code",
   "execution_count": null,
   "id": "14ef0f0d",
   "metadata": {},
   "outputs": [],
   "source": [
    "numbers[-1] = 500\n",
    "numbers"
   ]
  },
  {
   "cell_type": "code",
   "execution_count": null,
   "id": "d7b4760b",
   "metadata": {},
   "outputs": [],
   "source": [
    "# 附加\n",
    "numbers.append(60)\n",
    "numbers"
   ]
  },
  {
   "cell_type": "code",
   "execution_count": null,
   "id": "4b4c7ed1",
   "metadata": {},
   "outputs": [],
   "source": [
    "numbers.insert(2, 25)\n",
    "numbers"
   ]
  },
  {
   "cell_type": "code",
   "execution_count": null,
   "id": "c064e664",
   "metadata": {},
   "outputs": [],
   "source": [
    "# list 字串作為元素\n",
    "colors = ['black','white','red','orange','blue']\n",
    "colors"
   ]
  },
  {
   "cell_type": "code",
   "execution_count": null,
   "id": "341078df",
   "metadata": {},
   "outputs": [],
   "source": [
    "colors[1]"
   ]
  },
  {
   "cell_type": "code",
   "execution_count": null,
   "id": "c6189a8b",
   "metadata": {},
   "outputs": [],
   "source": [
    "colors[-1]"
   ]
  },
  {
   "cell_type": "code",
   "execution_count": null,
   "id": "3f18104f",
   "metadata": {},
   "outputs": [],
   "source": [
    "#append\n",
    "colors.append('yellow')\n",
    "colors"
   ]
  },
  {
   "cell_type": "code",
   "execution_count": null,
   "id": "25950c6e",
   "metadata": {},
   "outputs": [],
   "source": [
    "#insert\n",
    "colors.insert(2,'purple')\n",
    "colors"
   ]
  },
  {
   "cell_type": "code",
   "execution_count": null,
   "id": "731b8afd",
   "metadata": {},
   "outputs": [],
   "source": [
    "# 移除 del\n",
    "del colors[3]\n",
    "colors"
   ]
  },
  {
   "cell_type": "code",
   "execution_count": null,
   "id": "a982657c",
   "metadata": {},
   "outputs": [],
   "source": [
    "#移除 pop()\n",
    "removed_item = colors.pop(4)\n",
    "print(f'剛剛被移除的元素為{removed_item}')"
   ]
  },
  {
   "cell_type": "code",
   "execution_count": null,
   "id": "2ea1c8c4",
   "metadata": {},
   "outputs": [],
   "source": [
    "removed_item2 = colors.pop() #移除最後一個\n",
    "colors\n"
   ]
  },
  {
   "cell_type": "code",
   "execution_count": null,
   "id": "57f84cf6",
   "metadata": {},
   "outputs": [],
   "source": [
    "removed_item2"
   ]
  },
  {
   "cell_type": "code",
   "execution_count": null,
   "id": "a6023de9",
   "metadata": {},
   "outputs": [],
   "source": [
    "# remove()\n",
    "colors.remove('purple')\n",
    "colors"
   ]
  },
  {
   "cell_type": "code",
   "execution_count": null,
   "id": "e17f11e1",
   "metadata": {},
   "outputs": [],
   "source": [
    "colors = ['black','white','red','orange','blue']\n",
    "colors"
   ]
  },
  {
   "cell_type": "code",
   "execution_count": null,
   "id": "166461bb",
   "metadata": {},
   "outputs": [],
   "source": [
    "#排序 sort , 按照自然順序(字母由小到大)\n",
    "colors.sort()\n",
    "colors"
   ]
  },
  {
   "cell_type": "code",
   "execution_count": null,
   "id": "1b02b2e7",
   "metadata": {},
   "outputs": [],
   "source": [
    "colors[3]='Red' #大寫在小寫前面\n",
    "colors.sort()\n",
    "colors"
   ]
  },
  {
   "cell_type": "code",
   "execution_count": null,
   "id": "14b2ad3b",
   "metadata": {},
   "outputs": [],
   "source": [
    "colors.sort(reverse=True) # reverse參數 = True\n",
    "colors"
   ]
  },
  {
   "cell_type": "code",
   "execution_count": null,
   "id": "adf66ee9",
   "metadata": {},
   "outputs": [],
   "source": [
    "numbers = [46,23,30,89,50] # 5個整數(元素)\n",
    "numbers.sort()\n",
    "numbers"
   ]
  },
  {
   "cell_type": "code",
   "execution_count": null,
   "id": "74548e99",
   "metadata": {},
   "outputs": [],
   "source": [
    "numbers.sort(reverse=True)\n",
    "numbers"
   ]
  },
  {
   "cell_type": "code",
   "execution_count": null,
   "id": "b1149089",
   "metadata": {},
   "outputs": [],
   "source": [
    "#sorted\n",
    "sorted_numbers = sorted(numbers)\n",
    "sorted_numbers"
   ]
  },
  {
   "cell_type": "code",
   "execution_count": null,
   "id": "407371ca",
   "metadata": {},
   "outputs": [],
   "source": [
    "numbers"
   ]
  },
  {
   "cell_type": "code",
   "execution_count": null,
   "id": "62651508",
   "metadata": {},
   "outputs": [],
   "source": [
    "reversed_numbers = sorted(numbers, reverse=True)\n",
    "reversed_numbers"
   ]
  },
  {
   "cell_type": "code",
   "execution_count": null,
   "id": "b5f1a52f",
   "metadata": {},
   "outputs": [],
   "source": [
    "#reverse()\n",
    "numbers = [46,23,30,89,50]\n",
    "numbers.reverse()\n",
    "numbers"
   ]
  }
 ],
 "metadata": {
  "kernelspec": {
   "display_name": "Python 3 (ipykernel)",
   "language": "python",
   "name": "python3"
  },
  "language_info": {
   "codemirror_mode": {
    "name": "ipython",
    "version": 3
   },
   "file_extension": ".py",
   "mimetype": "text/x-python",
   "name": "python",
   "nbconvert_exporter": "python",
   "pygments_lexer": "ipython3",
   "version": "3.10.2"
  }
 },
 "nbformat": 4,
 "nbformat_minor": 5
}
