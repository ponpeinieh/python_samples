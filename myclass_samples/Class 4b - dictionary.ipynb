{
 "cells": [
  {
   "cell_type": "code",
   "execution_count": 1,
   "id": "5406e63a",
   "metadata": {},
   "outputs": [
    {
     "name": "stdout",
     "output_type": "stream",
     "text": [
      "<class 'dict'>\n",
      "{'id': 101, 'color': 'black', 'score': 50}\n"
     ]
    }
   ],
   "source": [
    "# dict\n",
    "alien_1={'id':101, 'color':'black','score':50 }\n",
    "print(type(alien_1))\n",
    "print(alien_1)"
   ]
  },
  {
   "cell_type": "code",
   "execution_count": 2,
   "id": "18d54df7",
   "metadata": {},
   "outputs": [
    {
     "data": {
      "text/plain": [
       "'black'"
      ]
     },
     "execution_count": 2,
     "metadata": {},
     "output_type": "execute_result"
    }
   ],
   "source": [
    "# access \n",
    "alien_1['color']"
   ]
  },
  {
   "cell_type": "code",
   "execution_count": 3,
   "id": "c47533b9",
   "metadata": {},
   "outputs": [
    {
     "name": "stdout",
     "output_type": "stream",
     "text": [
      "{'id': 101, 'color': 'black', 'score': 100}\n",
      "{'id': 101, 'color': 'black', 'score': 100, 'type': 'evil'}\n"
     ]
    }
   ],
   "source": [
    "# modify\n",
    "alien_1['score']=100\n",
    "print(alien_1)\n",
    "# add a new pair\n",
    "alien_1['type']='evil'\n",
    "print(alien_1)"
   ]
  },
  {
   "cell_type": "code",
   "execution_count": 4,
   "id": "638d974f",
   "metadata": {},
   "outputs": [
    {
     "name": "stdout",
     "output_type": "stream",
     "text": [
      "{'id': 101, 'color': 'black', 'score': 100}\n"
     ]
    }
   ],
   "source": [
    "#del\n",
    "del alien_1['type']\n",
    "print(alien_1)"
   ]
  },
  {
   "cell_type": "code",
   "execution_count": 5,
   "id": "a3147a89",
   "metadata": {},
   "outputs": [
    {
     "data": {
      "text/plain": [
       "'black'"
      ]
     },
     "execution_count": 5,
     "metadata": {},
     "output_type": "execute_result"
    }
   ],
   "source": [
    "# get()\n",
    "alien_1.get('color')"
   ]
  },
  {
   "cell_type": "code",
   "execution_count": 6,
   "id": "38078fef",
   "metadata": {},
   "outputs": [
    {
     "name": "stdout",
     "output_type": "stream",
     "text": [
      "None\n"
     ]
    }
   ],
   "source": [
    "result = alien_1.get('color2')\n",
    "print(result)"
   ]
  },
  {
   "cell_type": "code",
   "execution_count": 7,
   "id": "fa24feb3",
   "metadata": {},
   "outputs": [
    {
     "name": "stdout",
     "output_type": "stream",
     "text": [
      "0\n"
     ]
    }
   ],
   "source": [
    "#alien_1['position_x'] = 100\n",
    "result = alien_1.get('position_x',0)\n",
    "print(result)"
   ]
  },
  {
   "cell_type": "code",
   "execution_count": 8,
   "id": "cde35c0c",
   "metadata": {},
   "outputs": [
    {
     "name": "stdout",
     "output_type": "stream",
     "text": [
      "{'id': 101, 'color': 'black', 'score': 100}\n"
     ]
    }
   ],
   "source": [
    "print(alien_1)"
   ]
  },
  {
   "cell_type": "code",
   "execution_count": 10,
   "id": "29c19197",
   "metadata": {},
   "outputs": [
    {
     "name": "stdout",
     "output_type": "stream",
     "text": [
      "python\n"
     ]
    }
   ],
   "source": [
    "favorite_languages = {'john':'python','steven':'c','helen':'java','tom':'javascript'}\n",
    "print(favorite_languages['john'])"
   ]
  },
  {
   "cell_type": "code",
   "execution_count": 11,
   "id": "a23496af",
   "metadata": {},
   "outputs": [
    {
     "name": "stdout",
     "output_type": "stream",
     "text": [
      "john : python\n",
      "steven : c\n",
      "helen : java\n",
      "tom : javascript\n"
     ]
    }
   ],
   "source": [
    "for item in favorite_languages.items(): # item is a tuple\n",
    "    print(f'{item[0]} : {item[1]}')"
   ]
  },
  {
   "cell_type": "code",
   "execution_count": 14,
   "id": "b806a0ce",
   "metadata": {},
   "outputs": [
    {
     "name": "stdout",
     "output_type": "stream",
     "text": [
      "john:python\n",
      "steven:c\n",
      "helen:java\n",
      "tom:javascript\n"
     ]
    }
   ],
   "source": [
    "for key,value in favorite_languages.items():\n",
    "    print(f'{key}:{value}')"
   ]
  },
  {
   "cell_type": "code",
   "execution_count": 15,
   "id": "625b7dbb",
   "metadata": {},
   "outputs": [
    {
     "name": "stdout",
     "output_type": "stream",
     "text": [
      "john:python\n",
      "steven:c\n",
      "helen:java\n",
      "tom:javascript\n"
     ]
    }
   ],
   "source": [
    "for key in favorite_languages:\n",
    "    print(f'{key}:{favorite_languages[key]}')\n",
    "    "
   ]
  },
  {
   "cell_type": "code",
   "execution_count": 16,
   "id": "906187d3",
   "metadata": {},
   "outputs": [
    {
     "name": "stdout",
     "output_type": "stream",
     "text": [
      "john:python\n",
      "steven:c\n",
      "helen:java\n",
      "tom:javascript\n"
     ]
    }
   ],
   "source": [
    "for key in favorite_languages.keys():\n",
    "    print(f'{key}:{favorite_languages[key]}')\n",
    "    "
   ]
  },
  {
   "cell_type": "code",
   "execution_count": 23,
   "id": "0280c21c",
   "metadata": {},
   "outputs": [
    {
     "name": "stdout",
     "output_type": "stream",
     "text": [
      "<class 'dict_keys'>\n"
     ]
    }
   ],
   "source": [
    " print(type(favorite_languages.keys()))"
   ]
  },
  {
   "cell_type": "code",
   "execution_count": 19,
   "id": "f2764141",
   "metadata": {},
   "outputs": [
    {
     "name": "stdout",
     "output_type": "stream",
     "text": [
      "helen:java\n",
      "john:python\n",
      "steven:c\n",
      "tom:javascript\n"
     ]
    }
   ],
   "source": [
    "for key in sorted(favorite_languages.keys()):\n",
    "    print(f'{key}:{favorite_languages[key]}')"
   ]
  },
  {
   "cell_type": "code",
   "execution_count": 20,
   "id": "25327b1c",
   "metadata": {},
   "outputs": [
    {
     "name": "stdout",
     "output_type": "stream",
     "text": [
      "value=python\n",
      "value=c\n",
      "value=java\n",
      "value=javascript\n"
     ]
    }
   ],
   "source": [
    "for value in favorite_languages.values():\n",
    "    print(f'value={value}')\n",
    "    "
   ]
  },
  {
   "cell_type": "code",
   "execution_count": 22,
   "id": "2a58946a",
   "metadata": {},
   "outputs": [
    {
     "name": "stdout",
     "output_type": "stream",
     "text": [
      "value=javascript\n",
      "value=java\n",
      "value=c\n",
      "value=python\n"
     ]
    }
   ],
   "source": [
    "favorite_languages = {'john':'python','steven':'c','helen':'java','tom':'javascript','kevin':'python'}\n",
    "for value in set(favorite_languages.values()):\n",
    "    print(f'value={value}')"
   ]
  },
  {
   "cell_type": "code",
   "execution_count": 4,
   "id": "ae8289df",
   "metadata": {},
   "outputs": [
    {
     "name": "stdout",
     "output_type": "stream",
     "text": [
      "Please enter a 0-9 integer:4\n",
      "Please enter a 0-9 integer:5\n",
      "Please enter a 0-9 integer:6\n",
      "Please enter a 0-9 integer:7\n",
      "Please enter a 0-9 integer:8\n",
      "Please enter a 0-9 integer:7\n",
      "Please enter a 0-9 integer:6\n",
      "Please enter a 0-9 integer:5\n",
      "Please enter a 0-9 integer:4\n",
      "Please enter a 0-9 integer:9\n",
      "{4, 5, 6, 7, 8, 9}\n"
     ]
    }
   ],
   "source": [
    "# 產生一個set\n",
    "values = set()\n",
    "for i in range(10):\n",
    "    values.add(int(input('Please enter a 0-9 integer:')))\n",
    "print(values)"
   ]
  },
  {
   "cell_type": "code",
   "execution_count": 8,
   "id": "695a2c74",
   "metadata": {},
   "outputs": [
    {
     "name": "stdout",
     "output_type": "stream",
     "text": [
      "black => 10\n",
      "red => 20\n",
      "blue => 30\n"
     ]
    }
   ],
   "source": [
    "#巢狀架構\n",
    "# list裡面包dict\n",
    "alien1={'id':10, 'color': 'black', 'score':10}\n",
    "alien2={'id':11, 'color': 'red', 'score':20}\n",
    "alien3={'id':12, 'color': 'blue', 'score':30}\n",
    "aliens_list = [alien1, alien2, alien3]\n",
    "for a in aliens_list:\n",
    "    print(f\"{a['color']} => {a['score']}\")"
   ]
  },
  {
   "cell_type": "code",
   "execution_count": 15,
   "id": "a8198529",
   "metadata": {},
   "outputs": [
    {
     "name": "stdout",
     "output_type": "stream",
     "text": [
      "(0, 'blue', 20, 47, 45)\n",
      "(1, 'blue', 20, 36, 92)\n",
      "(2, 'green', 30, 7, 97)\n",
      "(3, 'green', 30, 59, 25)\n",
      "(4, 'yellow', 40, 88, 47)\n",
      "(5, 'red', 10, 47, 31)\n",
      "(6, 'blue', 20, 77, 81)\n",
      "(7, 'red', 10, 95, 34)\n",
      "(8, 'yellow', 40, 57, 87)\n",
      "(9, 'yellow', 40, 82, 76)\n",
      "(10, 'yellow', 40, 4, 28)\n",
      "(11, 'red', 10, 61, 25)\n",
      "(12, 'red', 10, 83, 31)\n",
      "(13, 'red', 10, 12, 93)\n",
      "(14, 'yellow', 40, 23, 13)\n",
      "(15, 'yellow', 40, 91, 84)\n",
      "(16, 'yellow', 40, 23, 14)\n",
      "(17, 'blue', 20, 32, 32)\n",
      "(18, 'blue', 20, 14, 40)\n",
      "(19, 'yellow', 40, 51, 70)\n"
     ]
    }
   ],
   "source": [
    "import random\n",
    "color_list = ['red','blue','green', 'yellow']\n",
    "score_dict = {'red':10, 'blue':20, 'green':30, 'yellow':40}\n",
    "alien_list=[] \n",
    "for i in range(20):\n",
    "    color = color_list[random.randint(0,3)]\n",
    "    score = score_dict[color]\n",
    "    x_pos = random.randint(0,100)\n",
    "    y_pos = random.randint(0,100)\n",
    "    alien = {'id':i, 'color': color, 'score': score, 'x_pos':x_pos, 'y_pos':y_pos}\n",
    "    alien_list.append(alien)\n",
    "    id = id+1\n",
    "for a in alien_list:\n",
    "    print(f\"{a['id'] , a['color'], a['score'], a['x_pos'], a['y_pos']}\")"
   ]
  },
  {
   "cell_type": "code",
   "execution_count": 18,
   "id": "fb565ba8",
   "metadata": {},
   "outputs": [
    {
     "name": "stdout",
     "output_type": "stream",
     "text": [
      "['♠', '♡', '♢', '♣']\n"
     ]
    }
   ],
   "source": [
    "suits =[]\n",
    "suits.append(chr(0x2660))\n",
    "suits.append(chr(0x2661))\n",
    "suits.append(chr(0x2662))\n",
    "suits.append(chr(0x2663))\n",
    "print(suits)"
   ]
  },
  {
   "cell_type": "code",
   "execution_count": 25,
   "id": "615cca78",
   "metadata": {},
   "outputs": [
    {
     "name": "stdout",
     "output_type": "stream",
     "text": [
      "[0, 1, 2, 3, 4, 5, 6, 7, 8, 9, 10, 11, 12, 13, 14, 15, 16, 17, 18, 19, 20, 21, 22, 23, 24, 25, 26, 27, 28, 29, 30, 31, 32, 33, 34, 35, 36, 37, 38, 39, 40, 41, 42, 43, 44, 45, 46, 47, 48, 49, 50, 51]\n",
      "[25, 10, 49, 47, 19, 32, 18, 29, 46, 50, 0, 39, 7, 8, 15, 31, 14, 22, 3, 16, 2, 30, 4, 48, 40, 1, 33, 21, 27, 13, 17, 37, 51, 6, 34, 45, 44, 41, 42, 38, 12, 9, 36, 43, 23, 5, 20, 35, 26, 28, 24, 11]\n",
      "[42, 12, 23, 9, 39, 14, 21, 20, 30, 33, 37, 45, 7, 16, 0, 15, 18, 26, 28, 29, 24, 3, 19, 5, 47, 43, 22, 25, 4, 6, 27, 17, 11, 44, 41, 31, 49, 35, 10, 13, 32, 36, 50, 40, 34, 46, 2, 51, 1, 8, 48, 38]\n"
     ]
    }
   ],
   "source": [
    "card_ids = list(range(52))\n",
    "print(card_ids)\n",
    "for i in range(51,0,-1):\n",
    "    j = random.randint(0,i)\n",
    "    temp = card_ids[i]\n",
    "    card_ids[i] = card_ids[j]\n",
    "    card_ids[j]=temp\n",
    "print(card_ids)"
   ]
  },
  {
   "cell_type": "code",
   "execution_count": 28,
   "id": "a9e7e529",
   "metadata": {},
   "outputs": [
    {
     "name": "stdout",
     "output_type": "stream",
     "text": [
      " You have ordered a thin-crust pizza with the following toppings:salami,pineapple,corn\n",
      "salami,\n",
      "pineapple,\n",
      "corn,\n"
     ]
    }
   ],
   "source": [
    "# A dict contains lists\n",
    "pizza = {'crust':'thin', 'toppings':['salami','pineapple','corn']}\n",
    "print(f\" You have ordered a {pizza['crust']}-crust pizza with the following toppings:\")\n",
    "for topping in pizza['toppings']:\n",
    "    print(f\"{topping},\")"
   ]
  },
  {
   "cell_type": "code",
   "execution_count": 30,
   "id": "eb7aedcf",
   "metadata": {},
   "outputs": [
    {
     "name": "stdout",
     "output_type": "stream",
     "text": [
      " You have ordered a thin-crust pizza with the following toppings:salami-pineapple-corn\n"
     ]
    }
   ],
   "source": [
    "print(f\" You have ordered a {pizza['crust']}-crust pizza with the following toppings:{'-'.join(pizza['toppings'])}\")\n"
   ]
  },
  {
   "cell_type": "code",
   "execution_count": 38,
   "id": "b5c8ec3c",
   "metadata": {},
   "outputs": [
    {
     "name": "stdout",
     "output_type": "stream",
     "text": [
      "Jen's favorite languages are python,ruby\n",
      "Sarah's favorite language is c\n",
      "Edward's favorite languages are ruby,go\n",
      "Phil's favorite languages are python,haskell\n"
     ]
    }
   ],
   "source": [
    "favorite_languages = {\n",
    "    'jen': ['python', 'ruby'],\n",
    "    'sarah': ['c'],\n",
    "    'edward': ['ruby', 'go'],\n",
    "    'phil': ['python', 'haskell'],\n",
    "}\n",
    "for name, langs in favorite_languages.items():\n",
    "    print(f\"{name.title()}'s favorite {'languages are' if len(langs)>1 else 'language is'} {','.join(langs)}\")"
   ]
  },
  {
   "cell_type": "code",
   "execution_count": 46,
   "id": "edf6e8c3",
   "metadata": {},
   "outputs": [
    {
     "name": "stdout",
     "output_type": "stream",
     "text": [
      "aeinstein -> Albert Einstein\n",
      "mcurie -> Marie Curie\n"
     ]
    }
   ],
   "source": [
    "# dicts in dicts\n",
    "user1={'firstname':'albert','lastname':'einstein','university':'princeton'}\n",
    "user2={'firstname':'marie','lastname':'curie','university':'paris'}\n",
    "users_dict = {'aeinstein':user1, 'mcurie':user2}\n",
    "for id, user_info in users_dict.items():\n",
    "    print(f\"{id} -> {'{} {}'.format(user_info['firstname'],user_info['lastname']).title()}\")\n"
   ]
  }
 ],
 "metadata": {
  "kernelspec": {
   "display_name": "Python 3 (ipykernel)",
   "language": "python",
   "name": "python3"
  },
  "language_info": {
   "codemirror_mode": {
    "name": "ipython",
    "version": 3
   },
   "file_extension": ".py",
   "mimetype": "text/x-python",
   "name": "python",
   "nbconvert_exporter": "python",
   "pygments_lexer": "ipython3",
   "version": "3.10.5"
  }
 },
 "nbformat": 4,
 "nbformat_minor": 5
}
