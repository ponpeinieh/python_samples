{
 "cells": [
  {
   "cell_type": "code",
   "execution_count": 5,
   "id": "ebb711ad",
   "metadata": {},
   "outputs": [
    {
     "name": "stdout",
     "output_type": "stream",
     "text": [
      "請輸入您的訊息(\"quit\"結束):hello\n",
      "hello\n",
      "請輸入您的訊息(\"quit\"結束):quit\n",
      "quit\n"
     ]
    }
   ],
   "source": [
    "prompt = '請輸入您的訊息(\"quit\"結束):'\n",
    "message = ''\n",
    "# while迴圈\n",
    "while message!='quit':\n",
    "    message = input(prompt)\n",
    "    print(message)"
   ]
  },
  {
   "cell_type": "code",
   "execution_count": 6,
   "id": "40ada9a1",
   "metadata": {},
   "outputs": [
    {
     "name": "stdout",
     "output_type": "stream",
     "text": [
      "請輸入您的訊息(\"quit\"結束):hello\n",
      "hello\n",
      "請輸入您的訊息(\"quit\"結束):quit\n",
      "離開while迴圈\n"
     ]
    }
   ],
   "source": [
    "# 無窮迴圈\n",
    "message = ''\n",
    "while True:\n",
    "    message = input(prompt)\n",
    "    if message != 'quit':\n",
    "        print(message)\n",
    "    else:\n",
    "        break\n",
    "print('離開while迴圈')"
   ]
  },
  {
   "cell_type": "code",
   "execution_count": null,
   "id": "aaa0de71",
   "metadata": {},
   "outputs": [],
   "source": [
    "#計算 1+3+5...+99\n",
    "number = 1\n",
    "sum = 0\n",
    "while number<100:\n",
    "    sum+=number\n",
    "    if number==99:\n",
    "        print(number, end='')\n",
    "    else:\n",
    "        print(number,end='+')\n",
    "    \n",
    "    number+=2\n",
    "    \n",
    "print(f\"={sum}\")\n",
    "    "
   ]
  },
  {
   "cell_type": "code",
   "execution_count": null,
   "id": "bc1ade52",
   "metadata": {},
   "outputs": [],
   "source": [
    "number = 1\n",
    "sum =0\n",
    "while number<=100:\n",
    "    if number%2 ==0:\n",
    "        number+=1\n",
    "        continue\n",
    "    sum +=number\n",
    "    print(number,end='+')\n",
    "    number+=1\n",
    "print(f\"={sum}\")\n",
    "    `"
   ]
  },
  {
   "cell_type": "markdown",
   "id": "b6910f9f",
   "metadata": {},
   "source": [
    "### 練習: Pizza Toppings\n",
    "1. 利用迴圈, 讓使用者輸入pizza toppings, 直到輸入'quit'就停止\n",
    "2. 列印所加入的toppings"
   ]
  },
  {
   "cell_type": "code",
   "execution_count": 4,
   "id": "46eb5e7d",
   "metadata": {},
   "outputs": [
    {
     "name": "stdout",
     "output_type": "stream",
     "text": [
      "請輸入您的toppings(\"quit\"結束):cheese\n",
      "請輸入您的toppings(\"quit\"結束):corn\n",
      "請輸入您的toppings(\"quit\"結束):quit\n",
      "['cheese', 'corn']\n"
     ]
    }
   ],
   "source": [
    "prompt = '請輸入您的toppings(\"quit\"結束):'\n",
    "toppings=[] \n",
    "while (topping := input(prompt)) !='quit':\n",
    "    toppings.append(topping)\n",
    "print(toppings)"
   ]
  },
  {
   "cell_type": "code",
   "execution_count": 7,
   "id": "d7af2992",
   "metadata": {},
   "outputs": [
    {
     "name": "stdout",
     "output_type": "stream",
     "text": [
      "3.10.3 (tags/v3.10.3:a342a49, Mar 16 2022, 13:07:40) [MSC v.1929 64 bit (AMD64)]\n"
     ]
    }
   ],
   "source": [
    "import sys\n",
    "print(sys.version)"
   ]
  },
  {
   "cell_type": "code",
   "execution_count": 8,
   "id": "223f412a",
   "metadata": {},
   "outputs": [
    {
     "name": "stdout",
     "output_type": "stream",
     "text": [
      "Johnson您好,您可以開始發表文章!\n",
      "Steven您好,您可以開始發表文章!\n",
      "Vicky您好,您可以開始發表文章!\n",
      "Eddie您好,您可以開始發表文章!\n",
      "['Johnson', 'Steven', 'Vicky', 'Eddie']\n",
      "[]\n"
     ]
    }
   ],
   "source": [
    "unconfirm_users = ['Eddie','Vicky','Steven','Johnson'] #未確認名單\n",
    "confirm_users = [] #確認名單\n",
    "while unconfirm_users:\n",
    "    user = unconfirm_users.pop()\n",
    "    confirm_users.append(user)\n",
    "    print(f\"{user}您好,您可以開始發表文章!\")\n",
    "print(confirm_users)\n",
    "print(unconfirm_users)"
   ]
  },
  {
   "cell_type": "code",
   "execution_count": 9,
   "id": "0d4d2e1d",
   "metadata": {},
   "outputs": [
    {
     "name": "stdout",
     "output_type": "stream",
     "text": [
      "['dog', 'fish', 'mice', 'elephant', 'rabbit']\n"
     ]
    }
   ],
   "source": [
    "#移除重複的元素\n",
    "pets = ['cat','dog','fish','cat','mice','elephant','cat','rabbit']\n",
    "while 'cat' in pets:\n",
    "    pets.remove('cat')\n",
    "print(pets)\n",
    "    "
   ]
  },
  {
   "cell_type": "code",
   "execution_count": 13,
   "id": "b3ee0789",
   "metadata": {},
   "outputs": [
    {
     "name": "stdout",
     "output_type": "stream",
     "text": [
      "[0, 3, 6]\n",
      "['dog', 'fish', 'mice', 'elephant', 'rabbit']\n"
     ]
    }
   ],
   "source": [
    "pets = ['cat','dog','fish','cat','mice','elephant','cat','rabbit']\n",
    "cat_indices=[]\n",
    "for index, item in enumerate(pets):\n",
    "    #rint(f\"{index} {item}\")\n",
    "    if item=='cat':\n",
    "        cat_indices.append(index)\n",
    "print(cat_indices)\n",
    "cat_indices.reverse()\n",
    "for n in cat_indices:\n",
    "    del pets[n]\n",
    "print(pets)"
   ]
  },
  {
   "cell_type": "code",
   "execution_count": 15,
   "id": "4c2e8ace",
   "metadata": {},
   "outputs": [],
   "source": [
    "#亂數產生100000個1-100的數字\n",
    "import random\n",
    "numbers = random.choices(list(range(1,101)), k=100000)\n",
    "#print(numbers)"
   ]
  },
  {
   "cell_type": "code",
   "execution_count": 16,
   "id": "6c82810a",
   "metadata": {},
   "outputs": [
    {
     "name": "stdout",
     "output_type": "stream",
     "text": [
      "1.611048936843872\n"
     ]
    }
   ],
   "source": [
    "import time #模組名稱\n",
    "start_time = time.time()\n",
    "while 1 in numbers:\n",
    "    numbers.remove(1)\n",
    "end_time = time.time()\n",
    "print(end_time-start_time)"
   ]
  },
  {
   "cell_type": "code",
   "execution_count": 17,
   "id": "c74ed027",
   "metadata": {},
   "outputs": [
    {
     "name": "stdout",
     "output_type": "stream",
     "text": [
      "0.03899836540222168\n"
     ]
    }
   ],
   "source": [
    "numbers = random.choices(list(range(1,101)), k=100000)\n",
    "start_time = time.time()\n",
    "one_indices=[]\n",
    "for index, item in enumerate(numbers):\n",
    "    if item==1:\n",
    "        one_indices.append(index)\n",
    "one_indices.reverse()\n",
    "for n in one_indices:\n",
    "    del numbers[n]\n",
    "end_time = time.time()\n",
    "print(end_time-start_time)"
   ]
  },
  {
   "cell_type": "code",
   "execution_count": 18,
   "id": "037a3363",
   "metadata": {},
   "outputs": [
    {
     "name": "stdout",
     "output_type": "stream",
     "text": [
      "0.01999974250793457\n"
     ]
    }
   ],
   "source": [
    "numbers = random.choices(list(range(1,101)), k=100000)\n",
    "start_time = time.time()\n",
    "no_one_indices=[]\n",
    "for item in numbers:\n",
    "    if item!=1:\n",
    "        no_one_indices.append(item)\n",
    "end_time = time.time()\n",
    "print(end_time-start_time)"
   ]
  }
 ],
 "metadata": {
  "kernelspec": {
   "display_name": "Python 3 (ipykernel)",
   "language": "python",
   "name": "python3"
  },
  "language_info": {
   "codemirror_mode": {
    "name": "ipython",
    "version": 3
   },
   "file_extension": ".py",
   "mimetype": "text/x-python",
   "name": "python",
   "nbconvert_exporter": "python",
   "pygments_lexer": "ipython3",
   "version": "3.10.3"
  }
 },
 "nbformat": 4,
 "nbformat_minor": 5
}
