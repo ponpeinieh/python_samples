{
 "cells": [
  {
   "cell_type": "code",
   "execution_count": null,
   "id": "3791f5e1",
   "metadata": {},
   "outputs": [],
   "source": [
    "# file read\n",
    "with open('pi_digits.txt') as file_object:\n",
    "    # read\n",
    "    contents = file_object.read()\n",
    "print(contents)"
   ]
  },
  {
   "cell_type": "code",
   "execution_count": null,
   "id": "a1428156",
   "metadata": {},
   "outputs": [],
   "source": [
    "with open('pi_digits.txt') as file_object:\n",
    "    while True:\n",
    "        contents = file_object.read(5) # 當讀到最後面,會回傳'' \n",
    "        if contents:\n",
    "            print(contents,end='')\n",
    "        else:\n",
    "            break\n"
   ]
  },
  {
   "cell_type": "code",
   "execution_count": null,
   "id": "25cd7c18",
   "metadata": {},
   "outputs": [],
   "source": [
    "# use walrus operator\n",
    "with open('pi_digits.txt') as file_object:\n",
    "    whil contents:=file_object.read(5):\n",
    "        print(contents,end='')    "
   ]
  },
  {
   "cell_type": "code",
   "execution_count": null,
   "id": "f59dd463",
   "metadata": {},
   "outputs": [],
   "source": [
    "# list comprehension (理解式)\n",
    "nums = list(range(1,11))\n",
    "results = [n**2 for n in nums]\n",
    "print(results)"
   ]
  },
  {
   "cell_type": "code",
   "execution_count": null,
   "id": "f938d351",
   "metadata": {},
   "outputs": [],
   "source": [
    "def test(x):\n",
    "    return 10*x+1\n",
    "result = [y:=test(5), y**2, y**3]\n",
    "print(result)"
   ]
  },
  {
   "cell_type": "code",
   "execution_count": null,
   "id": "58df82ab",
   "metadata": {},
   "outputs": [],
   "source": [
    "with open('pi_digits.txt') as file_object:\n",
    "    for line in file_object:\n",
    "        print(line,end='')"
   ]
  },
  {
   "cell_type": "code",
   "execution_count": null,
   "id": "5c71e0a3",
   "metadata": {},
   "outputs": [],
   "source": [
    "with open('pi_digits.txt','r') as file_object: # 'r': read mode\n",
    "    lines = list(file_object)\n",
    "for line in lines:\n",
    "    print(line,end='')"
   ]
  },
  {
   "cell_type": "code",
   "execution_count": null,
   "id": "eb66c526",
   "metadata": {},
   "outputs": [],
   "source": [
    "with open('output.txt','w') as file_object: # 'w': write mode\n",
    "    #file_object.write('Python programming is fun!')\n",
    "    t_data = (20,40,60) #tuple\n",
    "    file_object.write(str(t_data))"
   ]
  },
  {
   "cell_type": "code",
   "execution_count": null,
   "id": "870ceb23",
   "metadata": {},
   "outputs": [],
   "source": [
    "# open file with write and read\n",
    "with open('output.txt','w+') as file_object: # w+ 代表 write+read\n",
    "    file_object.write('世界大同!\\n')\n",
    "    file_object.seek(0) #回到檔案最前面的位置\n",
    "    #contents = file_object.read()\n",
    "    file_object.write('四海一家!\\n')\n"
   ]
  },
  {
   "cell_type": "code",
   "execution_count": null,
   "id": "ade3db62",
   "metadata": {},
   "outputs": [],
   "source": [
    "# file append (附加)\n",
    "with open('output.txt','a') as file_object:\n",
    "    file_object.write('Python programming is fun!\\n')\n",
    "    file_object.write('Python programming is fun!\\n')\n",
    "    file_object.write('Python programming is fun!\\n')"
   ]
  },
  {
   "cell_type": "code",
   "execution_count": null,
   "id": "e74d1806",
   "metadata": {},
   "outputs": [],
   "source": [
    "# create a dict\n",
    "import json\n",
    "student = {'id':101, 'name':'John', 'age':20, 'gender':'M'}\n",
    "with open('myfile.json', 'w') as json_file:\n",
    "    json.dump(student, json_file)\n"
   ]
  }
 ],
 "metadata": {
  "kernelspec": {
   "display_name": "Python 3 (ipykernel)",
   "language": "python",
   "name": "python3"
  },
  "language_info": {
   "codemirror_mode": {
    "name": "ipython",
    "version": 3
   },
   "file_extension": ".py",
   "mimetype": "text/x-python",
   "name": "python",
   "nbconvert_exporter": "python",
   "pygments_lexer": "ipython3",
   "version": "3.10.2"
  }
 },
 "nbformat": 4,
 "nbformat_minor": 5
}
