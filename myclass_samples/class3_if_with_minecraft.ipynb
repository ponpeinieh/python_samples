{
 "cells": [
  {
   "cell_type": "code",
   "execution_count": null,
   "id": "e1c7e647-9c0a-44b5-9b8b-cfed4c08cc72",
   "metadata": {},
   "outputs": [],
   "source": [
    "your_mob = input('Enter your mob:')\n",
    "if your_mob == 'dog':\n",
    "    print('bone')\n",
    "elif your_mob == 'cat':\n",
    "    print('tuna')\n",
    "#omit some mobs\n",
    "elif your_mob == 'sheep':\n",
    "    print('wheat')\n",
    "else:\n",
    "    print('The mob is not in the list')"
   ]
  },
  {
   "cell_type": "code",
   "execution_count": null,
   "id": "72aa4f77-8915-4043-91e6-730b901ef67b",
   "metadata": {},
   "outputs": [],
   "source": [
    "mobs = ['dog', 'cat', 'fox', 'chicken', 'pig', 'panda', 'parrot', 'cow', 'sheep']\n",
    "items = ['bone', 'tuna', 'strawberry', 'seed', 'carrot', 'bamboo', 'seed', 'wheat', 'wheat']"
   ]
  },
  {
   "cell_type": "code",
   "execution_count": null,
   "id": "427eea22-2b3c-4b99-aeea-0982d5622d85",
   "metadata": {},
   "outputs": [],
   "source": [
    "mobs =[]\n",
    "items=[]\n",
    "for n in range(9):\n",
    "    mob = input('Mob:')\n",
    "    item = input('Item:')\n",
    "    mobs.append(mob)\n",
    "    items.append(item)"
   ]
  },
  {
   "cell_type": "code",
   "execution_count": null,
   "id": "dcf0a72b-d68a-44c0-92bf-b2bf8ee5564a",
   "metadata": {},
   "outputs": [],
   "source": [
    "your_mob = input('Enter your mob:')\n",
    "if your_mob in mobs:\n",
    "    i = mobs.index(your_mob) # get the index of element \n",
    "    print(items[i])"
   ]
  },
  {
   "cell_type": "markdown",
   "id": "85ea1380-d558-497c-a12c-c5bd1ebd6d48",
   "metadata": {},
   "source": [
    "### mob vs hearts\n",
    "- Bee : 5 hearts\n",
    "- Enderman: 20 hearts\n",
    "- Piglin : 8 hearts\n",
    "- Creeper : 10 hearts\n",
    "- Spider : 8 hearts\n",
    "- Chicken : 2 hearts\n",
    "- Cow : 5 hearts\n",
    "- SnowGolem : 2 hearts\n",
    "- Warden : 40 hearts\n",
    "- Villager: 10\n",
    "- Llama : 10\n",
    "- Ghast : 5\n",
    "- Phantom : 10"
   ]
  },
  {
   "cell_type": "code",
   "execution_count": null,
   "id": "bd1bfe03-9838-43f4-992a-5483d340d4c9",
   "metadata": {},
   "outputs": [],
   "source": [
    "mobs = []\n",
    "hearts = []"
   ]
  },
  {
   "cell_type": "code",
   "execution_count": null,
   "id": "e48e81ee-c733-4404-a3fa-f260e92c920f",
   "metadata": {},
   "outputs": [],
   "source": [
    "your_mob = input('Enter your mob:')\n",
    "if your_mob in mobs:\n",
    "    i = mobs.index(your_mob) \n",
    "    print(f'{hearts[i]} hearts!')\n",
    "else:\n",
    "    heart = int(input('Enter number of hearts:'))\n",
    "    mobs.append(your_mob)\n",
    "    hearts.append(heart)\n",
    "    print(mobs)\n",
    "    print(hearts)"
   ]
  },
  {
   "cell_type": "code",
   "execution_count": null,
   "id": "514348c2-39c6-43cb-b14a-434ffc4b5c2b",
   "metadata": {},
   "outputs": [],
   "source": [
    "your_mob = input('Enter your mob:')\n",
    "if your_mob not in mobs:\n",
    "    heart = int(input('Enter number of hearts:'))\n",
    "    mobs.append(your_mob)\n",
    "    hearts.append(heart)\n",
    "    print(mobs)\n",
    "    print(hearts)\n",
    "else:\n",
    "    #remove it if it exists in the list\n",
    "    i = mobs.index(your_mob) \n",
    "    del mobs[i]\n",
    "    del hearts[i]\n",
    "    print(mobs)\n",
    "    print(hearts)"
   ]
  }
 ],
 "metadata": {
  "kernelspec": {
   "display_name": "Python 3 (ipykernel)",
   "language": "python",
   "name": "python3"
  },
  "language_info": {
   "codemirror_mode": {
    "name": "ipython",
    "version": 3
   },
   "file_extension": ".py",
   "mimetype": "text/x-python",
   "name": "python",
   "nbconvert_exporter": "python",
   "pygments_lexer": "ipython3",
   "version": "3.11.4"
  }
 },
 "nbformat": 4,
 "nbformat_minor": 5
}
