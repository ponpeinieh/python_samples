{
 "cells": [
  {
   "cell_type": "code",
   "execution_count": 1,
   "id": "0f96d2dc",
   "metadata": {},
   "outputs": [],
   "source": [
    "# Dog 類別\n",
    "class Dog:\n",
    "    #建構子\n",
    "    def __init__(self, name, age):\n",
    "        self.name = name\n",
    "        self.age=age\n",
    "    def sit(self, period):\n",
    "        print(f'{self.name} is now sitting for {period} minutes');\n",
    "    def roll_over(self):\n",
    "        print(f'{self.name} is rolling over...')\n"
   ]
  },
  {
   "cell_type": "code",
   "execution_count": 2,
   "id": "e080d02e",
   "metadata": {},
   "outputs": [
    {
     "name": "stdout",
     "output_type": "stream",
     "text": [
      "William is now sitting for 30 minutes\n",
      "Luc is now sitting for 50 minutes\n"
     ]
    }
   ],
   "source": [
    "#產生物件\n",
    "my_dog = Dog('William',5)\n",
    "your_dog = Dog('Luc',3)\n",
    "my_dog.sit(30)\n",
    "your_dog.sit(50)"
   ]
  },
  {
   "cell_type": "code",
   "execution_count": 3,
   "id": "d20c9cf5",
   "metadata": {},
   "outputs": [
    {
     "data": {
      "text/plain": [
       "5"
      ]
     },
     "execution_count": 3,
     "metadata": {},
     "output_type": "execute_result"
    }
   ],
   "source": [
    "my_dog.age"
   ]
  },
  {
   "cell_type": "code",
   "execution_count": 4,
   "id": "c5ed17f9",
   "metadata": {},
   "outputs": [
    {
     "name": "stdout",
     "output_type": "stream",
     "text": [
      "10\n"
     ]
    }
   ],
   "source": [
    "my_dog.age = 10\n",
    "print(my_dog.age)"
   ]
  },
  {
   "cell_type": "code",
   "execution_count": 15,
   "id": "84162c2a",
   "metadata": {},
   "outputs": [
    {
     "name": "stdout",
     "output_type": "stream",
     "text": [
      "make:Honda, model:Civic, year:2000, odometer:0\n",
      "make:Honda, model:Civic, year:2000, odometer:1000\n"
     ]
    }
   ],
   "source": [
    "# Car類別 : parent class\n",
    "class Car:\n",
    "    def __init__(self, make, model, year):\n",
    "        self.make = make\n",
    "        self.model=model\n",
    "        self.year=year\n",
    "        self.odometer = 0 # default value\n",
    "    def describe_car(self):\n",
    "        print(f'make:{self.make}, model:{self.model}, year:{self.year}, odometer:{self.odometer}')\n",
    "    def read_odometer(self):\n",
    "        print(f'This car has {self.odometer} miles on it')\n",
    "    def update_odometer(self, mileage):\n",
    "        if mileage>=0 :\n",
    "            self.odometer+=mileage\n",
    "        else:\n",
    "            print('You can not roll back an odometer')\n",
    "    def fill_gas_tank(self, volume):\n",
    "        print(f'This car is filling {volume}-litre of gas!')\n",
    "        \n",
    "c1 = Car('Honda','Civic',2000)\n",
    "c1.describe_car()\n",
    "c1.update_odometer(1000)\n",
    "c1.describe_car()"
   ]
  },
  {
   "cell_type": "code",
   "execution_count": 20,
   "id": "9acdf9c8",
   "metadata": {},
   "outputs": [
    {
     "name": "stdout",
     "output_type": "stream",
     "text": [
      "make:Tesla, model:model x, year:2021, odometer:0\n",
      "battery size:10000\n",
      "This electric car has a 10000-kwh battery.\n",
      "This electric car does not need to have a gas tank.\n"
     ]
    }
   ],
   "source": [
    "# ElectricCar: child class\n",
    "class ElectricCar(Car):\n",
    "    def __init__(self, make,model,year, battery_size=10000):\n",
    "        #呼叫Car的建構子\n",
    "        super().__init__(make, model, year)\n",
    "        self.battery_size = battery_size\n",
    "    def describe_battery(self):\n",
    "        print(f'This electric car has a {self.battery_size}-kwh battery.')\n",
    "    #override\n",
    "    def describe_car(self):\n",
    "        super().describe_car()\n",
    "        print(f'battery size:{self.battery_size}')\n",
    "    def fill_gas_tank(self):\n",
    "        print(f'This electric car does not need to have a gas tank.')\n",
    "ec1 = ElectricCar('Tesla','model x', 2021)\n",
    "ec1.describe_car()\n",
    "ec1.describe_battery()\n",
    "ec1.fill_gas_tank()"
   ]
  }
 ],
 "metadata": {
  "kernelspec": {
   "display_name": "Python 3 (ipykernel)",
   "language": "python",
   "name": "python3"
  },
  "language_info": {
   "codemirror_mode": {
    "name": "ipython",
    "version": 3
   },
   "file_extension": ".py",
   "mimetype": "text/x-python",
   "name": "python",
   "nbconvert_exporter": "python",
   "pygments_lexer": "ipython3",
   "version": "3.10.5"
  }
 },
 "nbformat": 4,
 "nbformat_minor": 5
}
