{
 "cells": [
  {
   "cell_type": "markdown",
   "id": "1c07b12d",
   "metadata": {},
   "source": [
    "### Ice Cream Stand(冰淇淋店):\n",
    "- An ice cream stand is a specific kind of restaurant(餐廳的子類別).\n",
    "- Write a class called IceCreamStand that inherits from the Restaurant class from above.\n",
    "- Add an attribute called flavors（冰淇淋口味的一個屬性） that stores a list of ice cream flavors.\n",
    "- Write a method that displays these flavors（列印口味的一個方法）.\n",
    "- Create an instance of IceCreamStand, and call this method."
   ]
  },
  {
   "cell_type": "code",
   "execution_count": null,
   "id": "2f55c0e1",
   "metadata": {},
   "outputs": [],
   "source": [
    "class Restaurant:\n",
    "    def __init__(self, restaurant_name, cruisine_type):\n",
    "        self.restaurant_name = restaurant_name\n",
    "        self.cruisine_type = cruisine_type\n",
    "    def describe_restaurant(self):\n",
    "        print(f'The restaurant name is {self.restaurant_name}, and it is a {self.cruisine_type}-styled restaurant.')\n",
    "    def open_restaurant(self):\n",
    "        print(f'The restaurant is open right now!')\n",
    "# create object\n",
    "r = Restaurant('The Sixth Door','Chinese')\n",
    "print(f'restaurant name : {r.restaurant_name}')\n",
    "print(f'cruisine type : {r.cruisine_type}')\n",
    "r.describe_restaurant()\n",
    "r.open_restaurant()"
   ]
  },
  {
   "cell_type": "code",
   "execution_count": null,
   "id": "89189b77",
   "metadata": {},
   "outputs": [],
   "source": [
    " class IceCreamStand(Restaurant):\n",
    "    def __init__(self, restaurant_name, cruisine_type, flavors):\n",
    "        super().__init__(restaurant_name, cruisine_type)\n",
    "        self.flavors = flavors\n",
    "    def display_flavors(self):\n",
    "        print(f'Below are the flavors we are offering:')\n",
    "        for f in self.flavors:\n",
    "            print(f'{f.title()}')\n",
    "stand = IceCreamStand('MyIceCreamShop','Desserts',['chocolate','vanilla','mint','strawberry'])\n",
    "stand.describe_restaurant()\n",
    "stand.display_flavors()"
   ]
  }
 ],
 "metadata": {
  "kernelspec": {
   "display_name": "Python 3 (ipykernel)",
   "language": "python",
   "name": "python3"
  },
  "language_info": {
   "codemirror_mode": {
    "name": "ipython",
    "version": 3
   },
   "file_extension": ".py",
   "mimetype": "text/x-python",
   "name": "python",
   "nbconvert_exporter": "python",
   "pygments_lexer": "ipython3",
   "version": "3.10.2"
  }
 },
 "nbformat": 4,
 "nbformat_minor": 5
}
