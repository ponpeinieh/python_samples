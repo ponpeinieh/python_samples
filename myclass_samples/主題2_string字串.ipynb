{
 "cells": [
  {
   "cell_type": "code",
   "execution_count": null,
   "id": "ca254712",
   "metadata": {},
   "outputs": [],
   "source": [
    "message = 'Hello world!'\n",
    "name = \"Allen Huang\"\n",
    "print(f\"訊息:{message}, 名字:{name}\")"
   ]
  },
  {
   "cell_type": "code",
   "execution_count": null,
   "id": "9673b2e0",
   "metadata": {},
   "outputs": [],
   "source": [
    "print(f\"{message} {name}\")"
   ]
  },
  {
   "cell_type": "code",
   "execution_count": null,
   "id": "e1c67779",
   "metadata": {},
   "outputs": [],
   "source": [
    "message2 = message.upper()\n",
    "print(message2)"
   ]
  },
  {
   "cell_type": "code",
   "execution_count": null,
   "id": "e6d162dc",
   "metadata": {},
   "outputs": [],
   "source": [
    "name2 = name.lower()\n",
    "print(name2)"
   ]
  },
  {
   "cell_type": "code",
   "execution_count": null,
   "id": "3d4460c1",
   "metadata": {},
   "outputs": [],
   "source": [
    "name3 = name2.title()\n",
    "print(name3)"
   ]
  },
  {
   "cell_type": "code",
   "execution_count": null,
   "id": "8f135aa4",
   "metadata": {},
   "outputs": [],
   "source": [
    "message3='   welcome to python world     '\n",
    "print(f\"去掉前面的空白:{message3.lstrip()}\")\n",
    "print(f\"去掉後面的空白:{message3.rstrip()}\")\n",
    "print(f\"去掉前後的空白:{message3.strip()}\")"
   ]
  },
  {
   "cell_type": "code",
   "execution_count": null,
   "id": "06c2e083",
   "metadata": {},
   "outputs": [],
   "source": [
    "numbers = \"100 200 300\"\n",
    "print(f\"拆解出來的數字:{numbers.split()}\")"
   ]
  }
 ],
 "metadata": {
  "kernelspec": {
   "display_name": "Python 3 (ipykernel)",
   "language": "python",
   "name": "python3"
  },
  "language_info": {
   "codemirror_mode": {
    "name": "ipython",
    "version": 3
   },
   "file_extension": ".py",
   "mimetype": "text/x-python",
   "name": "python",
   "nbconvert_exporter": "python",
   "pygments_lexer": "ipython3",
   "version": "3.11.4"
  }
 },
 "nbformat": 4,
 "nbformat_minor": 5
}
