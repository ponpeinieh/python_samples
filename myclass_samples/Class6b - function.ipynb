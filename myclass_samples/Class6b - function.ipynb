{
 "cells": [
  {
   "cell_type": "code",
   "execution_count": null,
   "id": "b8eac347",
   "metadata": {},
   "outputs": [],
   "source": [
    "# function 函數\n",
    "# def : define(定義)\n",
    "def square(x):\n",
    "    '''square函數: 可以用來計算數字的平方\n",
    "    \n",
    "    參數: 一個數字\n",
    "    \n",
    "    回傳結果: 一個數字\n",
    "    '''\n",
    "    result = x**2\n",
    "    return result # return 回傳結果"
   ]
  },
  {
   "cell_type": "code",
   "execution_count": null,
   "id": "bbdcdfaf",
   "metadata": {},
   "outputs": [],
   "source": [
    "#呼叫square()\n",
    "a = 100\n",
    "b = square(a)\n",
    "print(b)\n",
    "c = square(50)\n",
    "print(c)"
   ]
  },
  {
   "cell_type": "code",
   "execution_count": null,
   "id": "cea3983f",
   "metadata": {},
   "outputs": [],
   "source": [
    "def greet_user(): #沒有參數\n",
    "    print('Hello!')\n",
    "greet_user()"
   ]
  },
  {
   "cell_type": "code",
   "execution_count": null,
   "id": "945277d6",
   "metadata": {},
   "outputs": [],
   "source": [
    "#程式function的文字註解(documentation)\n",
    "print(square.__doc__)"
   ]
  },
  {
   "cell_type": "code",
   "execution_count": null,
   "id": "405463b8",
   "metadata": {},
   "outputs": [],
   "source": [
    "print(print.__doc__)"
   ]
  },
  {
   "cell_type": "code",
   "execution_count": null,
   "id": "aa8020db",
   "metadata": {},
   "outputs": [],
   "source": [
    "#參數(parameter vs argument)\n",
    "def greet_user_2(username):\n",
    "    print(f\"Hello, {username}\")\n",
    "\n",
    "greet_user_2('John')\n"
   ]
  },
  {
   "cell_type": "code",
   "execution_count": null,
   "id": "dd69b62f",
   "metadata": {},
   "outputs": [],
   "source": [
    "def greet_user_3(message, username):\n",
    "    print(f'{message}, {username}')\n",
    "\n",
    "#傳入位置參數(positional arguments)    \n",
    "greet_user_3('Hello','Tom') #注意個數, 順序"
   ]
  },
  {
   "cell_type": "code",
   "execution_count": null,
   "id": "7bc7d075",
   "metadata": {},
   "outputs": [],
   "source": [
    "#傳入關鍵字參數(keyword arguments)\n",
    "greet_user_3(message=\"Good day\", username=\"Steve\")"
   ]
  },
  {
   "cell_type": "code",
   "execution_count": null,
   "id": "d2487598",
   "metadata": {},
   "outputs": [],
   "source": [
    "greet_user_3(username='Billy', message='Good bye')"
   ]
  },
  {
   "cell_type": "markdown",
   "id": "7743aa85",
   "metadata": {},
   "source": [
    "### 練習: T-shirt\n",
    "- 定義一個make_shirt()函數, 接受兩個參數: size(代表Shirt尺寸), text_to_print(列印在Shirt上的文字)\n",
    "- 函數中列印size及text_to_print\n",
    "- 呼叫這個函數, 傳入positional arguments\n",
    "- 呼叫這個函數, 傳入keyword arguments"
   ]
  },
  {
   "cell_type": "code",
   "execution_count": null,
   "id": "0ed97670",
   "metadata": {},
   "outputs": [],
   "source": [
    "#python 函數參數可以指定預設值\n",
    "def greet_user_4 ( username , message='Hello'):\n",
    "    print(f\"{message},{username}\")\n",
    "\n",
    "greet_user_4('Peter','Good evening')\n",
    "    "
   ]
  },
  {
   "cell_type": "code",
   "execution_count": null,
   "id": "adda1404",
   "metadata": {},
   "outputs": [],
   "source": [
    "greet_user_4('Peter')"
   ]
  },
  {
   "cell_type": "markdown",
   "id": "11ca257c",
   "metadata": {},
   "source": [
    "### 練習: Large shirt\n",
    "- 如上面練習, 但是以'large'爲size參數的預設值, 'I code Python!'爲text_to_print的預設值\n",
    "- 以下方式呼叫該函數:\n",
    "- Large Shirt, 預設訊息\n",
    "- Medium Shirt, 預設訊息\n",
    "- Small Shirt, \"I use Jupyter Notebook too!\""
   ]
  },
  {
   "cell_type": "code",
   "execution_count": null,
   "id": "ac278d9d",
   "metadata": {},
   "outputs": [],
   "source": [
    "# return 回傳結果\n",
    "def get_full_name(first_name, last_name):\n",
    "    full_name = f'{first_name} {last_name}'\n",
    "    return full_name #結果為一個字串\n",
    "\n",
    "get_full_name(first_name='Steven', last_name='Henry')"
   ]
  },
  {
   "cell_type": "code",
   "execution_count": null,
   "id": "81f7b182",
   "metadata": {},
   "outputs": [],
   "source": [
    "# return a tuple\n",
    "def get_full_name_2(first_name, last_name):\n",
    "    return (first_name, last_name)\n",
    "\n",
    "name = get_full_name_2('Steven', 'Henry')\n",
    "name[0]"
   ]
  },
  {
   "cell_type": "code",
   "execution_count": null,
   "id": "5b25ecc2",
   "metadata": {},
   "outputs": [],
   "source": [
    "name[1]"
   ]
  },
  {
   "cell_type": "code",
   "execution_count": null,
   "id": "3a042899",
   "metadata": {},
   "outputs": [],
   "source": [
    "def get_full_name_3(first_name,last_name):\n",
    "    return {'first_name':first_name, 'last_name':last_name}\n",
    "\n",
    "name = get_full_name_3('Steven','Henry')\n",
    "print(name['first_name'])"
   ]
  },
  {
   "cell_type": "code",
   "execution_count": null,
   "id": "212f49c3",
   "metadata": {},
   "outputs": [],
   "source": [
    "print(name['last_name'])"
   ]
  },
  {
   "cell_type": "markdown",
   "id": "fb458e58",
   "metadata": {},
   "source": [
    "### 練習: Album\n",
    "- 定義一個make_album()函數, 接受兩個參數: artist_name(代表音樂家名字), title(專輯名稱), 並且回傳一個dict, 包含這兩個資訊\n",
    "- 呼叫make_album(), 產生3個代表album的dict, 並且列印出來\n",
    "- 加入第三個參數, songs, 代表專輯內的歌曲數目, 預設值爲None\n",
    "- 若使用者有傳入songs, 則也把它加入到輸出的dict中"
   ]
  },
  {
   "cell_type": "code",
   "execution_count": null,
   "id": "5aa51ead",
   "metadata": {},
   "outputs": [],
   "source": [
    "# list 當作參數\n",
    "def greet_users(message, names):\n",
    "    for name in names:\n",
    "        print(f'{message},{name}')\n",
    "\n",
    "greet_users('Hello',['Margi','Bart','Butt','Henry'])"
   ]
  },
  {
   "cell_type": "code",
   "execution_count": null,
   "id": "af9e6ee9",
   "metadata": {},
   "outputs": [],
   "source": [
    "unconfirmed_users = ['Danny','Kenny','George','Malbo']\n",
    "confirmed_users=[]\n",
    "while unconfirmed_users:\n",
    "    user = unconfirmed_users.pop()\n",
    "    confirmed_users.append(user)\n",
    "print(confirmed_users)\n",
    "print(unconfirmed_users)"
   ]
  },
  {
   "cell_type": "code",
   "execution_count": null,
   "id": "cb5f3fd4",
   "metadata": {},
   "outputs": [],
   "source": [
    "def confirm(unconfirmed_users, confirmed_users):\n",
    "    while unconfirmed_users:\n",
    "        user = unconfirmed_users.pop()\n",
    "        confirmed_users.append(user)\n",
    "\n",
    "#呼叫\n",
    "unconfirmed_users = ['Danny','Kenny','George','Malbo']\n",
    "confirmed_users=[]\n",
    "confirm(unconfirmed_users, confirmed_users)\n",
    "print(confirmed_users)"
   ]
  },
  {
   "cell_type": "code",
   "execution_count": null,
   "id": "c23c372e",
   "metadata": {},
   "outputs": [],
   "source": [
    "def confirm2(unconfirmed_users):\n",
    "    confirmed_users = []\n",
    "    while unconfirmed_users:\n",
    "        user = unconfirmed_users.pop()\n",
    "        confirmed_users.append(user)\n",
    "    return confirmed_users\n",
    "\n",
    "unconfirmed_users = ['Danny','Kenny','George','Malbo']\n",
    "result = confirm2(unconfirmed_users)\n",
    "print(result)\n",
    "    "
   ]
  }
 ],
 "metadata": {
  "kernelspec": {
   "display_name": "Python 3 (ipykernel)",
   "language": "python",
   "name": "python3"
  },
  "language_info": {
   "codemirror_mode": {
    "name": "ipython",
    "version": 3
   },
   "file_extension": ".py",
   "mimetype": "text/x-python",
   "name": "python",
   "nbconvert_exporter": "python",
   "pygments_lexer": "ipython3",
   "version": "3.10.3"
  }
 },
 "nbformat": 4,
 "nbformat_minor": 5
}
