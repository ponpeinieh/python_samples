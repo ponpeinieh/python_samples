{
 "cells": [
  {
   "cell_type": "code",
   "execution_count": null,
   "id": "25fa189f",
   "metadata": {},
   "outputs": [],
   "source": [
    "# for each loop \n",
    "cars = ['toyota','suzuki','benz','honda']\n",
    "\n",
    "for car in cars:\n",
    "    print(car)\n",
    "    print('===')\n",
    "print('finish!') "
   ]
  },
  {
   "cell_type": "code",
   "execution_count": null,
   "id": "d5682156",
   "metadata": {},
   "outputs": [],
   "source": [
    "numbers = [20,45,66,78,11]\n",
    "sum = 0\n",
    "# summation\n",
    "for n in numbers:\n",
    "    sum = sum + n\n",
    "print(f'sum={sum}') "
   ]
  },
  {
   "cell_type": "code",
   "execution_count": null,
   "id": "58d72f49",
   "metadata": {},
   "outputs": [],
   "source": [
    "# summation of 1 to 10\n",
    "numbers = list(range(1,11))\n",
    "numbers\n"
   ]
  },
  {
   "cell_type": "code",
   "execution_count": null,
   "id": "4ce263b1",
   "metadata": {},
   "outputs": [],
   "source": [
    "sum=0\n",
    "for n in range(1,11):\n",
    "    sum=sum+n\n",
    "print(f'sum={sum}')"
   ]
  },
  {
   "cell_type": "code",
   "execution_count": null,
   "id": "5bfebdf5",
   "metadata": {},
   "outputs": [],
   "source": [
    "nums = list(range(0,11,3))\n",
    "print(max(nums))\n",
    "print(min(nums))"
   ]
  },
  {
   "cell_type": "code",
   "execution_count": null,
   "id": "ce2a29f5",
   "metadata": {},
   "outputs": [],
   "source": [
    "# generate square values from 1 to 10\n",
    "squares=[]\n",
    "for n in range(1,11):\n",
    "    squares.append(n**2)\n",
    "print(squares)"
   ]
  },
  {
   "cell_type": "code",
   "execution_count": null,
   "id": "fc936bcc",
   "metadata": {},
   "outputs": [],
   "source": [
    "# list comprehension(列表理解語法)\n",
    "squares = [n**2 for n in range(1,11)]\n",
    "print(squares)"
   ]
  },
  {
   "cell_type": "code",
   "execution_count": null,
   "id": "f8a50d3b",
   "metadata": {},
   "outputs": [],
   "source": [
    "# slice \n",
    "cars = ['toyota','suzuki','benz','honda']\n",
    "print(cars[1:3])\n",
    "print(cars[:3])\n",
    "print(cars[1:])\n",
    "print(cars[::])\n",
    "copy = cars[:]\n",
    "print(copy)\n",
    "copy[0]='mozda'\n",
    "print(copy)\n",
    "print(cars)"
   ]
  },
  {
   "cell_type": "code",
   "execution_count": null,
   "id": "412fcfc7",
   "metadata": {},
   "outputs": [],
   "source": [
    "# tuple (immutable list)\n",
    "dimensions = (10,40,20)\n",
    "print(dimensions)"
   ]
  },
  {
   "cell_type": "code",
   "execution_count": null,
   "id": "ae3676d9",
   "metadata": {},
   "outputs": [],
   "source": [
    "# access elements\n",
    "dimensions[0] # indices from 0 to len(dimensions)-1"
   ]
  },
  {
   "cell_type": "code",
   "execution_count": null,
   "id": "c5e9b129",
   "metadata": {},
   "outputs": [],
   "source": [
    "dimensions[-1]"
   ]
  },
  {
   "cell_type": "code",
   "execution_count": null,
   "id": "a8be0bd6",
   "metadata": {},
   "outputs": [],
   "source": [
    "dimensions[len(dimensions)-1]"
   ]
  },
  {
   "cell_type": "code",
   "execution_count": null,
   "id": "7d42b4ae",
   "metadata": {},
   "outputs": [],
   "source": [
    "colors = ('red','blue',)\n",
    "print(colors)"
   ]
  },
  {
   "cell_type": "code",
   "execution_count": null,
   "id": "74e7b5b3",
   "metadata": {},
   "outputs": [],
   "source": [
    "colors = 'red','blue'\n",
    "print(colors)"
   ]
  },
  {
   "cell_type": "code",
   "execution_count": null,
   "id": "3339ec92",
   "metadata": {},
   "outputs": [],
   "source": [
    "sizes = (10,)\n",
    "sizes"
   ]
  },
  {
   "cell_type": "code",
   "execution_count": null,
   "id": "f669ea0b",
   "metadata": {},
   "outputs": [],
   "source": [
    "print(type(sizes))\n",
    "sizes[0] = 20 #immutable"
   ]
  },
  {
   "cell_type": "code",
   "execution_count": null,
   "id": "abb8ce86",
   "metadata": {},
   "outputs": [],
   "source": [
    "# tuple to list\n",
    "# list to tuple\n",
    "colors = ('red','blue',)\n",
    "colors_list = list(colors)\n",
    "print(type(colors_list))\n",
    "colors_tuple = tuple(colors_list)\n",
    "print(type(colors_tuple))\n"
   ]
  },
  {
   "cell_type": "code",
   "execution_count": null,
   "id": "a8158861",
   "metadata": {},
   "outputs": [],
   "source": [
    "\n",
    "colors =['red','blue']\n",
    "# advanced usage of list, tuple, range (sequence)\n",
    "print('red' in colors)\n",
    "print('black' in colors)\n",
    "print('black' not in colors)"
   ]
  },
  {
   "cell_type": "code",
   "execution_count": null,
   "id": "95c1e07e",
   "metadata": {},
   "outputs": [],
   "source": [
    "colors2 = ['yellow','brown','purple']\n",
    "colors_combinded = colors + colors2\n",
    "print(colors_combinded)"
   ]
  },
  {
   "cell_type": "code",
   "execution_count": null,
   "id": "22f786ad",
   "metadata": {},
   "outputs": [],
   "source": [
    "print(colors * 5)"
   ]
  },
  {
   "cell_type": "code",
   "execution_count": null,
   "id": "05d07703",
   "metadata": {},
   "outputs": [],
   "source": [
    "print(colors_combinded[colors_combinded.index('brown')])"
   ]
  },
  {
   "cell_type": "code",
   "execution_count": null,
   "id": "1d55037a",
   "metadata": {},
   "outputs": [],
   "source": [
    "import random \n",
    "random_nums = [ random.randint(1,10) for n in range(100)]\n",
    "print(random_nums)\n",
    "print(random_nums.count(9))"
   ]
  },
  {
   "cell_type": "code",
   "execution_count": null,
   "id": "778e72ec",
   "metadata": {},
   "outputs": [],
   "source": [
    "j=0\n",
    "times = random_nums.count(9)\n",
    "for i in range(times):\n",
    "    pos = random_nums.index(9,j)\n",
    "    print(pos)\n",
    "    j=pos+1"
   ]
  },
  {
   "cell_type": "code",
   "execution_count": null,
   "id": "f524c295",
   "metadata": {},
   "outputs": [],
   "source": [
    "r = range(1,1001)\n",
    "print(type(r))\n",
    "for n in list(range(1,1001)):\n",
    "    print(n)"
   ]
  }
 ],
 "metadata": {
  "kernelspec": {
   "display_name": "Python 3 (ipykernel)",
   "language": "python",
   "name": "python3"
  },
  "language_info": {
   "codemirror_mode": {
    "name": "ipython",
    "version": 3
   },
   "file_extension": ".py",
   "mimetype": "text/x-python",
   "name": "python",
   "nbconvert_exporter": "python",
   "pygments_lexer": "ipython3",
   "version": "3.10.5"
  }
 },
 "nbformat": 4,
 "nbformat_minor": 5
}
